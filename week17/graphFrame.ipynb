{
 "cells": [
  {
   "cell_type": "code",
   "execution_count": 1,
   "metadata": {},
   "outputs": [
    {
     "data": {
      "text/html": [
       "<style>.container { width:100% !important; }</style>"
      ],
      "text/plain": [
       "<IPython.core.display.HTML object>"
      ]
     },
     "metadata": {},
     "output_type": "display_data"
    }
   ],
   "source": [
    "from IPython.core.display import display, HTML\n",
    "display(HTML(\"<style>.container { width:100% !important; }</style>\"))"
   ]
  },
  {
   "cell_type": "markdown",
   "metadata": {},
   "source": [
    "### 30. GraphFrame \n",
    "* edge와 node (또는 vertex) 로 구성된 그래프 데이터 구조를 표현하기 위한 객체로 \n",
    "* edge에 대한 속성을 담은 데이터 프레임과 node 의 속성을 담은 데이터 프레임 2개로 구성됨 \n",
    "* fraud 에서 계좌간의 거래 속성을 표현하거나, pagerank 에서 페이지 간의 관계를 파악하거나, 친구관계를 분석할 때 그래프로 표현하고 계산하는 것이 적합할 수 있음\n",
    "* Spark의 GraphFrame 은 GraphX 를 확장하여 DataFrame API 를 제공하고 여러 언어를 지원함"
   ]
  },
  {
   "cell_type": "markdown",
   "metadata": {},
   "source": [
    "### 30.1 GraphFrame 만들기 \n",
    "#### 30.1.1 Load Data\n",
    "* vertex/node (기차역) 과 edge (출발 기차역 -> 도착 기차역의 관계) 의 속성을 담은 두개의 데이터 프레임을 로드함 "
   ]
  },
  {
   "cell_type": "code",
   "execution_count": 2,
   "metadata": {
    "collapsed": true,
    "scrolled": true
   },
   "outputs": [],
   "source": [
    "bikeStations = spark.read.option(\"header\",\"true\").csv(\"/Users/tuhm/Documents/Git_repo/Spark-The-Definitive-Guide/data/bike-data/201508_station_data.csv\")\n",
    "tripData = spark.read.option(\"header\",\"true\").csv(\"/Users/tuhm/Documents/Git_repo/Spark-The-Definitive-Guide/data/bike-data/201508_trip_data.csv\")\n"
   ]
  },
  {
   "cell_type": "markdown",
   "metadata": {},
   "source": [
    "#### 30.1.2 Column Rename\n",
    "GraphFrame 에서 제시하는 컬럼 명명 규칙을 따르기 위해 rename\n",
    "* vertex/node 는 식별자를 id 로 정의하고 edge는 src (시작 node id), 와 dst (도착 node id) 를 가져야 한다"
   ]
  },
  {
   "cell_type": "code",
   "execution_count": 3,
   "metadata": {
    "collapsed": true
   },
   "outputs": [],
   "source": [
    "stationVertices = bikeStations.withColumnRenamed(\"name\", \"id\").distinct()\n",
    "tripEdges = tripData.withColumnRenamed(\"Start Station\", \"src\").withColumnRenamed(\"End Station\", \"dst\")\n"
   ]
  },
  {
   "cell_type": "code",
   "execution_count": 4,
   "metadata": {},
   "outputs": [
    {
     "name": "stdout",
     "output_type": "stream",
     "text": [
      "+----------+--------------------+---------+-----------+---------+-------------+------------+\n",
      "|station_id|                  id|      lat|       long|dockcount|     landmark|installation|\n",
      "+----------+--------------------+---------+-----------+---------+-------------+------------+\n",
      "|        51|Embarcadero at Fo...|37.791464|-122.391034|       19|San Francisco|   8/20/2013|\n",
      "|        58|San Francisco Cit...| 37.77865|-122.418235|       19|San Francisco|   8/21/2013|\n",
      "|        60|Embarcadero at Sa...| 37.80477|-122.403234|       15|San Francisco|   8/21/2013|\n",
      "|        65|     Townsend at 7th|37.771058|-122.402717|       15|San Francisco|   8/22/2013|\n",
      "|        63|       Howard at 2nd|37.786978|-122.398108|       19|San Francisco|   8/22/2013|\n",
      "+----------+--------------------+---------+-----------+---------+-------------+------------+\n",
      "only showing top 5 rows\n",
      "\n"
     ]
    }
   ],
   "source": [
    "stationVertices.show(5)"
   ]
  },
  {
   "cell_type": "code",
   "execution_count": 5,
   "metadata": {},
   "outputs": [
    {
     "name": "stdout",
     "output_type": "stream",
     "text": [
      "+-------+--------+---------------+--------------------+--------------+---------------+--------------------+------------+------+---------------+--------+\n",
      "|Trip ID|Duration|     Start Date|                 src|Start Terminal|       End Date|                 dst|End Terminal|Bike #|Subscriber Type|Zip Code|\n",
      "+-------+--------+---------------+--------------------+--------------+---------------+--------------------+------------+------+---------------+--------+\n",
      "| 913460|     765|8/31/2015 23:26|Harry Bridges Pla...|            50|8/31/2015 23:39|San Francisco Cal...|          70|   288|     Subscriber|    2139|\n",
      "| 913459|    1036|8/31/2015 23:11|San Antonio Shopp...|            31|8/31/2015 23:28|Mountain View Cit...|          27|    35|     Subscriber|   95032|\n",
      "| 913455|     307|8/31/2015 23:13|      Post at Kearny|            47|8/31/2015 23:18|   2nd at South Park|          64|   468|     Subscriber|   94107|\n",
      "| 913454|     409|8/31/2015 23:10|  San Jose City Hall|            10|8/31/2015 23:17| San Salvador at 1st|           8|    68|     Subscriber|   95113|\n",
      "| 913453|     789|8/31/2015 23:09|Embarcadero at Fo...|            51|8/31/2015 23:22|Embarcadero at Sa...|          60|   487|       Customer|    9069|\n",
      "+-------+--------+---------------+--------------------+--------------+---------------+--------------------+------------+------+---------------+--------+\n",
      "only showing top 5 rows\n",
      "\n"
     ]
    }
   ],
   "source": [
    "tripEdges.show(5)"
   ]
  },
  {
   "cell_type": "markdown",
   "metadata": {},
   "source": [
    "#### 30.1.3. Create GraphFrame\n",
    "pyspark 실행시 아래의 커맨드로 실행시켜야 라이브러리를 로드할 수 있음 (!주의! 스파크 버전 (spark3.1) 과 scala 버전 (s_2.12) 를 확인하여 적절한 것으로 로드)\n",
    "> $ ./bin/pyspark --packages graphframes:graphframes:0.8.0-spark3.1-s_2.12"
   ]
  },
  {
   "cell_type": "code",
   "execution_count": 6,
   "metadata": {
    "scrolled": true
   },
   "outputs": [
    {
     "data": {
      "text/plain": [
       "GraphFrame(v:[id: string, station_id: string ... 5 more fields], e:[src: string, dst: string ... 9 more fields])"
      ]
     },
     "execution_count": 6,
     "metadata": {},
     "output_type": "execute_result"
    }
   ],
   "source": [
    "from graphframes import GraphFrame\n",
    "stationGraph = GraphFrame(stationVertices, tripEdges)\n",
    "stationGraph.cache()\n"
   ]
  },
  {
   "cell_type": "markdown",
   "metadata": {},
   "source": [
    "GraphFrame 은 두개의 DataFrame 을 가지고 있다고 생각하면 됨 \n",
    "* .vertices 로 접근할 수 있는 vertex/node (정점) 에 대한 dataframe \n",
    "* .edges 로 접근할 수 있는 edge 에 대한 dataframe "
   ]
  },
  {
   "cell_type": "code",
   "execution_count": 7,
   "metadata": {},
   "outputs": [
    {
     "name": "stdout",
     "output_type": "stream",
     "text": [
      "+----------+--------------------+---------+-----------+---------+-------------+------------+\n",
      "|station_id|                  id|      lat|       long|dockcount|     landmark|installation|\n",
      "+----------+--------------------+---------+-----------+---------+-------------+------------+\n",
      "|        51|Embarcadero at Fo...|37.791464|-122.391034|       19|San Francisco|   8/20/2013|\n",
      "|        58|San Francisco Cit...| 37.77865|-122.418235|       19|San Francisco|   8/21/2013|\n",
      "|        60|Embarcadero at Sa...| 37.80477|-122.403234|       15|San Francisco|   8/21/2013|\n",
      "|        65|     Townsend at 7th|37.771058|-122.402717|       15|San Francisco|   8/22/2013|\n",
      "|        63|       Howard at 2nd|37.786978|-122.398108|       19|San Francisco|   8/22/2013|\n",
      "+----------+--------------------+---------+-----------+---------+-------------+------------+\n",
      "only showing top 5 rows\n",
      "\n"
     ]
    }
   ],
   "source": [
    "stationGraph.vertices.show(5)"
   ]
  },
  {
   "cell_type": "code",
   "execution_count": 8,
   "metadata": {},
   "outputs": [
    {
     "name": "stdout",
     "output_type": "stream",
     "text": [
      "+-------+--------+---------------+--------------------+--------------+---------------+--------------------+------------+------+---------------+--------+\n",
      "|Trip ID|Duration|     Start Date|                 src|Start Terminal|       End Date|                 dst|End Terminal|Bike #|Subscriber Type|Zip Code|\n",
      "+-------+--------+---------------+--------------------+--------------+---------------+--------------------+------------+------+---------------+--------+\n",
      "| 913460|     765|8/31/2015 23:26|Harry Bridges Pla...|            50|8/31/2015 23:39|San Francisco Cal...|          70|   288|     Subscriber|    2139|\n",
      "| 913459|    1036|8/31/2015 23:11|San Antonio Shopp...|            31|8/31/2015 23:28|Mountain View Cit...|          27|    35|     Subscriber|   95032|\n",
      "| 913455|     307|8/31/2015 23:13|      Post at Kearny|            47|8/31/2015 23:18|   2nd at South Park|          64|   468|     Subscriber|   94107|\n",
      "| 913454|     409|8/31/2015 23:10|  San Jose City Hall|            10|8/31/2015 23:17| San Salvador at 1st|           8|    68|     Subscriber|   95113|\n",
      "| 913453|     789|8/31/2015 23:09|Embarcadero at Fo...|            51|8/31/2015 23:22|Embarcadero at Sa...|          60|   487|       Customer|    9069|\n",
      "+-------+--------+---------------+--------------------+--------------+---------------+--------------------+------------+------+---------------+--------+\n",
      "only showing top 5 rows\n",
      "\n"
     ]
    }
   ],
   "source": [
    "stationGraph.edges.show(5)"
   ]
  },
  {
   "cell_type": "markdown",
   "metadata": {},
   "source": [
    "### 30.2 GraphFrame 쿼리하기 \n",
    "두개의 데이터 프레임을 품고 있기 때문에 각각을 access해서 DataFrame 에 수행할 수 있는 모든 쿼리를 수행할 수 있음 \n",
    "* groupby count on stationGraph.edges\n",
    "* filter(where) and groupby count on stationGraph.edges"
   ]
  },
  {
   "cell_type": "code",
   "execution_count": 35,
   "metadata": {},
   "outputs": [
    {
     "name": "stdout",
     "output_type": "stream",
     "text": [
      "+---------------------------------------------+----------------------------------------+-----+\n",
      "|src                                          |dst                                     |count|\n",
      "+---------------------------------------------+----------------------------------------+-----+\n",
      "|San Francisco Caltrain 2 (330 Townsend)      |Townsend at 7th                         |3748 |\n",
      "|Harry Bridges Plaza (Ferry Building)         |Embarcadero at Sansome                  |3145 |\n",
      "|2nd at Townsend                              |Harry Bridges Plaza (Ferry Building)    |2973 |\n",
      "|Townsend at 7th                              |San Francisco Caltrain 2 (330 Townsend) |2734 |\n",
      "|Harry Bridges Plaza (Ferry Building)         |2nd at Townsend                         |2640 |\n",
      "|Embarcadero at Folsom                        |San Francisco Caltrain (Townsend at 4th)|2439 |\n",
      "|Steuart at Market                            |2nd at Townsend                         |2356 |\n",
      "|Embarcadero at Sansome                       |Steuart at Market                       |2330 |\n",
      "|Townsend at 7th                              |San Francisco Caltrain (Townsend at 4th)|2192 |\n",
      "|Temporary Transbay Terminal (Howard at Beale)|San Francisco Caltrain (Townsend at 4th)|2184 |\n",
      "+---------------------------------------------+----------------------------------------+-----+\n",
      "only showing top 10 rows\n",
      "\n"
     ]
    }
   ],
   "source": [
    "from pyspark.sql.functions import desc\n",
    "stationGraph.edges.groupBy(\"src\", \"dst\").count().orderBy(desc(\"count\")).show(10, False)"
   ]
  },
  {
   "cell_type": "code",
   "execution_count": 42,
   "metadata": {
    "scrolled": true
   },
   "outputs": [
    {
     "name": "stdout",
     "output_type": "stream",
     "text": [
      "+---------------------------------------------+---------------------------------------------+-----+\n",
      "|src                                          |dst                                          |count|\n",
      "+---------------------------------------------+---------------------------------------------+-----+\n",
      "|San Francisco Caltrain 2 (330 Townsend)      |Townsend at 7th                              |3748 |\n",
      "|Townsend at 7th                              |San Francisco Caltrain 2 (330 Townsend)      |2734 |\n",
      "|Townsend at 7th                              |San Francisco Caltrain (Townsend at 4th)     |2192 |\n",
      "|Townsend at 7th                              |Civic Center BART (7th at Market)            |1844 |\n",
      "|Civic Center BART (7th at Market)            |Townsend at 7th                              |1765 |\n",
      "|San Francisco Caltrain (Townsend at 4th)     |Townsend at 7th                              |1198 |\n",
      "|Temporary Transbay Terminal (Howard at Beale)|Townsend at 7th                              |834  |\n",
      "|Townsend at 7th                              |Harry Bridges Plaza (Ferry Building)         |827  |\n",
      "|Steuart at Market                            |Townsend at 7th                              |746  |\n",
      "|Townsend at 7th                              |Temporary Transbay Terminal (Howard at Beale)|740  |\n",
      "+---------------------------------------------+---------------------------------------------+-----+\n",
      "only showing top 10 rows\n",
      "\n"
     ]
    }
   ],
   "source": [
    "stationGraph.edges.where(\"src = 'Townsend at 7th' OR dst = 'Townsend at 7th'\").groupBy(\"src\", \"dst\").count().orderBy(desc(\"count\")).show(10, False)\n"
   ]
  },
  {
   "cell_type": "markdown",
   "metadata": {},
   "source": [
    "#### 30.2.1 서브 그래프\n",
    "* edge 또는 node 에 해당하는 DataFrame 을 where 조건으로 필터링 해서 새로운 GraphFrame 을 만듬 \n",
    "* 부분집합으로 구성하기 때문에 서브 그래프라고 부름"
   ]
  },
  {
   "cell_type": "code",
   "execution_count": 11,
   "metadata": {
    "collapsed": true
   },
   "outputs": [],
   "source": [
    "townAnd7thEdges = stationGraph.edges.where(\"src = 'Townsend at 7th' OR dst = 'Townsend at 7th'\")\n",
    "subgraph = GraphFrame(stationGraph.vertices, townAnd7thEdges)\n"
   ]
  },
  {
   "cell_type": "markdown",
   "metadata": {},
   "source": [
    "### 30.3 모티브 찾기 "
   ]
  },
  {
   "cell_type": "markdown",
   "metadata": {},
   "source": [
    "* 모티브란 구조적 패턴을 그래프로 표현하는 것을 말함 (예: a->b->c->a 로 이어지는 삼각형 패턴을 형성하는 path 를 찾기)\n",
    "* GraphFrame 을 DataFrame 취급하여, Neo4J의 Cypher 언어를 활용한 (특이한) 쿼리가 가능\n",
    "* (a)-[ab]->(b) : node (a) 에서 edge[ab] 를 통해 node (b)로 감 \n",
    "    ** 결과에 반환할 이름으로 a, b 를 지정하는 것이지 (a)-[]->(b) 도 가능"
   ]
  },
  {
   "cell_type": "code",
   "execution_count": 12,
   "metadata": {
    "collapsed": true
   },
   "outputs": [],
   "source": [
    "#motifs = stationGraph.find(\"(a)-[ab]->(b); (b)-[bc]->(c); (c)-[ca]->(a)\") : local 에서 너무 오래 걸림\n",
    "motifs = stationGraph.find(\"(a)-[ab]->(b); (b)-[ba]->(a)\")"
   ]
  },
  {
   "cell_type": "code",
   "execution_count": 31,
   "metadata": {},
   "outputs": [
    {
     "name": "stdout",
     "output_type": "stream",
     "text": [
      "254170794\n"
     ]
    }
   ],
   "source": [
    "print(motifs.count())"
   ]
  },
  {
   "cell_type": "code",
   "execution_count": 28,
   "metadata": {},
   "outputs": [
    {
     "name": "stdout",
     "output_type": "stream",
     "text": [
      "+--------------------+--------------------+--------------------+--------------------+\n",
      "|                   a|                  ab|                   b|                  ba|\n",
      "+--------------------+--------------------+--------------------+--------------------+\n",
      "|{70, San Francisc...|{912347, 550, 8/3...|{62, 2nd at Folso...|{913046, 309, 8/3...|\n",
      "|{70, San Francisc...|{912347, 550, 8/3...|{62, 2nd at Folso...|{912792, 509, 8/3...|\n",
      "|{70, San Francisc...|{912347, 550, 8/3...|{62, 2nd at Folso...|{912751, 360, 8/3...|\n",
      "|{70, San Francisc...|{912347, 550, 8/3...|{62, 2nd at Folso...|{911828, 525, 8/3...|\n",
      "|{70, San Francisc...|{912347, 550, 8/3...|{62, 2nd at Folso...|{911390, 711, 8/3...|\n",
      "+--------------------+--------------------+--------------------+--------------------+\n",
      "only showing top 5 rows\n",
      "\n"
     ]
    }
   ],
   "source": [
    "motifs.show(5)"
   ]
  },
  {
   "cell_type": "code",
   "execution_count": 47,
   "metadata": {},
   "outputs": [
    {
     "name": "stdout",
     "output_type": "stream",
     "text": [
      "+---------------------------------------------------------------------------------------------------+--------+\n",
      "|a                                                                                                  |count   |\n",
      "+---------------------------------------------------------------------------------------------------+--------+\n",
      "|{70, San Francisco Caltrain (Townsend at 4th), 37.776617, -122.39526, 19, San Francisco, 8/23/2013}|34942229|\n",
      "|{69, San Francisco Caltrain 2 (330 Townsend), 37.7766, -122.39547, 23, San Francisco, 8/23/2013}   |27495219|\n",
      "|{50, Harry Bridges Plaza (Ferry Building), 37.795392, -122.394203, 23, San Francisco, 8/20/2013}   |22037787|\n",
      "+---------------------------------------------------------------------------------------------------+--------+\n",
      "only showing top 3 rows\n",
      "\n"
     ]
    }
   ],
   "source": [
    "motifs.groupby(\"a\").count().orderBy(desc(\"count\")).show(3, False)"
   ]
  },
  {
   "cell_type": "markdown",
   "metadata": {},
   "source": [
    "#### 이 자체로 데이터 프레임이기 때문에 여러가지 쿼리가 가능함 (아래는 a에서 b, c 그리고 a로 이동한 가장 짧은 경로를 찾게 됨)\n",
    "\n",
    "또한 거의 반드시 모티브에서 반환한 결과를 필터링 해야 함 (동일한 정점 ID 가 여러개 있는 경우 등) \n",
    "* 동일한 자전거로 이동한 경로만 추출(``.where(\"ca.`Bike #` = bc.`Bike #`\").where(\"ab.`Bike #` = bc.`Bike #`\")``)\n",
    "* a와 b, c 가 서로 다른 지점인지 (`.where(\"a.id != b.id\").where(\"b.id != c.id\")`)\n",
    "* 이동 순서가 a 에서 b, b에서 c 로 가는지(`.where(\"abStart < bcStart\").where(\"bcStart < caStart\")`)"
   ]
  },
  {
   "cell_type": "code",
   "execution_count": 53,
   "metadata": {},
   "outputs": [
    {
     "name": "stdout",
     "output_type": "stream",
     "text": [
      "+--------------------+--------------------+--------------------+--------------------+-------------------+-------------------+\n",
      "|                   a|                  ab|                   b|                  ba|            abStart|            baStart|\n",
      "+--------------------+--------------------+--------------------+--------------------+-------------------+-------------------+\n",
      "|{65, Townsend at ...|{848055, 78, 7/15...|{64, 2nd at South...|{848088, 782, 7/1...|2015-07-15 16:57:00|2015-07-15 16:59:00|\n",
      "+--------------------+--------------------+--------------------+--------------------+-------------------+-------------------+\n",
      "\n"
     ]
    }
   ],
   "source": [
    "from pyspark.sql.functions import expr\n",
    "spark.conf.set(\"spark.sql.legacy.timeParserPolicy\",\"LEGACY\")\n",
    "\n",
    "motifs.selectExpr(\"*\",\n",
    "    \"to_timestamp(ab.`Start Date`, 'MM/dd/yyyy HH:mm') as abStart\",\n",
    "    \"to_timestamp(ba.`Start Date`, 'MM/dd/yyyy HH:mm') as baStart\").where(\n",
    "    \"ab.`Bike #` = ba.`Bike #`\").where(\n",
    "    \"a.id != b.id\").where(\n",
    "    \"abStart < baStart\").orderBy(\n",
    "    expr(\"cast(baStart as long) - cast(abStart as long)\")).limit(1).show(1)\n"
   ]
  },
  {
   "cell_type": "code",
   "execution_count": 54,
   "metadata": {},
   "outputs": [
    {
     "name": "stdout",
     "output_type": "stream",
     "text": [
      "+--------------------+--------------------+--------------------+--------------------+-------------------+-------------------+\n",
      "|                   a|                  ab|                   b|                  ba|            abStart|            baStart|\n",
      "+--------------------+--------------------+--------------------+--------------------+-------------------+-------------------+\n",
      "|{60, Embarcadero ...|{433064, 1023, 9/...|{74, Steuart at M...|{911831, 338, 8/3...|2014-09-01 11:34:00|2015-08-31 08:01:00|\n",
      "+--------------------+--------------------+--------------------+--------------------+-------------------+-------------------+\n",
      "\n"
     ]
    }
   ],
   "source": [
    "motifs.selectExpr(\"*\",\n",
    "    \"to_timestamp(ab.`Start Date`, 'MM/dd/yyyy HH:mm') as abStart\",\n",
    "    \"to_timestamp(ba.`Start Date`, 'MM/dd/yyyy HH:mm') as baStart\").where(\n",
    "    \"ab.`Bike #` = ba.`Bike #`\").where(\n",
    "    \"a.id != b.id\").where(\n",
    "    \"abStart < baStart\").orderBy( # 가장 오랜시간이 걸린 path 를 찾기\n",
    "    desc(expr(\"cast(baStart as long) - cast(abStart as long)\"))).limit(1).show(1)\n"
   ]
  },
  {
   "cell_type": "markdown",
   "metadata": {},
   "source": [
    "### 30.4 그래프에 적용할 수 있는 알고리즘 "
   ]
  },
  {
   "cell_type": "markdown",
   "metadata": {},
   "source": [
    "#### 30.4.1 페이지 랭크\n",
    "* 웹페이지의 순위를 정하는 알고리즘으로,\n",
    "* 다른 웹페이지에 많이 링크되어 있을 경우 더 중요하다고 판단함 \n",
    "* 자전거 path 데이터에 적용해보면 자전거가 많이 거쳐가는 지점이 더 중요하다고 볼 수 있으며, 친구 관계에서는 메세지를 많이 주고받는 유저가 상위에 랭크될 수 있다\n",
    "\n",
    "페이지 랭크 메쏘드의 결과로는 GraphFrame 이 반환되어 여기에 `.vertices` 나 `.edges` 로 access할 수 있고, 새롭게 pagerank 라는 컬럼이 생성됨 "
   ]
  },
  {
   "cell_type": "code",
   "execution_count": 55,
   "metadata": {},
   "outputs": [
    {
     "name": "stdout",
     "output_type": "stream",
     "text": [
      "+--------------------+------------------+\n",
      "|                  id|          pagerank|\n",
      "+--------------------+------------------+\n",
      "|San Jose Diridon ...| 4.051504835990019|\n",
      "|San Francisco Cal...|3.3511832964286965|\n",
      "|Mountain View Cal...|2.5143907710155435|\n",
      "|Redwood City Calt...| 2.326308771371171|\n",
      "|San Francisco Cal...| 2.231144291369883|\n",
      "|Harry Bridges Pla...|1.8251120118882473|\n",
      "|     2nd at Townsend|1.5821217785038688|\n",
      "|Santa Clara at Al...|1.5730074084907584|\n",
      "|     Townsend at 7th|1.5684565805340545|\n",
      "|Embarcadero at Sa...|1.5414242087748589|\n",
      "+--------------------+------------------+\n",
      "only showing top 10 rows\n",
      "\n"
     ]
    }
   ],
   "source": [
    "from pyspark.sql.functions import desc\n",
    "ranks = stationGraph.pageRank(resetProbability=0.15, maxIter=10)\n",
    "\n",
    "ranks.vertices.orderBy(desc(\"pagerank\")).select(\"id\", \"pagerank\").show(10)\n"
   ]
  },
  {
   "cell_type": "markdown",
   "metadata": {},
   "source": [
    "#### 30.4.2 In-Degree와 Out-Degree\n",
    "* In-Degree: 주어진 지점 (node) 를 도착점(dst) 으로 갖는 edge 갯수 \n",
    "* Out-Degree: 주어진 지점 (node) 를 출발점(src) 로 갖는 edge 갯수\n",
    "* Social network 에서는 특정 유저의 follower 수는 In-Degree 가 되고, following 수는 Out-Degree가 됨 "
   ]
  },
  {
   "cell_type": "code",
   "execution_count": 56,
   "metadata": {},
   "outputs": [
    {
     "name": "stdout",
     "output_type": "stream",
     "text": [
      "+----------------------------------------+--------+\n",
      "|id                                      |inDegree|\n",
      "+----------------------------------------+--------+\n",
      "|San Francisco Caltrain (Townsend at 4th)|34810   |\n",
      "|San Francisco Caltrain 2 (330 Townsend) |22523   |\n",
      "|Harry Bridges Plaza (Ferry Building)    |17810   |\n",
      "|2nd at Townsend                         |15463   |\n",
      "|Townsend at 7th                         |15422   |\n",
      "+----------------------------------------+--------+\n",
      "only showing top 5 rows\n",
      "\n"
     ]
    }
   ],
   "source": [
    "inDeg = stationGraph.inDegrees\n",
    "inDeg.orderBy(desc(\"inDegree\")).show(5, False)\n"
   ]
  },
  {
   "cell_type": "code",
   "execution_count": 57,
   "metadata": {},
   "outputs": [
    {
     "name": "stdout",
     "output_type": "stream",
     "text": [
      "+---------------------------------------------+---------+\n",
      "|id                                           |outDegree|\n",
      "+---------------------------------------------+---------+\n",
      "|San Francisco Caltrain (Townsend at 4th)     |26304    |\n",
      "|San Francisco Caltrain 2 (330 Townsend)      |21758    |\n",
      "|Harry Bridges Plaza (Ferry Building)         |17255    |\n",
      "|Temporary Transbay Terminal (Howard at Beale)|14436    |\n",
      "|Embarcadero at Sansome                       |14158    |\n",
      "+---------------------------------------------+---------+\n",
      "only showing top 5 rows\n",
      "\n"
     ]
    }
   ],
   "source": [
    "outDeg = stationGraph.outDegrees\n",
    "outDeg.orderBy(desc(\"outDegree\")).show(5, False)\n"
   ]
  },
  {
   "cell_type": "markdown",
   "metadata": {},
   "source": [
    "두 값의 비율로, following 수 대비 follower 수가 많은 비율을 구해볼 수 있음 (인기 많은 유저 or influencer)"
   ]
  },
  {
   "cell_type": "code",
   "execution_count": 58,
   "metadata": {},
   "outputs": [
    {
     "name": "stdout",
     "output_type": "stream",
     "text": [
      "+----------------------------------------+------------------+\n",
      "|id                                      |degreeRatio       |\n",
      "+----------------------------------------+------------------+\n",
      "|Redwood City Medical Center             |1.5333333333333334|\n",
      "|San Mateo County Center                 |1.4724409448818898|\n",
      "|SJSU 4th at San Carlos                  |1.3621052631578947|\n",
      "|San Francisco Caltrain (Townsend at 4th)|1.3233728710462287|\n",
      "|Washington at Kearny                    |1.3086466165413533|\n",
      "|Paseo de San Antonio                    |1.2535046728971964|\n",
      "|California Ave Caltrain Station         |1.24              |\n",
      "|Franklin at Maple                       |1.2345679012345678|\n",
      "|Embarcadero at Vallejo                  |1.2201707365495336|\n",
      "|Market at Sansome                       |1.2173913043478262|\n",
      "+----------------------------------------+------------------+\n",
      "only showing top 10 rows\n",
      "\n"
     ]
    }
   ],
   "source": [
    "degreeRatio = inDeg.join(outDeg, \"id\")\\\n",
    "  .selectExpr(\"id\", \"double(inDegree)/double(outDegree) as degreeRatio\")\n",
    "degreeRatio.orderBy(desc(\"degreeRatio\")).show(10, False)"
   ]
  },
  {
   "cell_type": "markdown",
   "metadata": {},
   "source": [
    "#### 30.4.3 너비 우선 탐색 (Breath-First Search)\n",
    "\n",
    "* 두개의 노드 (fromExpr, toExpr) 를 연결하는 edge 의 조합을 탐색하는 방법으로, BFS를 통해 가장 짧은 (edge의 수가 적은) path 를 찾을 수 있음\n",
    "    - maxPathLength = 최대로 갖을 수 있는 에지의 수 \n",
    "    - edgeFilter: 조건에 맞지 않는 에지를 필터링\n",
    "* BFS를 통해 찾은 가장 짧은 path 가 edge 3개의 조합이라면, 아래의 형태로 DataFrame 이 return 됨 (중간에 거쳐가는 지점이 v1과 v2) \n",
    "> from | e0 | v1 | e1 | v2 | e2 | to\n",
    "* maxPathLength 에 도달할 때까지 from, to 조건을 충족하는 path를 찾지 못하면 아무것도 return 되지 않고, length 가 동일한 path 가 여럿 발견되면 모두 return 됨  \n",
    "* ref: https://graphframes.github.io/graphframes/docs/_site/api/scala/org/graphframes/lib/BFS.html\n",
    "\n",
    "##### Breath-First Search 란\n",
    "* Depth-First 에 대비되는 개념으로 시작점 (a) 라고 할 때, level=1, 시작점 (a) 에 연결된 노드 (b1, b2, b3...) (level=2)를 전부 탐색하고 나서 그다음 단계 (level=3)로 넘어감 \n",
    "* Depth-First Search 에서는 시작점 (a) 에서 연결된 노드 하나 (b1)를 찾고 난 뒤, (b1) 와 연결된 노드, (...) 로 더이상 연결된 노드가 없을 때까지 다 탐색하고 난뒤, (a) 와 연결된 다른 노드 (b2) 로 넘어감\n"
   ]
  },
  {
   "cell_type": "code",
   "execution_count": 63,
   "metadata": {},
   "outputs": [
    {
     "name": "stdout",
     "output_type": "stream",
     "text": [
      "+--------------------+--------------------+--------------------+\n",
      "|                from|                  e0|                  to|\n",
      "+--------------------+--------------------+--------------------+\n",
      "|{65, Townsend at ...|{903824, 985, 8/2...|{48, Embarcadero ...|\n",
      "|{65, Townsend at ...|{901592, 1548, 8/...|{48, Embarcadero ...|\n",
      "|{65, Townsend at ...|{897999, 1083, 8/...|{48, Embarcadero ...|\n",
      "|{65, Townsend at ...|{893393, 1940, 8/...|{48, Embarcadero ...|\n",
      "|{65, Townsend at ...|{893382, 1992, 8/...|{48, Embarcadero ...|\n",
      "|{65, Townsend at ...|{893380, 2053, 8/...|{48, Embarcadero ...|\n",
      "|{65, Townsend at ...|{884461, 1130, 8/...|{48, Embarcadero ...|\n",
      "|{65, Townsend at ...|{876822, 760, 8/5...|{48, Embarcadero ...|\n",
      "|{65, Townsend at ...|{859662, 4572, 7/...|{48, Embarcadero ...|\n",
      "|{65, Townsend at ...|{855218, 1105, 7/...|{48, Embarcadero ...|\n",
      "+--------------------+--------------------+--------------------+\n",
      "only showing top 10 rows\n",
      "\n"
     ]
    }
   ],
   "source": [
    "stationGraph.bfs(fromExpr=\"id = 'Townsend at 7th'\",\n",
    "  toExpr=\"id = 'Embarcadero at Vallejo'\", maxPathLength=3).show(10)\n"
   ]
  },
  {
   "cell_type": "markdown",
   "metadata": {},
   "source": [
    "#### 30.4.4 Connected Components (연결 요소) \n",
    "* 방향성이 없는 그래프, src 와 dst의 개념이 아니라 node와 이를 연결하는 (방향성 없는) edge의 개념에서만 존재 (예제와는 안 맞음)\n",
    "     * Connected Components 는 node 의 집합으로, 해당 집합 안에 있는 모든 node는 서로와 연결이 되어야 함 \n",
    "     * 두개의 서로 다른 C.C 는 교집합이 없어 서로 연결되어 있지 않고, 하나의 그래프는 여러개의 C.C 로 합집합을 이룸\n",
    "     * ref: https://www.baeldung.com/cs/graph-connected-components\n",
    "     \n",
    "* 아래의 그림에서는 3개의 connected component 만 발견된다\n",
    "    * 가장 좌측에 (V1, V2, V3, E3, E4, E5) 는 서로 연결되어 있으나, 또 다른 노드들과 더 큰 연결을 이루기 때문에 C.C 가 아님\n",
    "* 그래프 외에, Image Processing 에도 Connected Components라는 개념이 활용됨"
   ]
  },
  {
   "cell_type": "markdown",
   "metadata": {},
   "source": [
    "<img src=\"img/connected_components.png\" alt=\"cc\" width=\"400\" align=\"left\"/>"
   ]
  },
  {
   "cell_type": "markdown",
   "metadata": {},
   "source": [
    "\n",
    "* C.C 는 DFS 를 활용하고, 계산량이 가장 많아, 충돌이 발생하면 작업을 마쳤던 곳에서 다시 시작할 수 있도록 checkpoint 실행함 "
   ]
  },
  {
   "cell_type": "code",
   "execution_count": 64,
   "metadata": {
    "collapsed": true
   },
   "outputs": [],
   "source": [
    "spark.sparkContext.setCheckpointDir(\"/tmp/checkpoints\")\n",
    "\n",
    "# 계산량이 많으므로 샘플링을 적극 이용한다\n",
    "minGraph = GraphFrame(stationVertices, tripEdges.sample(False, 0.1))\n",
    "cc = minGraph.connectedComponents()\n"
   ]
  },
  {
   "cell_type": "markdown",
   "metadata": {},
   "source": [
    "* connectedComponents() 의 결과로 도출된 DataFrame 에는 node (station) 의 정보와 함께 component 라는 새로운 컬럼이 생성됨 \n",
    "    * 서로 연결된 vertex/node 에는 같은 id 가 부여됨 "
   ]
  },
  {
   "cell_type": "code",
   "execution_count": 74,
   "metadata": {},
   "outputs": [
    {
     "name": "stdout",
     "output_type": "stream",
     "text": [
      "+------------+-----+\n",
      "|   component|count|\n",
      "+------------+-----+\n",
      "|128849018880|   16|\n",
      "|  8589934592|   19|\n",
      "|           0|   33|\n",
      "| 17179869184|    1|\n",
      "|317827579904|    1|\n",
      "+------------+-----+\n",
      "\n"
     ]
    }
   ],
   "source": [
    "cc.groupby(\"component\").count().show()\n"
   ]
  },
  {
   "cell_type": "code",
   "execution_count": 79,
   "metadata": {},
   "outputs": [
    {
     "name": "stdout",
     "output_type": "stream",
     "text": [
      "+----------+--------------------+---------+-----------+---------+-------------+------------+---------+\n",
      "|station_id|                  id|      lat|       long|dockcount|     landmark|installation|component|\n",
      "+----------+--------------------+---------+-----------+---------+-------------+------------+---------+\n",
      "|        51|Embarcadero at Fo...|37.791464|-122.391034|       19|San Francisco|   8/20/2013|        0|\n",
      "|        58|San Francisco Cit...| 37.77865|-122.418235|       19|San Francisco|   8/21/2013|        0|\n",
      "|        60|Embarcadero at Sa...| 37.80477|-122.403234|       15|San Francisco|   8/21/2013|        0|\n",
      "|        65|     Townsend at 7th|37.771058|-122.402717|       15|San Francisco|   8/22/2013|        0|\n",
      "|        63|       Howard at 2nd|37.786978|-122.398108|       19|San Francisco|   8/22/2013|        0|\n",
      "+----------+--------------------+---------+-----------+---------+-------------+------------+---------+\n",
      "only showing top 5 rows\n",
      "\n"
     ]
    }
   ],
   "source": [
    "cc.where(\"component == 0 \").show(5)"
   ]
  },
  {
   "cell_type": "markdown",
   "metadata": {},
   "source": [
    "#### 30.4.5 Strongly Connected Components (강한 연결 요소)\n",
    "* Directed Graph 에서 나오는 개념으로 강하게 연결되었다 함은, 두개의 node x와 y에 대하여 x-> y와 y-> x의 경로가 모두 존재하는 경우를 말함 (되돌아갈 수 있는 경우)\n",
    "* Strongly Connected Components는 이렇게 서로 Strongly Connected된 Vertex/Node 들의 집합(또는 Subgraph)를 말한다."
   ]
  },
  {
   "cell_type": "code",
   "execution_count": 69,
   "metadata": {
    "scrolled": true
   },
   "outputs": [
    {
     "name": "stdout",
     "output_type": "stream",
     "text": [
      "+----------+--------------------+---------+-----------+---------+-------------+------------+------------+\n",
      "|station_id|                  id|      lat|       long|dockcount|     landmark|installation|   component|\n",
      "+----------+--------------------+---------+-----------+---------+-------------+------------+------------+\n",
      "|        11|         MLK Library|37.335885| -121.88566|       19|     San Jose|    8/6/2013|128849018880|\n",
      "|        80|Santa Clara Count...|37.352601|-121.905733|       15|     San Jose|  12/31/2013|128849018880|\n",
      "|        64|   2nd at South Park|37.782259|-122.392738|       15|San Francisco|   8/22/2013|           0|\n",
      "|        36|California Ave Ca...|37.429082|-122.142805|       15|    Palo Alto|   8/14/2013|  8589934592|\n",
      "|        62|       2nd at Folsom|37.785299|-122.396236|       19|San Francisco|   8/22/2013|           0|\n",
      "+----------+--------------------+---------+-----------+---------+-------------+------------+------------+\n",
      "only showing top 5 rows\n",
      "\n"
     ]
    }
   ],
   "source": [
    "scc = minGraph.stronglyConnectedComponents(maxIter=3)\n",
    "scc.show(5)"
   ]
  },
  {
   "cell_type": "markdown",
   "metadata": {},
   "source": [
    "#### 30.4.6 번외\n",
    "\n",
    "그 외 책에는 나오지 않았지만, triangleCounts() 나 shortestPaths 라는 알고리즘도 있음 "
   ]
  }
 ],
 "metadata": {
  "kernelspec": {
   "display_name": "Python 3",
   "language": "python",
   "name": "python3"
  },
  "language_info": {
   "codemirror_mode": {
    "name": "ipython",
    "version": 3
   },
   "file_extension": ".py",
   "mimetype": "text/x-python",
   "name": "python",
   "nbconvert_exporter": "python",
   "pygments_lexer": "ipython3",
   "version": "3.6.1"
  }
 },
 "nbformat": 4,
 "nbformat_minor": 2
}
