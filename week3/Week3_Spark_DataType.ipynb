{
 "cells": [
  {
   "cell_type": "markdown",
   "id": "6ecd8094-9a75-4b0d-81a6-d9959302ba33",
   "metadata": {
    "execution": {
     "iopub.execute_input": "2021-06-26T05:35:20.797020Z",
     "iopub.status.busy": "2021-06-26T05:35:20.796795Z",
     "iopub.status.idle": "2021-06-26T05:35:20.804794Z",
     "shell.execute_reply": "2021-06-26T05:35:20.802284Z",
     "shell.execute_reply.started": "2021-06-26T05:35:20.796976Z"
    }
   },
   "source": [
    "## 6장. 다양한 데이터 타입 다루기"
   ]
  },
  {
   "cell_type": "markdown",
   "id": "1dc1eea2-ac7c-4e8a-b3dc-754d7c6dcfa7",
   "metadata": {},
   "source": [
    "#### 6장 학습 목표\n",
    "- 스파크의 구조적 연산에서 가장 중요한 표현식 만드는 방법\n",
    "- 다양한 데이터 타입 다루는 방"
   ]
  },
  {
   "cell_type": "markdown",
   "id": "a0dc21c9-ddfa-4acc-9a44-3c3bd17e0005",
   "metadata": {},
   "source": [
    "#### Spark API 참고\n",
    "- Spark는 계속 업데이트 되기 때문에 업데이트된 데이터 변환용 함수 찾을 수 있어야함\n",
    "- DataFrame(Dataset) 메서드 : DataFrame도 Row 타입을 가진 Dataset이므로 Dataset 메서드를 사용하게됨\n",
    "  - DataFrameStatFunctions : 통계적 함수 제공 \n",
    "      - http://spark.apache.org/docs/latest/api/scala/org/apache/spark/sql/DataFrameNaFunctions.html\n",
    "  - DataFrameNaFunctions : null 데이터 관련 함수 제공 \n",
    "      - http://spark.apache.org/docs/latest/api/scala/org/apache/spark/sql/DataFrameStatFunctions.html\n",
    "- Column 메서드 : alias나 contains 같이 컬럼과 관련된 여러가지 메서드 제공\n",
    "  - http://spark.apache.org/docs/latest/api/scala/org/apache/spark/sql/Column.html"
   ]
  },
  {
   "cell_type": "markdown",
   "id": "3f0b50e4-9829-4c60-b228-4d36aa1653b6",
   "metadata": {},
   "source": [
    "#### 6.1 API는 어디서 찾을까"
   ]
  },
  {
   "cell_type": "code",
   "execution_count": 30,
   "id": "e72a8830-4d01-4f9e-91d9-31b694c31d10",
   "metadata": {
    "execution": {
     "iopub.execute_input": "2021-06-29T12:01:44.068969Z",
     "iopub.status.busy": "2021-06-29T12:01:44.068680Z",
     "iopub.status.idle": "2021-06-29T12:01:44.631404Z",
     "shell.execute_reply": "2021-06-29T12:01:44.628829Z",
     "shell.execute_reply.started": "2021-06-29T12:01:44.068928Z"
    },
    "tags": []
   },
   "outputs": [],
   "source": [
    "df = spark.read.format('csv').option(\"header\", \"true\").option(\"inferSchema\", \"true\").load(\"/user/fp10225/2010-12-01.csv\")"
   ]
  },
  {
   "cell_type": "code",
   "execution_count": 2,
   "id": "6fcc2d04-6426-4270-b9b0-2dc9cbace13d",
   "metadata": {
    "execution": {
     "iopub.execute_input": "2021-06-26T06:19:16.901857Z",
     "iopub.status.busy": "2021-06-26T06:19:16.901561Z",
     "iopub.status.idle": "2021-06-26T06:19:16.925691Z",
     "shell.execute_reply": "2021-06-26T06:19:16.923098Z",
     "shell.execute_reply.started": "2021-06-26T06:19:16.901814Z"
    },
    "tags": []
   },
   "outputs": [
    {
     "name": "stdout",
     "output_type": "stream",
     "text": [
      "root\n",
      " |-- InvoiceNo: string (nullable = true)\n",
      " |-- StockCode: string (nullable = true)\n",
      " |-- Description: string (nullable = true)\n",
      " |-- Quantity: integer (nullable = true)\n",
      " |-- InvoiceDate: timestamp (nullable = true)\n",
      " |-- UnitPrice: double (nullable = true)\n",
      " |-- CustomerID: double (nullable = true)\n",
      " |-- Country: string (nullable = true)\n",
      "\n"
     ]
    }
   ],
   "source": [
    "df.printSchema()"
   ]
  },
  {
   "cell_type": "code",
   "execution_count": 3,
   "id": "8f6828c0-4160-44a1-b5cd-6e960eed1d0b",
   "metadata": {
    "execution": {
     "iopub.execute_input": "2021-06-26T06:19:19.316836Z",
     "iopub.status.busy": "2021-06-26T06:19:19.316320Z",
     "iopub.status.idle": "2021-06-26T06:19:19.472847Z",
     "shell.execute_reply": "2021-06-26T06:19:19.470194Z",
     "shell.execute_reply.started": "2021-06-26T06:19:19.316783Z"
    },
    "tags": []
   },
   "outputs": [],
   "source": [
    "## sparkdataframe을 sql을 적용할 수 있는 객체로 만듬\n",
    "df.createOrReplaceTempView(\"dfTable\")"
   ]
  },
  {
   "cell_type": "code",
   "execution_count": 4,
   "id": "558dede4-6b0b-47a4-9c5f-fe22a2ed451b",
   "metadata": {
    "execution": {
     "iopub.execute_input": "2021-06-26T06:19:22.894816Z",
     "iopub.status.busy": "2021-06-26T06:19:22.894519Z",
     "iopub.status.idle": "2021-06-26T06:19:23.274054Z",
     "shell.execute_reply": "2021-06-26T06:19:23.271398Z",
     "shell.execute_reply.started": "2021-06-26T06:19:22.894774Z"
    },
    "tags": []
   },
   "outputs": [
    {
     "name": "stdout",
     "output_type": "stream",
     "text": [
      "+---------+---------+--------------------+--------+-------------------+---------+----------+--------------+\n",
      "|InvoiceNo|StockCode|         Description|Quantity|        InvoiceDate|UnitPrice|CustomerID|       Country|\n",
      "+---------+---------+--------------------+--------+-------------------+---------+----------+--------------+\n",
      "|   536365|   85123A|WHITE HANGING HEA...|       6|2010-12-01 08:26:00|     2.55|   17850.0|United Kingdom|\n",
      "|   536365|    71053| WHITE METAL LANTERN|       6|2010-12-01 08:26:00|     3.39|   17850.0|United Kingdom|\n",
      "|   536365|   84406B|CREAM CUPID HEART...|       8|2010-12-01 08:26:00|     2.75|   17850.0|United Kingdom|\n",
      "|   536365|   84029G|KNITTED UNION FLA...|       6|2010-12-01 08:26:00|     3.39|   17850.0|United Kingdom|\n",
      "|   536365|   84029E|RED WOOLLY HOTTIE...|       6|2010-12-01 08:26:00|     3.39|   17850.0|United Kingdom|\n",
      "+---------+---------+--------------------+--------+-------------------+---------+----------+--------------+\n",
      "only showing top 5 rows\n",
      "\n"
     ]
    }
   ],
   "source": [
    "df.show(5)"
   ]
  },
  {
   "cell_type": "markdown",
   "id": "555081d2-c111-430a-839c-619222bc1360",
   "metadata": {},
   "source": [
    "#### 6.2 스파크 데이터 타입으로 변환하기"
   ]
  },
  {
   "cell_type": "markdown",
   "id": "0609bb2e-aa8b-4e4c-be17-61aa88d7bf1e",
   "metadata": {},
   "source": [
    "- 특정 프로그래밍 언어의 고유 데이터 타입을 Spark 데이터 타입으로 변환\n",
    "- 데이터 타입 변환은 'lit'함수 사용"
   ]
  },
  {
   "cell_type": "code",
   "execution_count": 3,
   "id": "f9b366b4-efd6-478b-9e2e-268c22d1d186",
   "metadata": {
    "execution": {
     "iopub.execute_input": "2021-06-29T11:15:04.492377Z",
     "iopub.status.busy": "2021-06-29T11:15:04.492079Z",
     "iopub.status.idle": "2021-06-29T11:15:04.511948Z",
     "shell.execute_reply": "2021-06-29T11:15:04.509391Z",
     "shell.execute_reply.started": "2021-06-29T11:15:04.492336Z"
    },
    "tags": []
   },
   "outputs": [],
   "source": [
    "from pyspark.sql.functions import lit"
   ]
  },
  {
   "cell_type": "code",
   "execution_count": 4,
   "id": "e8d90063-5555-4055-b6c1-6048b4a22021",
   "metadata": {
    "execution": {
     "iopub.execute_input": "2021-06-29T11:15:05.612149Z",
     "iopub.status.busy": "2021-06-29T11:15:05.611593Z",
     "iopub.status.idle": "2021-06-29T11:15:05.675539Z",
     "shell.execute_reply": "2021-06-29T11:15:05.673035Z",
     "shell.execute_reply.started": "2021-06-29T11:15:05.611980Z"
    },
    "tags": []
   },
   "outputs": [
    {
     "data": {
      "text/plain": [
       "DataFrame[5: int, five: string, 5.0: double, 5: string]"
      ]
     },
     "execution_count": 4,
     "metadata": {},
     "output_type": "execute_result"
    }
   ],
   "source": [
    "# python 데이터 타입을 스파크 데이터 타입을 변환\n",
    "df.select(lit(5), lit(\"five\"), lit(5.0), lit(\"5\"))\n",
    "# SQL\n",
    "# SELECT 5, \"five\", 5.0"
   ]
  },
  {
   "cell_type": "markdown",
   "id": "7b3ecc0f-ba0b-42a3-81a3-79ce41679c0e",
   "metadata": {},
   "source": [
    "#### 6.3 Boolean 타입 다루기"
   ]
  },
  {
   "cell_type": "markdown",
   "id": "7dd5075f-c6c8-4179-8ec7-4d00857e0663",
   "metadata": {},
   "source": [
    "- Boolean 구문 : and, or, true, false로 구성\n",
    "- Boolean 논리 문법 : 데이터 로우 필터링할 때 true/false 판별     "
   ]
  },
  {
   "cell_type": "code",
   "execution_count": 3,
   "id": "08968f53-959e-4368-abec-e919c2fa1bf6",
   "metadata": {
    "execution": {
     "iopub.execute_input": "2021-06-28T11:15:20.290725Z",
     "iopub.status.busy": "2021-06-28T11:15:20.290437Z",
     "iopub.status.idle": "2021-06-28T11:15:20.624840Z",
     "shell.execute_reply": "2021-06-28T11:15:20.622185Z",
     "shell.execute_reply.started": "2021-06-28T11:15:20.290680Z"
    },
    "tags": []
   },
   "outputs": [
    {
     "name": "stdout",
     "output_type": "stream",
     "text": [
      "+---------+-----------------------------+\n",
      "|InvoiceNo|Description                  |\n",
      "+---------+-----------------------------+\n",
      "|536366   |HAND WARMER UNION JACK       |\n",
      "|536366   |HAND WARMER RED POLKA DOT    |\n",
      "|536367   |ASSORTED COLOUR BIRD ORNAMENT|\n",
      "|536367   |POPPY'S PLAYHOUSE BEDROOM    |\n",
      "|536367   |POPPY'S PLAYHOUSE KITCHEN    |\n",
      "+---------+-----------------------------+\n",
      "only showing top 5 rows\n",
      "\n"
     ]
    }
   ],
   "source": [
    "from pyspark.sql.functions import col\n",
    "\n",
    "df.where(col(\"InvoiceNo\") != 536365).select(\"InvoiceNo\", \"Description\").show(5, False)"
   ]
  },
  {
   "cell_type": "code",
   "execution_count": 8,
   "id": "5de34deb-1dcc-4754-b0c5-9e30a3a268c8",
   "metadata": {
    "execution": {
     "iopub.execute_input": "2021-06-26T06:19:31.901240Z",
     "iopub.status.busy": "2021-06-26T06:19:31.900950Z",
     "iopub.status.idle": "2021-06-26T06:19:32.087686Z",
     "shell.execute_reply": "2021-06-26T06:19:32.085022Z",
     "shell.execute_reply.started": "2021-06-26T06:19:31.901199Z"
    },
    "tags": []
   },
   "outputs": [
    {
     "name": "stdout",
     "output_type": "stream",
     "text": [
      "+---------+-----------------------------+\n",
      "|InvoiceNo|Description                  |\n",
      "+---------+-----------------------------+\n",
      "|536366   |HAND WARMER UNION JACK       |\n",
      "|536366   |HAND WARMER RED POLKA DOT    |\n",
      "|536367   |ASSORTED COLOUR BIRD ORNAMENT|\n",
      "|536367   |POPPY'S PLAYHOUSE BEDROOM    |\n",
      "|536367   |POPPY'S PLAYHOUSE KITCHEN    |\n",
      "+---------+-----------------------------+\n",
      "only showing top 5 rows\n",
      "\n"
     ]
    }
   ],
   "source": [
    "df.where(\"InvoiceNo != 536365\").select(\"InvoiceNo\", \"Description\").show(5, False)"
   ]
  },
  {
   "cell_type": "code",
   "execution_count": 31,
   "id": "b09b9162-adaf-445e-9c52-ae88d4ae5d5a",
   "metadata": {
    "execution": {
     "iopub.execute_input": "2021-06-26T06:06:34.994446Z",
     "iopub.status.busy": "2021-06-26T06:06:34.994175Z",
     "iopub.status.idle": "2021-06-26T06:06:35.207549Z",
     "shell.execute_reply": "2021-06-26T06:06:35.204914Z",
     "shell.execute_reply.started": "2021-06-26T06:06:34.994403Z"
    },
    "tags": []
   },
   "outputs": [
    {
     "name": "stdout",
     "output_type": "stream",
     "text": [
      "+---------+---------+-----------------------------------+--------+-------------------+---------+----------+--------------+\n",
      "|InvoiceNo|StockCode|Description                        |Quantity|InvoiceDate        |UnitPrice|CustomerID|Country       |\n",
      "+---------+---------+-----------------------------------+--------+-------------------+---------+----------+--------------+\n",
      "|536365   |85123A   |WHITE HANGING HEART T-LIGHT HOLDER |6       |2010-12-01 08:26:00|2.55     |17850.0   |United Kingdom|\n",
      "|536365   |71053    |WHITE METAL LANTERN                |6       |2010-12-01 08:26:00|3.39     |17850.0   |United Kingdom|\n",
      "|536365   |84406B   |CREAM CUPID HEARTS COAT HANGER     |8       |2010-12-01 08:26:00|2.75     |17850.0   |United Kingdom|\n",
      "|536365   |84029G   |KNITTED UNION FLAG HOT WATER BOTTLE|6       |2010-12-01 08:26:00|3.39     |17850.0   |United Kingdom|\n",
      "|536365   |84029E   |RED WOOLLY HOTTIE WHITE HEART.     |6       |2010-12-01 08:26:00|3.39     |17850.0   |United Kingdom|\n",
      "+---------+---------+-----------------------------------+--------+-------------------+---------+----------+--------------+\n",
      "only showing top 5 rows\n",
      "\n"
     ]
    }
   ],
   "source": [
    "df.where(\"InvoiceNo = 536365\").show(5, False)"
   ]
  },
  {
   "cell_type": "code",
   "execution_count": 9,
   "id": "7c5628a1-bdd5-416c-81d3-fea137d593c2",
   "metadata": {
    "execution": {
     "iopub.execute_input": "2021-06-26T06:19:34.901305Z",
     "iopub.status.busy": "2021-06-26T06:19:34.901019Z",
     "iopub.status.idle": "2021-06-26T06:19:35.149142Z",
     "shell.execute_reply": "2021-06-26T06:19:35.146521Z",
     "shell.execute_reply.started": "2021-06-26T06:19:34.901264Z"
    },
    "tags": []
   },
   "outputs": [
    {
     "name": "stdout",
     "output_type": "stream",
     "text": [
      "+---------+---------+-----------------------------+--------+-------------------+---------+----------+--------------+\n",
      "|InvoiceNo|StockCode|Description                  |Quantity|InvoiceDate        |UnitPrice|CustomerID|Country       |\n",
      "+---------+---------+-----------------------------+--------+-------------------+---------+----------+--------------+\n",
      "|536366   |22633    |HAND WARMER UNION JACK       |6       |2010-12-01 08:28:00|1.85     |17850.0   |United Kingdom|\n",
      "|536366   |22632    |HAND WARMER RED POLKA DOT    |6       |2010-12-01 08:28:00|1.85     |17850.0   |United Kingdom|\n",
      "|536367   |84879    |ASSORTED COLOUR BIRD ORNAMENT|32      |2010-12-01 08:34:00|1.69     |13047.0   |United Kingdom|\n",
      "|536367   |22745    |POPPY'S PLAYHOUSE BEDROOM    |6       |2010-12-01 08:34:00|2.1      |13047.0   |United Kingdom|\n",
      "|536367   |22748    |POPPY'S PLAYHOUSE KITCHEN    |6       |2010-12-01 08:34:00|2.1      |13047.0   |United Kingdom|\n",
      "+---------+---------+-----------------------------+--------+-------------------+---------+----------+--------------+\n",
      "only showing top 5 rows\n",
      "\n"
     ]
    }
   ],
   "source": [
    "## <> : 일치하지 않음\n",
    "df.where(\"InvoiceNo <> 536365\").show(5, False)"
   ]
  },
  {
   "cell_type": "markdown",
   "id": "0118a202-18ce-4775-9538-f39d7bdbdbeb",
   "metadata": {},
   "source": [
    "- Boolean 표현식 사용할 경우, 항상 모든 표현식을 and 메서드로 묶어 차례대로 필터 적용해야함\n",
    "- Spark는 내부적으로 and 구문을 필터 사이에 추가해 모든 필터를 하나의 문장으로 변환하고 그런 다음 동시에 모든 필터를 처리\n",
    "- or 구문은 반드시 동일한 구문에 조건을 정의해야함"
   ]
  },
  {
   "cell_type": "code",
   "execution_count": 11,
   "id": "14b9a00e-7d61-474d-a1f8-ad77dab5c79f",
   "metadata": {
    "execution": {
     "iopub.execute_input": "2021-06-26T06:25:49.902280Z",
     "iopub.status.busy": "2021-06-26T06:25:49.902036Z",
     "iopub.status.idle": "2021-06-26T06:25:50.314816Z",
     "shell.execute_reply": "2021-06-26T06:25:50.312304Z",
     "shell.execute_reply.started": "2021-06-26T06:25:49.902240Z"
    },
    "tags": []
   },
   "outputs": [
    {
     "name": "stdout",
     "output_type": "stream",
     "text": [
      "+---------+---------+--------------+--------+-------------------+---------+----------+--------------+\n",
      "|InvoiceNo|StockCode|   Description|Quantity|        InvoiceDate|UnitPrice|CustomerID|       Country|\n",
      "+---------+---------+--------------+--------+-------------------+---------+----------+--------------+\n",
      "|   536544|      DOT|DOTCOM POSTAGE|       1|2010-12-01 14:32:00|   569.77|      null|United Kingdom|\n",
      "|   536592|      DOT|DOTCOM POSTAGE|       1|2010-12-01 17:06:00|   607.49|      null|United Kingdom|\n",
      "+---------+---------+--------------+--------+-------------------+---------+----------+--------------+\n",
      "\n"
     ]
    }
   ],
   "source": [
    "from pyspark.sql.functions import instr\n",
    "## instr : 내가 원하는 컬럼에 내가 원하는 값이 포함되어 있는지 확인\n",
    "\n",
    "priceFilter = col(\"UnitPrice\") > 600\n",
    "descripFilter = instr(df.Description, \"POSTAGE\") >= 1\n",
    "df.where(df.StockCode.isin(\"DOT\"))\\ # Boolean 표현식을 필터링 조건으로 사용\n",
    ".where(priceFilter | descripFilter).show() # Boolean 표현식을 필터링 조건으로 사용"
   ]
  },
  {
   "cell_type": "markdown",
   "id": "534eccf3-56fa-41b7-8333-d0c7a07996ec",
   "metadata": {},
   "source": [
    "- Boolean 컬럼을 사용해 DataFrame 필터링"
   ]
  },
  {
   "cell_type": "code",
   "execution_count": 13,
   "id": "54a35ee7-606c-4ef0-90a2-c743fdce44aa",
   "metadata": {
    "execution": {
     "iopub.execute_input": "2021-06-26T06:29:37.210391Z",
     "iopub.status.busy": "2021-06-26T06:29:37.210119Z",
     "iopub.status.idle": "2021-06-26T06:29:37.529786Z",
     "shell.execute_reply": "2021-06-26T06:29:37.526927Z",
     "shell.execute_reply.started": "2021-06-26T06:29:37.210351Z"
    },
    "tags": []
   },
   "outputs": [
    {
     "name": "stdout",
     "output_type": "stream",
     "text": [
      "+---------+-----------+\n",
      "|unitPrice|isExpensive|\n",
      "+---------+-----------+\n",
      "|   569.77|       true|\n",
      "|   607.49|       true|\n",
      "+---------+-----------+\n",
      "\n"
     ]
    }
   ],
   "source": [
    "DOTCodeFilter = col(\"StockCode\") == 'DOT'\n",
    "priceFilter = col(\"UnitPrice\") > 600\n",
    "descripFilter = instr(df.Description, \"POSTAGE\") >= 1\n",
    "df.withColumn(\"isExpensive\", DOTCodeFilter & (priceFilter | descripFilter))\\\n",
    ".where(\"isExpensive\")\\ ## DataFrame을 필터링\n",
    "## .filter(\"isExpensive\") -> filter / where 동일하게 사용 가능\n",
    ".select(\"unitPrice\", \"isExpensive\").show(5)"
   ]
  },
  {
   "cell_type": "markdown",
   "id": "30291f02-822e-4efc-9d65-3afb2edca935",
   "metadata": {},
   "source": [
    "- Boolean 표현식 만들 때 null 값 데이터 다루기"
   ]
  },
  {
   "cell_type": "code",
   "execution_count": 16,
   "id": "2a6891a1-ef97-445a-8f59-672ea8606283",
   "metadata": {
    "execution": {
     "iopub.execute_input": "2021-06-26T06:39:47.272397Z",
     "iopub.status.busy": "2021-06-26T06:39:47.272007Z",
     "iopub.status.idle": "2021-06-26T06:39:47.463142Z",
     "shell.execute_reply": "2021-06-26T06:39:47.460582Z",
     "shell.execute_reply.started": "2021-06-26T06:39:47.272339Z"
    },
    "tags": []
   },
   "outputs": [
    {
     "name": "stdout",
     "output_type": "stream",
     "text": [
      "+---------+---------+-----------+--------+-----------+---------+----------+-------+\n",
      "|InvoiceNo|StockCode|Description|Quantity|InvoiceDate|UnitPrice|CustomerID|Country|\n",
      "+---------+---------+-----------+--------+-----------+---------+----------+-------+\n",
      "+---------+---------+-----------+--------+-----------+---------+----------+-------+\n",
      "\n"
     ]
    }
   ],
   "source": [
    "# eqNullSafe : Sql에서 <=> 연산자와 같음\n",
    "## 일반적으로는 = 와 같지만 Null과 비교시 비교할 값과 Null을 그대로 비교 가능\n",
    "df.where(col(\"Description\").eqNullSafe(\"hello\")).show()"
   ]
  },
  {
   "attachments": {
    "c00ba055-55c7-4d83-81a6-5c3e39101c4c.png": {
     "image/png": "[encoded data removed]"
    }
   },
   "cell_type": "markdown",
   "id": "24654ad2-e05f-4c36-8b88-52f256f31f21",
   "metadata": {},
   "source": [
    "![스크린샷 2021-06-26 15.48.34.png](attachment:c00ba055-55c7-4d83-81a6-5c3e39101c4c.png)"
   ]
  },
  {
   "cell_type": "markdown",
   "id": "fa2b1501-883e-476b-896a-d7a345f13cca",
   "metadata": {},
   "source": [
    "#### 6.4 수치형 데이터 타입 다루기"
   ]
  },
  {
   "cell_type": "markdown",
   "id": "cb300c38-87ca-4420-a672-04eeb299bfb9",
   "metadata": {},
   "source": [
    "- 수치형 데이터 타입을 사용해 연산 방식 정의해서 사용 "
   ]
  },
  {
   "cell_type": "code",
   "execution_count": 18,
   "id": "b027a735-68cd-41a7-9a83-f47e852c1691",
   "metadata": {
    "execution": {
     "iopub.execute_input": "2021-06-26T06:51:16.456790Z",
     "iopub.status.busy": "2021-06-26T06:51:16.456505Z",
     "iopub.status.idle": "2021-06-26T06:51:16.463412Z",
     "shell.execute_reply": "2021-06-26T06:51:16.460888Z",
     "shell.execute_reply.started": "2021-06-26T06:51:16.456748Z"
    },
    "tags": []
   },
   "outputs": [],
   "source": [
    "from pyspark.sql.functions import expr, pow"
   ]
  },
  {
   "cell_type": "code",
   "execution_count": 20,
   "id": "c207e5d8-c771-4a64-aa14-26a763407226",
   "metadata": {
    "execution": {
     "iopub.execute_input": "2021-06-26T06:53:40.041011Z",
     "iopub.status.busy": "2021-06-26T06:53:40.040651Z",
     "iopub.status.idle": "2021-06-26T06:53:40.254299Z",
     "shell.execute_reply": "2021-06-26T06:53:40.251751Z",
     "shell.execute_reply.started": "2021-06-26T06:53:40.040883Z"
    },
    "tags": []
   },
   "outputs": [
    {
     "name": "stdout",
     "output_type": "stream",
     "text": [
      "+----------+------------------+\n",
      "|CustomerId|      realQuantity|\n",
      "+----------+------------------+\n",
      "|   17850.0|239.08999999999997|\n",
      "|   17850.0|          418.7156|\n",
      "+----------+------------------+\n",
      "only showing top 2 rows\n",
      "\n"
     ]
    }
   ],
   "source": [
    "## Pow : 거듭제곱\n",
    "fabricatedQuantity = pow(col(\"Quantity\") * col(\"unitPrice\"), 2) + 5\n",
    "df.select(expr(\"CustomerId\"), fabricatedQuantity.alias(\"realQuantity\")).show(2)"
   ]
  },
  {
   "cell_type": "code",
   "execution_count": 31,
   "id": "1857c4a4-c666-49fc-b9cc-7ad9ff67fd5e",
   "metadata": {
    "execution": {
     "iopub.execute_input": "2021-06-29T12:14:14.391711Z",
     "iopub.status.busy": "2021-06-29T12:14:14.391305Z",
     "iopub.status.idle": "2021-06-29T12:14:14.568010Z",
     "shell.execute_reply": "2021-06-29T12:14:14.565450Z",
     "shell.execute_reply.started": "2021-06-29T12:14:14.391560Z"
    },
    "tags": []
   },
   "outputs": [
    {
     "name": "stdout",
     "output_type": "stream",
     "text": [
      "+-------------+--------------+-------------+\n",
      "|round(2.5, 0)|bround(2.5, 0)|round(2.5, 0)|\n",
      "+-------------+--------------+-------------+\n",
      "|          3.0|           2.0|          3.0|\n",
      "|          3.0|           2.0|          3.0|\n",
      "+-------------+--------------+-------------+\n",
      "only showing top 2 rows\n",
      "\n"
     ]
    }
   ],
   "source": [
    "## 반올림 : round, 내림 : bround\n",
    "from pyspark.sql.functions import lit, round, bround\n",
    "\n",
    "## lit(\"\") -> string도 round, bround 적용 가능\n",
    "df.select(round(lit(\"2.5\")), bround(lit(\"2.5\")), round(lit(2.5))).show(2)\n",
    "\n",
    "## Hivesql에서는 type에러 뜨지만, sparksql에서는 적용 가능"
   ]
  },
  {
   "cell_type": "code",
   "execution_count": 25,
   "id": "137cf7a6-e372-488f-a19c-e70e580f5843",
   "metadata": {
    "execution": {
     "iopub.execute_input": "2021-06-26T07:02:21.003223Z",
     "iopub.status.busy": "2021-06-26T07:02:21.002949Z",
     "iopub.status.idle": "2021-06-26T07:02:21.602262Z",
     "shell.execute_reply": "2021-06-26T07:02:21.600735Z",
     "shell.execute_reply.started": "2021-06-26T07:02:21.003183Z"
    },
    "tags": []
   },
   "outputs": [
    {
     "name": "stdout",
     "output_type": "stream",
     "text": [
      "+-------------------------+\n",
      "|corr(Quantity, UnitPrice)|\n",
      "+-------------------------+\n",
      "|     -0.04112314436835551|\n",
      "+-------------------------+\n",
      "\n"
     ]
    }
   ],
   "source": [
    "## pearson 상관계수\n",
    "from pyspark.sql.functions import corr\n",
    "\n",
    "## Dataframe의 통계용 함수나 메서드 사용\n",
    "df.stat.corr(\"Quantity\", \"UnitPrice\")\n",
    "df.select(corr(\"Quantity\", \"UnitPrice\")).show()"
   ]
  },
  {
   "cell_type": "code",
   "execution_count": 27,
   "id": "d86176e9-95a1-429d-97e6-ed57e29a9072",
   "metadata": {
    "execution": {
     "iopub.execute_input": "2021-06-26T07:03:01.379482Z",
     "iopub.status.busy": "2021-06-26T07:03:01.379207Z",
     "iopub.status.idle": "2021-06-26T07:03:02.444220Z",
     "shell.execute_reply": "2021-06-26T07:03:02.441662Z",
     "shell.execute_reply.started": "2021-06-26T07:03:01.379441Z"
    },
    "tags": []
   },
   "outputs": [
    {
     "name": "stdout",
     "output_type": "stream",
     "text": [
      "+-------+-----------------+------------------+--------------------+------------------+------------------+------------------+--------------+\n",
      "|summary|        InvoiceNo|         StockCode|         Description|          Quantity|         UnitPrice|        CustomerID|       Country|\n",
      "+-------+-----------------+------------------+--------------------+------------------+------------------+------------------+--------------+\n",
      "|  count|             3108|              3108|                3098|              3108|              3108|              1968|          3108|\n",
      "|   mean| 536516.684944841|27834.304044117645|                null| 8.627413127413128| 4.151946589446603|15661.388719512195|          null|\n",
      "| stddev|72.89447869788873|17407.897548583845|                null|26.371821677029203|15.638659854603892|1854.4496996893627|          null|\n",
      "|    min|           536365|             10002| 4 PURPLE FLOCK D...|               -24|               0.0|           12431.0|     Australia|\n",
      "|    max|          C536548|              POST|ZINC WILLIE WINKI...|               600|            607.49|           18229.0|United Kingdom|\n",
      "+-------+-----------------+------------------+--------------------+------------------+------------------+------------------+--------------+\n",
      "\n"
     ]
    }
   ],
   "source": [
    "# Stats Schema\n",
    "df.describe().show()"
   ]
  },
  {
   "cell_type": "code",
   "execution_count": 30,
   "id": "503c61ee-128b-46a0-98bb-9a09744e886b",
   "metadata": {
    "execution": {
     "iopub.execute_input": "2021-06-26T07:17:01.169897Z",
     "iopub.status.busy": "2021-06-26T07:17:01.169624Z",
     "iopub.status.idle": "2021-06-26T07:17:01.385048Z",
     "shell.execute_reply": "2021-06-26T07:17:01.382523Z",
     "shell.execute_reply.started": "2021-06-26T07:17:01.169854Z"
    },
    "tags": []
   },
   "outputs": [
    {
     "data": {
      "text/plain": [
       "[2.51]"
      ]
     },
     "execution_count": 30,
     "metadata": {},
     "output_type": "execute_result"
    }
   ],
   "source": [
    "# StatFunctions\n",
    "from pyspark.sql.functions import count, mean, stddev_pop, min, max\n",
    "\n",
    "olName = \"UnitPrice\"\n",
    "quantileProbs = [0.5]\n",
    "relError = 0.05 \n",
    "# The relative target precision to achieve (>= 0). \n",
    "# If set to zero, the exact quantiles are computed, which could be very expensive. \n",
    "\n",
    "df.stat.approxQuantile(\"UnitPrice\", quantileProbs, relError)"
   ]
  },
  {
   "cell_type": "code",
   "execution_count": 6,
   "id": "edb5d676-d92e-4873-8f29-94cab66a41a1",
   "metadata": {
    "execution": {
     "iopub.execute_input": "2021-06-29T11:19:28.490999Z",
     "iopub.status.busy": "2021-06-29T11:19:28.490736Z",
     "iopub.status.idle": "2021-06-29T11:19:31.478348Z",
     "shell.execute_reply": "2021-06-29T11:19:31.475764Z",
     "shell.execute_reply.started": "2021-06-29T11:19:28.490958Z"
    },
    "tags": []
   },
   "outputs": [
    {
     "name": "stdout",
     "output_type": "stream",
     "text": [
      "+------------------+---+---+---+---+---+---+---+---+---+---+---+---+---+---+---+---+---+---+---+---+---+---+---+---+---+---+---+---+---+---+---+---+---+---+---+---+---+---+---+---+---+---+---+---+---+---+---+---+---+---+---+---+---+---+---+---+---+---+---+---+---+---+---+---+---+---+\n",
      "|StockCode_Quantity|-1 |-10|-12|-2 |-24|-3 |-4 |-5 |-6 |-7 |1  |10 |100|11 |12 |120|128|13 |14 |144|15 |16 |17 |18 |19 |192|2  |20 |200|21 |216|22 |23 |24 |25 |252|27 |28 |288|3  |30 |32 |33 |34 |36 |384|4  |40 |432|47 |48 |480|5  |50 |56 |6  |60 |600|64 |7  |70 |72 |8  |80 |9  |96 |\n",
      "+------------------+---+---+---+---+---+---+---+---+---+---+---+---+---+---+---+---+---+---+---+---+---+---+---+---+---+---+---+---+---+---+---+---+---+---+---+---+---+---+---+---+---+---+---+---+---+---+---+---+---+---+---+---+---+---+---+---+---+---+---+---+---+---+---+---+---+---+\n",
      "|22578             |0  |0  |0  |0  |0  |0  |0  |0  |0  |0  |0  |0  |0  |0  |0  |0  |0  |0  |0  |0  |0  |0  |0  |0  |0  |0  |0  |0  |0  |0  |0  |0  |0  |1  |0  |0  |0  |0  |0  |0  |0  |0  |0  |0  |0  |0  |0  |0  |0  |0  |0  |0  |0  |0  |0  |0  |0  |0  |0  |0  |0  |0  |0  |0  |0  |0  |\n",
      "|21327             |0  |0  |0  |0  |0  |0  |0  |0  |0  |0  |2  |0  |0  |0  |0  |0  |0  |0  |0  |0  |0  |0  |0  |0  |0  |0  |0  |0  |0  |0  |0  |0  |0  |0  |0  |0  |0  |0  |0  |0  |0  |0  |0  |0  |0  |0  |0  |0  |0  |0  |0  |0  |0  |0  |0  |0  |0  |0  |0  |0  |0  |0  |0  |0  |0  |0  |\n",
      "|22064             |0  |0  |0  |0  |0  |0  |0  |0  |0  |0  |1  |0  |0  |0  |1  |0  |0  |0  |0  |0  |0  |0  |0  |0  |0  |0  |1  |0  |0  |0  |0  |0  |0  |0  |0  |0  |0  |0  |0  |0  |0  |0  |0  |0  |0  |0  |0  |0  |0  |0  |0  |0  |0  |0  |0  |0  |0  |0  |0  |0  |0  |0  |0  |0  |0  |0  |\n",
      "|21080             |0  |0  |0  |0  |0  |0  |0  |0  |0  |0  |1  |0  |0  |0  |0  |0  |0  |0  |0  |0  |0  |0  |0  |0  |0  |0  |0  |0  |0  |0  |0  |0  |0  |0  |0  |0  |0  |0  |0  |0  |0  |0  |0  |0  |1  |0  |0  |0  |0  |0  |0  |0  |0  |0  |0  |0  |0  |0  |0  |0  |0  |0  |0  |0  |0  |1  |\n",
      "|22219             |0  |0  |0  |0  |0  |0  |0  |0  |0  |0  |0  |0  |0  |0  |3  |0  |0  |0  |0  |0  |0  |0  |0  |0  |0  |0  |0  |0  |0  |0  |0  |0  |0  |0  |0  |0  |0  |0  |0  |1  |0  |0  |0  |0  |0  |0  |0  |0  |0  |0  |0  |0  |0  |0  |0  |0  |0  |0  |0  |0  |0  |0  |0  |0  |0  |0  |\n",
      "+------------------+---+---+---+---+---+---+---+---+---+---+---+---+---+---+---+---+---+---+---+---+---+---+---+---+---+---+---+---+---+---+---+---+---+---+---+---+---+---+---+---+---+---+---+---+---+---+---+---+---+---+---+---+---+---+---+---+---+---+---+---+---+---+---+---+---+---+\n",
      "only showing top 5 rows\n",
      "\n"
     ]
    }
   ],
   "source": [
    "## crosstab : 빈도표\n",
    "df.stat.crosstab(\"StockCode\", \"Quantity\").show(5, False)"
   ]
  },
  {
   "cell_type": "code",
   "execution_count": 37,
   "id": "2e2ef20b-c292-4328-a091-59393641d30c",
   "metadata": {
    "execution": {
     "iopub.execute_input": "2021-06-26T07:23:30.931756Z",
     "iopub.status.busy": "2021-06-26T07:23:30.931380Z",
     "iopub.status.idle": "2021-06-26T07:23:31.055311Z",
     "shell.execute_reply": "2021-06-26T07:23:31.052710Z",
     "shell.execute_reply.started": "2021-06-26T07:23:30.931619Z"
    },
    "tags": []
   },
   "outputs": [
    {
     "name": "stdout",
     "output_type": "stream",
     "text": [
      "+--------------------+--------------------+\n",
      "| StockCode_freqItems|  Quantity_freqItems|\n",
      "+--------------------+--------------------+\n",
      "|[90214E, 20728, 2...|[200, 128, 23, 50...|\n",
      "+--------------------+--------------------+\n",
      "\n"
     ]
    }
   ],
   "source": [
    "## freqItems : 해당 컬럼에 자주 나오는 값, 쌍으로도 가능 \n",
    "df.stat.freqItems(['StockCode', \"Quantity\"]).show()"
   ]
  },
  {
   "cell_type": "code",
   "execution_count": 38,
   "id": "98fb97d1-6626-4c7d-81c8-8effe8387469",
   "metadata": {
    "execution": {
     "iopub.execute_input": "2021-06-26T07:25:08.804013Z",
     "iopub.status.busy": "2021-06-26T07:25:08.803720Z",
     "iopub.status.idle": "2021-06-26T07:25:09.000443Z",
     "shell.execute_reply": "2021-06-26T07:25:08.997910Z",
     "shell.execute_reply.started": "2021-06-26T07:25:08.803971Z"
    }
   },
   "outputs": [
    {
     "name": "stdout",
     "output_type": "stream",
     "text": [
      "+-----------------------------+\n",
      "|monotonically_increasing_id()|\n",
      "+-----------------------------+\n",
      "|                            0|\n",
      "|                            1|\n",
      "|                            2|\n",
      "+-----------------------------+\n",
      "only showing top 3 rows\n",
      "\n"
     ]
    }
   ],
   "source": [
    "## monotonically_increasing_id : 모든 row에 고유 ID 값을 추가, 0부터 시작\n",
    "from pyspark.sql.functions import monotonically_increasing_id\n",
    "\n",
    "df.select(monotonically_increasing_id()).show(3)"
   ]
  },
  {
   "cell_type": "markdown",
   "id": "48cea354-6327-430f-94b8-423b9e0406ae",
   "metadata": {},
   "source": [
    "#### 6.5 문자열 데이터 타입 다루기"
   ]
  },
  {
   "cell_type": "code",
   "execution_count": 40,
   "id": "14bb569b-5964-4d29-acfa-7d42cf35f1a7",
   "metadata": {
    "execution": {
     "iopub.execute_input": "2021-06-26T07:27:13.409129Z",
     "iopub.status.busy": "2021-06-26T07:27:13.408855Z",
     "iopub.status.idle": "2021-06-26T07:27:13.537934Z",
     "shell.execute_reply": "2021-06-26T07:27:13.536410Z",
     "shell.execute_reply.started": "2021-06-26T07:27:13.409087Z"
    },
    "tags": []
   },
   "outputs": [
    {
     "name": "stdout",
     "output_type": "stream",
     "text": [
      "+--------------------+\n",
      "|initcap(Description)|\n",
      "+--------------------+\n",
      "|White Hanging Hea...|\n",
      "| White Metal Lantern|\n",
      "+--------------------+\n",
      "only showing top 2 rows\n",
      "\n"
     ]
    }
   ],
   "source": [
    "## initcap : 문장열에서 공백으로 나눠진 모든 단어의 첫글자를 대문자로 변환\n",
    "from pyspark.sql.functions import initcap\n",
    "\n",
    "df.select(initcap(col(\"Description\"))).show(2)"
   ]
  },
  {
   "cell_type": "code",
   "execution_count": 45,
   "id": "592933af-564d-4b0c-9183-ee115f0bb950",
   "metadata": {
    "execution": {
     "iopub.execute_input": "2021-06-26T07:30:13.925079Z",
     "iopub.status.busy": "2021-06-26T07:30:13.924810Z",
     "iopub.status.idle": "2021-06-26T07:30:14.074551Z",
     "shell.execute_reply": "2021-06-26T07:30:14.072000Z",
     "shell.execute_reply.started": "2021-06-26T07:30:13.925036Z"
    },
    "tags": []
   },
   "outputs": [
    {
     "name": "stdout",
     "output_type": "stream",
     "text": [
      "+--------------------+--------------------+-------------------------+\n",
      "|         Description|  lower(Description)|upper(lower(Description))|\n",
      "+--------------------+--------------------+-------------------------+\n",
      "|WHITE HANGING HEA...|white hanging hea...|     WHITE HANGING HEA...|\n",
      "| WHITE METAL LANTERN| white metal lantern|      WHITE METAL LANTERN|\n",
      "+--------------------+--------------------+-------------------------+\n",
      "only showing top 2 rows\n",
      "\n"
     ]
    }
   ],
   "source": [
    "## lower : 문자열 전체를 소문자로 변환\n",
    "## upper : 문자열 전체를 대문자로 변환\n",
    "from pyspark.sql.functions import lower, upper\n",
    "\n",
    "df.select(col(\"Description\"), lower(col(\"Description\")), upper(lower(col(\"Description\")))).show(2)"
   ]
  },
  {
   "cell_type": "code",
   "execution_count": 39,
   "id": "aa56cb29-b96f-4174-86bc-45e39073e816",
   "metadata": {
    "execution": {
     "iopub.execute_input": "2021-06-29T12:20:35.421076Z",
     "iopub.status.busy": "2021-06-29T12:20:35.420794Z",
     "iopub.status.idle": "2021-06-29T12:20:35.536224Z",
     "shell.execute_reply": "2021-06-29T12:20:35.533695Z",
     "shell.execute_reply.started": "2021-06-29T12:20:35.421034Z"
    },
    "tags": []
   },
   "outputs": [
    {
     "name": "stdout",
     "output_type": "stream",
     "text": [
      "+--------+--------+-----+------+---+------+\n",
      "|   ltrim|   rtrim| trim|  trim| lp|    rp|\n",
      "+--------+--------+-----+------+---+------+\n",
      "|HELLO   |   HELLO|HELLO|HE LLO|HEL|HELLOa|\n",
      "|HELLO   |   HELLO|HELLO|HE LLO|HEL|HELLOa|\n",
      "+--------+--------+-----+------+---+------+\n",
      "only showing top 2 rows\n",
      "\n"
     ]
    }
   ],
   "source": [
    "# 공백 다루기 \n",
    "## rpad, lpad : 특정문자를 원하는 자리수만큼 채워서 반환 -> 오른쪽/왼쪽 기준이 다름\n",
    "from pyspark.sql.functions import lit, ltrim, rtrim, rpad, lpad, trim\n",
    "\n",
    "df.select(\n",
    "ltrim(lit(\"   HELLO   \")).alias(\"ltrim\"),\n",
    "rtrim(lit(\"   HELLO   \")).alias(\"rtrim\"),\n",
    "trim(lit(\"   HELLO    \")).alias(\"trim\"),\n",
    "trim(lit(\"   HE LLO    \")).alias(\"trim\"), ## 양쪽 끝의 공백만 제거\n",
    "lpad(lit(\"HELLO\"), 3, \" \").alias(\"lp\"),\n",
    "rpad(lit(\"HELLO\"), 6, \"a\").alias(\"rp\") \n",
    ").show(2)"
   ]
  },
  {
   "cell_type": "markdown",
   "id": "408d78d8-25b4-4a60-9192-2baf3bf33c74",
   "metadata": {},
   "source": [
    "#### 6.5.1 정규 표현식"
   ]
  },
  {
   "cell_type": "markdown",
   "id": "552d5ffa-2a28-4b42-9b0a-36f38a17ce98",
   "metadata": {},
   "source": [
    "- 정규 표현식 : 문자열의 존재 여부 확인, 일치하는 모든 문자열 치환"
   ]
  },
  {
   "cell_type": "code",
   "execution_count": 53,
   "id": "fcbbeb5d-35b0-459a-bdab-84ac9f3dc2e7",
   "metadata": {
    "execution": {
     "iopub.execute_input": "2021-06-26T07:50:25.966710Z",
     "iopub.status.busy": "2021-06-26T07:50:25.966427Z",
     "iopub.status.idle": "2021-06-26T07:50:26.070311Z",
     "shell.execute_reply": "2021-06-26T07:50:26.067714Z",
     "shell.execute_reply.started": "2021-06-26T07:50:25.966668Z"
    },
    "tags": []
   },
   "outputs": [
    {
     "name": "stdout",
     "output_type": "stream",
     "text": [
      "+--------------------+--------------------+\n",
      "|         color_clean|         Description|\n",
      "+--------------------+--------------------+\n",
      "|COLOR HANGING HEA...|WHITE HANGING HEA...|\n",
      "| COLOR METAL LANTERN| WHITE METAL LANTERN|\n",
      "+--------------------+--------------------+\n",
      "only showing top 2 rows\n",
      "\n"
     ]
    }
   ],
   "source": [
    "from pyspark.sql.functions import regexp_replace\n",
    "## regexp_replace\n",
    "regex_string = \"BLACK|WHITE|RED|GREEN|BLUE\"\n",
    "df.select(regexp_replace(col(\"Description\"), regex_string, \"COLOR\")\\\n",
    "          .alias(\"color_clean\"), col(\"Description\")).show(2)\n",
    "                                                                                                                  "
   ]
  },
  {
   "cell_type": "code",
   "execution_count": 46,
   "id": "0cbe15b7-80a7-404e-b67f-699a8dd84204",
   "metadata": {
    "execution": {
     "iopub.execute_input": "2021-06-29T12:27:47.811446Z",
     "iopub.status.busy": "2021-06-29T12:27:47.811070Z",
     "iopub.status.idle": "2021-06-29T12:27:47.924139Z",
     "shell.execute_reply": "2021-06-29T12:27:47.922620Z",
     "shell.execute_reply.started": "2021-06-29T12:27:47.811309Z"
    },
    "tags": []
   },
   "outputs": [
    {
     "name": "stdout",
     "output_type": "stream",
     "text": [
      "+-----------------------------------+-----------------------------------+\n",
      "|translate(Description, LEET, 1347) |Description                        |\n",
      "+-----------------------------------+-----------------------------------+\n",
      "|WHI73 HANGING H3AR7 7-1IGH7 HO1D3R |WHITE HANGING HEART T-LIGHT HOLDER |\n",
      "|WHI73 M37A1 1AN73RN                |WHITE METAL LANTERN                |\n",
      "|CR3AM CUPID H3AR7S COA7 HANG3R     |CREAM CUPID HEARTS COAT HANGER     |\n",
      "|KNI773D UNION F1AG HO7 WA73R BO7713|KNITTED UNION FLAG HOT WATER BOTTLE|\n",
      "|R3D WOO11Y HO77I3 WHI73 H3AR7.     |RED WOOLLY HOTTIE WHITE HEART.     |\n",
      "+-----------------------------------+-----------------------------------+\n",
      "only showing top 5 rows\n",
      "\n"
     ]
    }
   ],
   "source": [
    "## translate : 문자 치환\n",
    "from pyspark.sql.functions import translate, col\n",
    "## 여기서 왜 E는 2번?\n",
    "df.select(translate(col(\"Description\"), \"LEET\", \"1347\"), col(\"Description\")).show(5, False)"
   ]
  },
  {
   "cell_type": "code",
   "execution_count": 70,
   "id": "7964cdcc-8c96-46de-bcd3-adab838f49d7",
   "metadata": {
    "execution": {
     "iopub.execute_input": "2021-06-29T12:42:50.083957Z",
     "iopub.status.busy": "2021-06-29T12:42:50.083683Z",
     "iopub.status.idle": "2021-06-29T12:42:50.194830Z",
     "shell.execute_reply": "2021-06-29T12:42:50.192304Z",
     "shell.execute_reply.started": "2021-06-29T12:42:50.083916Z"
    },
    "tags": []
   },
   "outputs": [
    {
     "name": "stdout",
     "output_type": "stream",
     "text": [
      "+-----------+-----------------------------------+\n",
      "|color_clean|Description                        |\n",
      "+-----------+-----------------------------------+\n",
      "|           |WHITE HANGING HEART T-LIGHT HOLDER |\n",
      "|           |WHITE METAL LANTERN                |\n",
      "|CUPID      |CREAM CUPID HEARTS COAT HANGER     |\n",
      "|           |KNITTED UNION FLAG HOT WATER BOTTLE|\n",
      "|           |RED WOOLLY HOTTIE WHITE HEART.     |\n",
      "|           |SET 7 BABUSHKA NESTING BOXES       |\n",
      "|           |GLASS STAR FROSTED T-LIGHT HOLDER  |\n",
      "|           |HAND WARMER UNION JACK             |\n",
      "|           |HAND WARMER RED POLKA DOT          |\n",
      "|           |ASSORTED COLOUR BIRD ORNAMENT      |\n",
      "+-----------+-----------------------------------+\n",
      "only showing top 10 rows\n",
      "\n"
     ]
    }
   ],
   "source": [
    "## regexp_extract : 존재하는 문자열 뽑아내기\n",
    "## 존재하는 문자열 없으면 Null\n",
    "from pyspark.sql.functions import regexp_extract\n",
    "extract_str = \"(BLACK|WHITE|RED|GREEN|BLUE|CREAM)(.)(CUPID)\" ## 괄호 필요함\n",
    "## 1은 무엇? 괄호 안의 인자값 순서\n",
    "df.select(regexp_extract(col(\"Description\"), extract_str, 3).alias(\"color_clean\"), col(\"Description\")).show(10, False)"
   ]
  },
  {
   "cell_type": "code",
   "execution_count": 64,
   "id": "62b97285-e097-41ad-b1b5-1ddcb2c78db5",
   "metadata": {
    "execution": {
     "iopub.execute_input": "2021-06-26T08:11:40.408823Z",
     "iopub.status.busy": "2021-06-26T08:11:40.408539Z",
     "iopub.status.idle": "2021-06-26T08:11:40.527520Z",
     "shell.execute_reply": "2021-06-26T08:11:40.524964Z",
     "shell.execute_reply.started": "2021-06-26T08:11:40.408781Z"
    },
    "tags": []
   },
   "outputs": [
    {
     "name": "stdout",
     "output_type": "stream",
     "text": [
      "+----------------------------------+\n",
      "|Description                       |\n",
      "+----------------------------------+\n",
      "|WHITE HANGING HEART T-LIGHT HOLDER|\n",
      "|WHITE METAL LANTERN               |\n",
      "|RED WOOLLY HOTTIE WHITE HEART.    |\n",
      "+----------------------------------+\n",
      "only showing top 3 rows\n",
      "\n"
     ]
    }
   ],
   "source": [
    "## contains : 해당 문자가 존재하는 지 확인 후 참/거짓 반환\n",
    "## pyspark의 경우, contains 메서드가 따로 있진 않고(scala에 있음), instr 메서드 이용 \n",
    "from pyspark.sql.functions import instr\n",
    "containsBlack = instr(col(\"Description\"), \"BLACK\") >= 1\n",
    "containsWhite = instr(col(\"Description\"), \"WHITE\") >= 1\n",
    "df.withColumn(\"hasSimpleColor\", containsBlack | containsWhite)\\\n",
    ".where(\"hasSimpleColor\")\\\n",
    ".select(\"Description\").show(3, False)"
   ]
  },
  {
   "cell_type": "code",
   "execution_count": 74,
   "id": "1b3c181a-6518-4130-98d1-828fe4f74794",
   "metadata": {
    "execution": {
     "iopub.execute_input": "2021-06-29T12:50:10.820958Z",
     "iopub.status.busy": "2021-06-29T12:50:10.820681Z",
     "iopub.status.idle": "2021-06-29T12:50:10.957691Z",
     "shell.execute_reply": "2021-06-29T12:50:10.956174Z",
     "shell.execute_reply.started": "2021-06-29T12:50:10.820916Z"
    },
    "tags": []
   },
   "outputs": [
    {
     "name": "stdout",
     "output_type": "stream",
     "text": [
      "+--------+--------+------+--------+-------+---------+---------+--------------------+--------+-------------------+---------+----------+--------------+\n",
      "|is_black|is_white|is_red|is_green|is_blue|InvoiceNo|StockCode|         Description|Quantity|        InvoiceDate|UnitPrice|CustomerID|       Country|\n",
      "+--------+--------+------+--------+-------+---------+---------+--------------------+--------+-------------------+---------+----------+--------------+\n",
      "|   false|    true| false|   false|  false|   536365|   85123A|WHITE HANGING HEA...|       6|2010-12-01 08:26:00|     2.55|   17850.0|United Kingdom|\n",
      "|   false|    true| false|   false|  false|   536365|    71053| WHITE METAL LANTERN|       6|2010-12-01 08:26:00|     3.39|   17850.0|United Kingdom|\n",
      "|   false|   false| false|   false|  false|   536365|   84406B|CREAM CUPID HEART...|       8|2010-12-01 08:26:00|     2.75|   17850.0|United Kingdom|\n",
      "|   false|   false| false|   false|  false|   536365|   84029G|KNITTED UNION FLA...|       6|2010-12-01 08:26:00|     3.39|   17850.0|United Kingdom|\n",
      "|   false|    true|  true|   false|  false|   536365|   84029E|RED WOOLLY HOTTIE...|       6|2010-12-01 08:26:00|     3.39|   17850.0|United Kingdom|\n",
      "|   false|   false| false|   false|  false|   536365|    22752|SET 7 BABUSHKA NE...|       2|2010-12-01 08:26:00|     7.65|   17850.0|United Kingdom|\n",
      "|   false|   false| false|   false|  false|   536365|    21730|GLASS STAR FROSTE...|       6|2010-12-01 08:26:00|     4.25|   17850.0|United Kingdom|\n",
      "|   false|   false| false|   false|  false|   536366|    22633|HAND WARMER UNION...|       6|2010-12-01 08:28:00|     1.85|   17850.0|United Kingdom|\n",
      "|   false|   false|  true|   false|  false|   536366|    22632|HAND WARMER RED P...|       6|2010-12-01 08:28:00|     1.85|   17850.0|United Kingdom|\n",
      "|   false|   false| false|   false|  false|   536367|    84879|ASSORTED COLOUR B...|      32|2010-12-01 08:34:00|     1.69|   13047.0|United Kingdom|\n",
      "+--------+--------+------+--------+-------+---------+---------+--------------------+--------+-------------------+---------+----------+--------------+\n",
      "only showing top 10 rows\n",
      "\n"
     ]
    }
   ],
   "source": [
    "## 인수의 개수가 동적으로 변하는 경우 - locate 함수 활용\n",
    "## locate : 문자열의 위치를 정수로 반환하는 함수 \n",
    "from pyspark.sql.functions import expr, locate \n",
    "\n",
    "simpleColors = [\"black\", \"white\", \"red\", \"green\", \"blue\"]\n",
    "def color_locator(column, color_string):\n",
    "    return locate(color_string.upper(), column).cast(\"boolean\").alias(\"is_\" + color_string)\n",
    "\n",
    "selectedColumns = [color_locator(df.Description, c) for c in simpleColors]\n",
    "selectedColumns.append(expr(\"*\")) # Column 타입이어야함\n",
    "\n",
    "# 동적으로 where 절에 조건을 추가하는 방식\n",
    "df.select(*selectedColumns).show(10) # * pointer\n",
    "# .where(expr(\"is_white OR is_red\"))\\\n",
    "# .select(\"Description\").show(10, False)"
   ]
  },
  {
   "cell_type": "code",
   "execution_count": 77,
   "id": "9ad5211a-1860-44ee-a410-ca5b0e79bb7a",
   "metadata": {
    "execution": {
     "iopub.execute_input": "2021-06-26T08:26:13.238947Z",
     "iopub.status.busy": "2021-06-26T08:26:13.238667Z",
     "iopub.status.idle": "2021-06-26T08:26:13.246216Z",
     "shell.execute_reply": "2021-06-26T08:26:13.244715Z",
     "shell.execute_reply.started": "2021-06-26T08:26:13.238905Z"
    },
    "tags": []
   },
   "outputs": [
    {
     "name": "stdout",
     "output_type": "stream",
     "text": [
      "[Column<CAST(locate(BLACK, Description, 1) AS BOOLEAN) AS `is_black`>, Column<CAST(locate(WHITE, Description, 1) AS BOOLEAN) AS `is_white`>, Column<CAST(locate(RED, Description, 1) AS BOOLEAN) AS `is_red`>, Column<CAST(locate(GREEN, Description, 1) AS BOOLEAN) AS `is_green`>, Column<CAST(locate(BLUE, Description, 1) AS BOOLEAN) AS `is_blue`>, Column<unresolvedstar()>]\n"
     ]
    }
   ],
   "source": [
    "print(selectedColumns) ## list 형식"
   ]
  },
  {
   "cell_type": "markdown",
   "id": "065a68bc-98d5-45a9-b95b-7f10f9093382",
   "metadata": {},
   "source": [
    "#### 6.6 날짜와 타임스탬프 데이터 타입 다루기"
   ]
  },
  {
   "cell_type": "markdown",
   "id": "ac64fe64-409e-47d4-b973-174f1de89f1d",
   "metadata": {},
   "source": [
    "- spark의 2가지 시간 관련 포맷 : 날짜(date), timestamp\n",
    "- spark의 inferSchema 옵션 활성화 -> 컬럼의 시간 데이터 타입을 최대한 정확하게 식별하려 시도\n",
    "- 특정 날짜 포맷을 명시하지 않아도 자체적으로 식별해 데이터 읽을 수 있음\n",
    "- but, 특이한 포맷의 날짜와 시간 데이터를 다룬다면, 각 단계별로 어떤 데이터 타입과 포맷을 유지하는지 알고 트랜스포메이션 적용해야함\n",
    "- TimestampType 클래스는 초단위까지만 지원, 밀리/마이크로세컨드는 Long 데이터 타입으로 변환하여 처리해야함"
   ]
  },
  {
   "cell_type": "code",
   "execution_count": 3,
   "id": "6abfc0e2-547f-42a1-a628-c7a6d9317e33",
   "metadata": {
    "execution": {
     "iopub.execute_input": "2021-06-26T12:39:52.076621Z",
     "iopub.status.busy": "2021-06-26T12:39:52.076332Z",
     "iopub.status.idle": "2021-06-26T12:39:52.101386Z",
     "shell.execute_reply": "2021-06-26T12:39:52.098867Z",
     "shell.execute_reply.started": "2021-06-26T12:39:52.076570Z"
    },
    "tags": []
   },
   "outputs": [
    {
     "name": "stdout",
     "output_type": "stream",
     "text": [
      "root\n",
      " |-- InvoiceNo: string (nullable = true)\n",
      " |-- StockCode: string (nullable = true)\n",
      " |-- Description: string (nullable = true)\n",
      " |-- Quantity: integer (nullable = true)\n",
      " |-- InvoiceDate: timestamp (nullable = true)\n",
      " |-- UnitPrice: double (nullable = true)\n",
      " |-- CustomerID: double (nullable = true)\n",
      " |-- Country: string (nullable = true)\n",
      "\n"
     ]
    }
   ],
   "source": [
    "df.printSchema()"
   ]
  },
  {
   "cell_type": "code",
   "execution_count": 24,
   "id": "beb3e718-162a-4b05-97d8-f46964e5f462",
   "metadata": {
    "execution": {
     "iopub.execute_input": "2021-06-29T11:45:17.121434Z",
     "iopub.status.busy": "2021-06-29T11:45:17.121148Z",
     "iopub.status.idle": "2021-06-29T11:45:17.169307Z",
     "shell.execute_reply": "2021-06-29T11:45:17.167712Z",
     "shell.execute_reply.started": "2021-06-29T11:45:17.121392Z"
    },
    "tags": []
   },
   "outputs": [
    {
     "name": "stdout",
     "output_type": "stream",
     "text": [
      "root\n",
      " |-- id: long (nullable = false)\n",
      " |-- today: date (nullable = false)\n",
      " |-- now: timestamp (nullable = false)\n",
      "\n"
     ]
    }
   ],
   "source": [
    "from pyspark.sql.functions import current_date, current_timestamp\n",
    "\n",
    "dateDF = spark.range(10)\\\n",
    "    .withColumn(\"today\", current_date())\\\n",
    "    .withColumn(\"now\", current_timestamp())\n",
    "dateDF.createOrReplaceTempView(\"dataTable\")\n",
    "dateDF.printSchema()"
   ]
  },
  {
   "cell_type": "code",
   "execution_count": 27,
   "id": "318149bc-eaf9-48a6-9699-27498cfb1de3",
   "metadata": {
    "execution": {
     "iopub.execute_input": "2021-06-29T11:45:30.390759Z",
     "iopub.status.busy": "2021-06-29T11:45:30.390458Z",
     "iopub.status.idle": "2021-06-29T11:45:30.547378Z",
     "shell.execute_reply": "2021-06-29T11:45:30.544795Z",
     "shell.execute_reply.started": "2021-06-29T11:45:30.390716Z"
    },
    "tags": []
   },
   "outputs": [
    {
     "name": "stdout",
     "output_type": "stream",
     "text": [
      "+------------------+------------------+\n",
      "|date_sub(today, 5)|date_add(today, 5)|\n",
      "+------------------+------------------+\n",
      "|        2021-06-24|        2021-07-04|\n",
      "+------------------+------------------+\n",
      "only showing top 1 row\n",
      "\n"
     ]
    }
   ],
   "source": [
    "## date_add : 날짜 더하기\n",
    "## date_sub : 날짜 빼기\n",
    "from pyspark.sql.functions import date_add, date_sub\n",
    "dateDF.select(date_sub(col(\"today\"), 5), date_add(col(\"today\"),5)).show(1)"
   ]
  },
  {
   "cell_type": "code",
   "execution_count": 28,
   "id": "70fa9c92-547b-4469-b277-a859388287ea",
   "metadata": {
    "execution": {
     "iopub.execute_input": "2021-06-29T11:45:31.864637Z",
     "iopub.status.busy": "2021-06-29T11:45:31.864349Z",
     "iopub.status.idle": "2021-06-29T11:45:31.975831Z",
     "shell.execute_reply": "2021-06-29T11:45:31.973181Z",
     "shell.execute_reply.started": "2021-06-29T11:45:31.864584Z"
    },
    "tags": []
   },
   "outputs": [
    {
     "name": "stdout",
     "output_type": "stream",
     "text": [
      "+-------------------------+\n",
      "|datediff(week_ago, today)|\n",
      "+-------------------------+\n",
      "|                       -7|\n",
      "+-------------------------+\n",
      "only showing top 1 row\n",
      "\n"
     ]
    }
   ],
   "source": [
    "## datediff : 날짜 차이 구하기\n",
    "from pyspark.sql.functions import datediff, months_between, to_date\n",
    "dateDF.withColumn(\"week_ago\", date_sub(col(\"today\"), 7))\\\n",
    "    .select(datediff(col(\"week_ago\"), col(\"today\"))).show(1)"
   ]
  },
  {
   "cell_type": "code",
   "execution_count": 29,
   "id": "7b5977b0-20f4-4cc2-811f-b895f97ad0db",
   "metadata": {
    "execution": {
     "iopub.execute_input": "2021-06-29T11:45:33.648191Z",
     "iopub.status.busy": "2021-06-29T11:45:33.647910Z",
     "iopub.status.idle": "2021-06-29T11:45:33.751112Z",
     "shell.execute_reply": "2021-06-29T11:45:33.748479Z",
     "shell.execute_reply.started": "2021-06-29T11:45:33.648149Z"
    },
    "tags": []
   },
   "outputs": [
    {
     "name": "stdout",
     "output_type": "stream",
     "text": [
      "+--------------------------------+\n",
      "|months_between(start, end, true)|\n",
      "+--------------------------------+\n",
      "|                    -16.67741935|\n",
      "+--------------------------------+\n",
      "only showing top 1 row\n",
      "\n"
     ]
    }
   ],
   "source": [
    "## months_between : 두 날짜 사이의 개월 수 반환\n",
    "## to_date : 문자열을 날짜로 변환, 날짜 포맷도 지정 가능\n",
    "dateDF.select(\n",
    "    to_date(lit(\"2016-01-01\")).alias(\"start\"),\n",
    "    to_date(lit(\"2017-05-22\")).alias(\"end\"))\\\n",
    "    .select(months_between(col(\"start\"), col(\"end\"))).show(1)"
   ]
  },
  {
   "cell_type": "code",
   "execution_count": 15,
   "id": "b106f97d-f391-45c6-b2e0-7bafef67fbfe",
   "metadata": {
    "execution": {
     "iopub.execute_input": "2021-06-26T12:56:24.930299Z",
     "iopub.status.busy": "2021-06-26T12:56:24.930013Z",
     "iopub.status.idle": "2021-06-26T12:56:25.115681Z",
     "shell.execute_reply": "2021-06-26T12:56:25.114843Z",
     "shell.execute_reply.started": "2021-06-26T12:56:24.930256Z"
    }
   },
   "outputs": [
    {
     "name": "stdout",
     "output_type": "stream",
     "text": [
      "+---------------+\n",
      "|to_date(`date`)|\n",
      "+---------------+\n",
      "|     2017-01-01|\n",
      "+---------------+\n",
      "only showing top 1 row\n",
      "\n"
     ]
    }
   ],
   "source": [
    "spark.range(5).withColumn(\"date\", lit(\"2017-01-01\"))\\\n",
    "    .select(to_date(col(\"date\"))).show(1)"
   ]
  },
  {
   "cell_type": "code",
   "execution_count": 16,
   "id": "af365610-c22d-42bd-87b3-1c6a5489523b",
   "metadata": {
    "execution": {
     "iopub.execute_input": "2021-06-26T12:57:52.801190Z",
     "iopub.status.busy": "2021-06-26T12:57:52.800903Z",
     "iopub.status.idle": "2021-06-26T12:57:52.934775Z",
     "shell.execute_reply": "2021-06-26T12:57:52.933252Z",
     "shell.execute_reply.started": "2021-06-26T12:57:52.801149Z"
    }
   },
   "outputs": [
    {
     "name": "stdout",
     "output_type": "stream",
     "text": [
      "+---------------------+---------------------+\n",
      "|to_date('2016-20-12')|to_date('2017-12-11')|\n",
      "+---------------------+---------------------+\n",
      "|                 null|           2017-12-11|\n",
      "+---------------------+---------------------+\n",
      "only showing top 1 row\n",
      "\n"
     ]
    }
   ],
   "source": [
    "## 날짜 파싱할 수 없을 땐 null 값 반환\n",
    "dateDF.select(to_date(lit(\"2016-20-12\")), to_date(lit(\"2017-12-11\"))).show(1)"
   ]
  },
  {
   "cell_type": "code",
   "execution_count": 24,
   "id": "c2677729-78a4-423d-8808-f37bd7a74761",
   "metadata": {
    "execution": {
     "iopub.execute_input": "2021-06-26T13:05:18.835047Z",
     "iopub.status.busy": "2021-06-26T13:05:18.834714Z",
     "iopub.status.idle": "2021-06-26T13:05:18.871135Z",
     "shell.execute_reply": "2021-06-26T13:05:18.868560Z",
     "shell.execute_reply.started": "2021-06-26T13:05:18.835007Z"
    },
    "tags": []
   },
   "outputs": [],
   "source": [
    "## SimpleDataFormat 표준에 맞춰 날짜 포맷 미리 지정\n",
    "## to_date : 필요에 따라 날짜 포맷 지정 가능\n",
    "## to_timestamp : 반드시 날짜 포맷 지정\n",
    "\n",
    "from pyspark.sql.functions import to_date\n",
    "dateFormat = \"yyyy-dd-MM\"\n",
    "cleanDateDF = spark.range(1).select(\\\n",
    "to_date(lit(\"2017-12-11\"), dateFormat).alias(\"date\"),\\\n",
    "to_date(lit(\"2017-20-12\"), dateFormat).alias(\"date2\"))\n",
    "cleanDateDF.createOrReplaceTempView(\"dataTable2\")"
   ]
  },
  {
   "cell_type": "code",
   "execution_count": 22,
   "id": "51fb9e31-8173-4414-915c-b66ec7336b67",
   "metadata": {
    "execution": {
     "iopub.execute_input": "2021-06-26T13:04:05.382786Z",
     "iopub.status.busy": "2021-06-26T13:04:05.382487Z",
     "iopub.status.idle": "2021-06-26T13:04:05.573681Z",
     "shell.execute_reply": "2021-06-26T13:04:05.571124Z",
     "shell.execute_reply.started": "2021-06-26T13:04:05.382744Z"
    },
    "tags": []
   },
   "outputs": [
    {
     "name": "stdout",
     "output_type": "stream",
     "text": [
      "+----------+----------+\n",
      "|      date|     date2|\n",
      "+----------+----------+\n",
      "|2017-11-12|2017-12-20|\n",
      "+----------+----------+\n",
      "\n"
     ]
    }
   ],
   "source": [
    "cleanDateDF.show()"
   ]
  },
  {
   "cell_type": "code",
   "execution_count": 25,
   "id": "19a79cdc-5dd3-4a77-a09c-387aa0569717",
   "metadata": {
    "execution": {
     "iopub.execute_input": "2021-06-26T13:06:25.434677Z",
     "iopub.status.busy": "2021-06-26T13:06:25.434389Z",
     "iopub.status.idle": "2021-06-26T13:06:25.612879Z",
     "shell.execute_reply": "2021-06-26T13:06:25.610297Z",
     "shell.execute_reply.started": "2021-06-26T13:06:25.434635Z"
    }
   },
   "outputs": [
    {
     "name": "stdout",
     "output_type": "stream",
     "text": [
      "+----------------------------------+\n",
      "|to_timestamp(`date`, 'yyyy-dd-MM')|\n",
      "+----------------------------------+\n",
      "|               2017-11-12 00:00:00|\n",
      "+----------------------------------+\n",
      "\n"
     ]
    }
   ],
   "source": [
    "from pyspark.sql.functions import to_timestamp\n",
    "cleanDateDF.select(to_timestamp(col(\"date\"), dateFormat)).show()"
   ]
  },
  {
   "cell_type": "code",
   "execution_count": 26,
   "id": "c2678b85-641d-4e37-b5c9-732466f012a4",
   "metadata": {
    "execution": {
     "iopub.execute_input": "2021-06-26T13:07:47.311018Z",
     "iopub.status.busy": "2021-06-26T13:07:47.310732Z",
     "iopub.status.idle": "2021-06-26T13:07:47.316455Z",
     "shell.execute_reply": "2021-06-26T13:07:47.313931Z",
     "shell.execute_reply.started": "2021-06-26T13:07:47.310975Z"
    }
   },
   "outputs": [],
   "source": [
    "## SQL, timestamp로 변환\n",
    "## cast(to_date(\"2017-01-01\", \"yyyy-dd-MM\") as timestamp) "
   ]
  },
  {
   "cell_type": "code",
   "execution_count": 27,
   "id": "96de94e2-5df7-4726-9474-0ed7a2ff3518",
   "metadata": {
    "execution": {
     "iopub.execute_input": "2021-06-26T13:09:34.902469Z",
     "iopub.status.busy": "2021-06-26T13:09:34.902181Z",
     "iopub.status.idle": "2021-06-26T13:09:35.036505Z",
     "shell.execute_reply": "2021-06-26T13:09:35.033916Z",
     "shell.execute_reply.started": "2021-06-26T13:09:34.902427Z"
    }
   },
   "outputs": [
    {
     "name": "stdout",
     "output_type": "stream",
     "text": [
      "+----------+----------+\n",
      "|      date|     date2|\n",
      "+----------+----------+\n",
      "|2017-11-12|2017-12-20|\n",
      "+----------+----------+\n",
      "\n"
     ]
    }
   ],
   "source": [
    "cleanDateDF.filter(col(\"date2\") > lit(\"2017-12-12\")).show()"
   ]
  },
  {
   "cell_type": "code",
   "execution_count": 28,
   "id": "f648637c-af5d-4d5c-9123-f0d840ff03d2",
   "metadata": {
    "execution": {
     "iopub.execute_input": "2021-06-26T13:10:50.495966Z",
     "iopub.status.busy": "2021-06-26T13:10:50.495681Z",
     "iopub.status.idle": "2021-06-26T13:10:50.634820Z",
     "shell.execute_reply": "2021-06-26T13:10:50.632242Z",
     "shell.execute_reply.started": "2021-06-26T13:10:50.495924Z"
    }
   },
   "outputs": [
    {
     "name": "stdout",
     "output_type": "stream",
     "text": [
      "+----------+----------+\n",
      "|      date|     date2|\n",
      "+----------+----------+\n",
      "|2017-11-12|2017-12-20|\n",
      "+----------+----------+\n",
      "\n"
     ]
    }
   ],
   "source": [
    "cleanDateDF.filter(col(\"date2\") > \"'2017-12-12'\").show()"
   ]
  },
  {
   "cell_type": "markdown",
   "id": "7387febf-09aa-436f-af1d-21d4922b8ad6",
   "metadata": {},
   "source": [
    "#### 6.7 null 값 다루기"
   ]
  },
  {
   "cell_type": "code",
   "execution_count": 31,
   "id": "09783d10-f13b-4878-80ce-bc12aded6388",
   "metadata": {
    "execution": {
     "iopub.execute_input": "2021-06-26T13:54:32.213870Z",
     "iopub.status.busy": "2021-06-26T13:54:32.213570Z",
     "iopub.status.idle": "2021-06-26T13:54:32.443782Z",
     "shell.execute_reply": "2021-06-26T13:54:32.441229Z",
     "shell.execute_reply.started": "2021-06-26T13:54:32.213830Z"
    },
    "tags": []
   },
   "outputs": [
    {
     "name": "stdout",
     "output_type": "stream",
     "text": [
      "+---------------------------------+\n",
      "|coalesce(Description, CustomerID)|\n",
      "+---------------------------------+\n",
      "|             WHITE HANGING HEA...|\n",
      "|              WHITE METAL LANTERN|\n",
      "|             CREAM CUPID HEART...|\n",
      "|             KNITTED UNION FLA...|\n",
      "|             RED WOOLLY HOTTIE...|\n",
      "|             SET 7 BABUSHKA NE...|\n",
      "|             GLASS STAR FROSTE...|\n",
      "|             HAND WARMER UNION...|\n",
      "|             HAND WARMER RED P...|\n",
      "|             ASSORTED COLOUR B...|\n",
      "|             POPPY'S PLAYHOUSE...|\n",
      "|             POPPY'S PLAYHOUSE...|\n",
      "|             FELTCRAFT PRINCES...|\n",
      "|             IVORY KNITTED MUG...|\n",
      "|             BOX OF 6 ASSORTED...|\n",
      "|             BOX OF VINTAGE JI...|\n",
      "|             BOX OF VINTAGE AL...|\n",
      "|             HOME BUILDING BLO...|\n",
      "|             LOVE BUILDING BLO...|\n",
      "|             RECIPE BOX WITH M...|\n",
      "+---------------------------------+\n",
      "only showing top 20 rows\n",
      "\n"
     ]
    }
   ],
   "source": [
    "# 6.7.1 coalesce\n",
    "## coalesce : null이 아닌 첫번 째 값 반환\n",
    "from pyspark.sql.functions import coalesce\n",
    "\n",
    "df.select(coalesce(col(\"Description\"), col(\"CustomerID\"))).show()"
   ]
  },
  {
   "cell_type": "code",
   "execution_count": 32,
   "id": "31d31713-65cc-4d7d-ba04-726576edf895",
   "metadata": {
    "execution": {
     "iopub.execute_input": "2021-06-26T14:01:54.544487Z",
     "iopub.status.busy": "2021-06-26T14:01:54.544202Z",
     "iopub.status.idle": "2021-06-26T14:01:54.550505Z",
     "shell.execute_reply": "2021-06-26T14:01:54.548940Z",
     "shell.execute_reply.started": "2021-06-26T14:01:54.544446Z"
    }
   },
   "outputs": [],
   "source": [
    "## 6.7.2 ifnull, nullif, nvl, nvl2\n",
    "## SQL\n",
    "### ifnull(null, \"return_value\") : 첫 번째 갑이 null이면 두 번째 값 반환\n",
    "### nullif(\"value\", \"value\") : 두 값이 같으면 null 반환\n",
    "### nvl(null, \"return_value\") : 첫 번째 갑이 null이면 두 번째 값 반환\n",
    "### nvl2('not_null', \"return_value\", \"else_value\") : 첫 번째 값이 null이 아니면 두 번째 값을 반환, 첫번째 값이 null이면 세 번째 인수로 지정된 값 반환"
   ]
  },
  {
   "cell_type": "code",
   "execution_count": 34,
   "id": "2dc68447-772f-4cce-8444-dc0f547822d8",
   "metadata": {
    "execution": {
     "iopub.execute_input": "2021-06-26T14:04:52.805604Z",
     "iopub.status.busy": "2021-06-26T14:04:52.805321Z",
     "iopub.status.idle": "2021-06-26T14:04:52.832825Z",
     "shell.execute_reply": "2021-06-26T14:04:52.830342Z",
     "shell.execute_reply.started": "2021-06-26T14:04:52.805563Z"
    },
    "tags": []
   },
   "outputs": [
    {
     "data": {
      "text/plain": [
       "DataFrame[InvoiceNo: string, StockCode: string, Description: string, Quantity: int, InvoiceDate: timestamp, UnitPrice: double, CustomerID: double, Country: string]"
      ]
     },
     "execution_count": 34,
     "metadata": {},
     "output_type": "execute_result"
    }
   ],
   "source": [
    "## 6.7.3 drop\n",
    "df.na.drop()\n",
    "df.na.drop(\"any\")\n",
    "df.na.drop(\"all\")\n",
    "df.na.drop(\"all\", subset=[\"StockCode\", \"InvoiceNo\"])"
   ]
  },
  {
   "cell_type": "code",
   "execution_count": 39,
   "id": "a5f0a243-1435-4977-b13b-5b2205d0b7ef",
   "metadata": {
    "execution": {
     "iopub.execute_input": "2021-06-26T14:08:20.802346Z",
     "iopub.status.busy": "2021-06-26T14:08:20.801963Z",
     "iopub.status.idle": "2021-06-26T14:08:20.844041Z",
     "shell.execute_reply": "2021-06-26T14:08:20.841542Z",
     "shell.execute_reply.started": "2021-06-26T14:08:20.802303Z"
    },
    "tags": []
   },
   "outputs": [
    {
     "data": {
      "text/plain": [
       "DataFrame[InvoiceNo: string, StockCode: string, Description: string, Quantity: int, InvoiceDate: timestamp, UnitPrice: double, CustomerID: double, Country: string]"
      ]
     },
     "execution_count": 39,
     "metadata": {},
     "output_type": "execute_result"
    }
   ],
   "source": [
    "## 6.7.4 fill\n",
    "df.na.fill(\"All Null values become this string\")\n",
    "df.na.fill(\"all\", subset=[\"StockCode\", \"InvoiceNo\"])\n",
    "\n",
    "fill_cols_vals = {\"StockCode\": 5, \"Description\": \"No Value\"}\n",
    "df.na.fill(fill_cols_vals)"
   ]
  },
  {
   "cell_type": "code",
   "execution_count": 40,
   "id": "27e15370-2ba8-41e0-8384-01b18342774a",
   "metadata": {
    "execution": {
     "iopub.execute_input": "2021-06-26T14:09:28.800736Z",
     "iopub.status.busy": "2021-06-26T14:09:28.800441Z",
     "iopub.status.idle": "2021-06-26T14:09:28.826462Z",
     "shell.execute_reply": "2021-06-26T14:09:28.823952Z",
     "shell.execute_reply.started": "2021-06-26T14:09:28.800693Z"
    }
   },
   "outputs": [
    {
     "data": {
      "text/plain": [
       "DataFrame[InvoiceNo: string, StockCode: string, Description: string, Quantity: int, InvoiceDate: timestamp, UnitPrice: double, CustomerID: double, Country: string]"
      ]
     },
     "execution_count": 40,
     "metadata": {},
     "output_type": "execute_result"
    }
   ],
   "source": [
    "## 6.7.5 replace\n",
    "df.na.replace([\"\"], [\"UNKNOWN\"], \"Description\")"
   ]
  },
  {
   "cell_type": "markdown",
   "id": "41d5f44a-1fb1-4ca8-b107-951c660ddad3",
   "metadata": {},
   "source": [
    "#### 6.8 정렬하기"
   ]
  },
  {
   "cell_type": "code",
   "execution_count": 77,
   "id": "9dc7fd1c-5b10-4a5e-ab11-0430b7f525f0",
   "metadata": {
    "execution": {
     "iopub.execute_input": "2021-06-29T12:59:11.393004Z",
     "iopub.status.busy": "2021-06-29T12:59:11.392724Z",
     "iopub.status.idle": "2021-06-29T12:59:11.728406Z",
     "shell.execute_reply": "2021-06-29T12:59:11.725834Z",
     "shell.execute_reply.started": "2021-06-29T12:59:11.392960Z"
    },
    "tags": []
   },
   "outputs": [
    {
     "name": "stdout",
     "output_type": "stream",
     "text": [
      "+---------+---------+--------------------+--------+-------------------+---------+----------+--------------+\n",
      "|InvoiceNo|StockCode|         Description|Quantity|        InvoiceDate|UnitPrice|CustomerID|       Country|\n",
      "+---------+---------+--------------------+--------+-------------------+---------+----------+--------------+\n",
      "|   536522|   72800B| 4 PURPLE FLOCK D...|       2|2010-12-01 12:49:00|     2.55|   15012.0|United Kingdom|\n",
      "|   536409|    22900| SET 2 TEA TOWELS...|       1|2010-12-01 11:45:00|     2.95|   17908.0|United Kingdom|\n",
      "|   536412|    22900| SET 2 TEA TOWELS...|       2|2010-12-01 11:49:00|     2.95|   17920.0|United Kingdom|\n",
      "|   536412|    22900| SET 2 TEA TOWELS...|       2|2010-12-01 11:49:00|     2.95|   17920.0|United Kingdom|\n",
      "|   536415|    22900| SET 2 TEA TOWELS...|       3|2010-12-01 11:57:00|     2.95|   12838.0|United Kingdom|\n",
      "+---------+---------+--------------------+--------+-------------------+---------+----------+--------------+\n",
      "only showing top 5 rows\n",
      "\n",
      "+---------+---------+--------------------+--------+-------------------+---------+----------+--------------+\n",
      "|InvoiceNo|StockCode|         Description|Quantity|        InvoiceDate|UnitPrice|CustomerID|       Country|\n",
      "+---------+---------+--------------------+--------+-------------------+---------+----------+--------------+\n",
      "|   536522|   72800B| 4 PURPLE FLOCK D...|       2|2010-12-01 12:49:00|     2.55|   15012.0|United Kingdom|\n",
      "|   536409|    22900| SET 2 TEA TOWELS...|       1|2010-12-01 11:45:00|     2.95|   17908.0|United Kingdom|\n",
      "|   536412|    22900| SET 2 TEA TOWELS...|       2|2010-12-01 11:49:00|     2.95|   17920.0|United Kingdom|\n",
      "|   536412|    22900| SET 2 TEA TOWELS...|       2|2010-12-01 11:49:00|     2.95|   17920.0|United Kingdom|\n",
      "|   536415|    22900| SET 2 TEA TOWELS...|       3|2010-12-01 11:57:00|     2.95|   12838.0|United Kingdom|\n",
      "+---------+---------+--------------------+--------+-------------------+---------+----------+--------------+\n",
      "only showing top 5 rows\n",
      "\n"
     ]
    }
   ],
   "source": [
    "## asc_null_first / desc_nulls_first\n",
    "## asc_nulls_last / desc_nulls_last \n",
    "df.orderBy(col(\"Description\").asc_nulls_last()).show(5)\n",
    "df.sort(col(\"Description\").asc_nulls_last()).show(5)"
   ]
  },
  {
   "cell_type": "markdown",
   "id": "06c578b0-b56e-49bb-b8d2-03aa590f2112",
   "metadata": {},
   "source": [
    "#### 6.9 복합 데이터 다루기"
   ]
  },
  {
   "cell_type": "code",
   "execution_count": 13,
   "id": "19b76d0b-d964-425f-ae48-e4464b035bd7",
   "metadata": {
    "execution": {
     "iopub.execute_input": "2021-06-27T00:48:25.140777Z",
     "iopub.status.busy": "2021-06-27T00:48:25.140471Z",
     "iopub.status.idle": "2021-06-27T00:48:25.518881Z",
     "shell.execute_reply": "2021-06-27T00:48:25.516246Z",
     "shell.execute_reply.started": "2021-06-27T00:48:25.140734Z"
    },
    "tags": []
   },
   "outputs": [
    {
     "name": "stdout",
     "output_type": "stream",
     "text": [
      "+--------------------+---------+---------+--------------------+--------+-------------------+---------+----------+--------------+\n",
      "|             complex|InvoiceNo|StockCode|         Description|Quantity|        InvoiceDate|UnitPrice|CustomerID|       Country|\n",
      "+--------------------+---------+---------+--------------------+--------+-------------------+---------+----------+--------------+\n",
      "|[WHITE HANGING HE...|   536365|   85123A|WHITE HANGING HEA...|       6|2010-12-01 08:26:00|     2.55|   17850.0|United Kingdom|\n",
      "|[WHITE METAL LANT...|   536365|    71053| WHITE METAL LANTERN|       6|2010-12-01 08:26:00|     3.39|   17850.0|United Kingdom|\n",
      "|[CREAM CUPID HEAR...|   536365|   84406B|CREAM CUPID HEART...|       8|2010-12-01 08:26:00|     2.75|   17850.0|United Kingdom|\n",
      "|[KNITTED UNION FL...|   536365|   84029G|KNITTED UNION FLA...|       6|2010-12-01 08:26:00|     3.39|   17850.0|United Kingdom|\n",
      "|[RED WOOLLY HOTTI...|   536365|   84029E|RED WOOLLY HOTTIE...|       6|2010-12-01 08:26:00|     3.39|   17850.0|United Kingdom|\n",
      "+--------------------+---------+---------+--------------------+--------+-------------------+---------+----------+--------------+\n",
      "only showing top 5 rows\n",
      "\n"
     ]
    }
   ],
   "source": [
    "## 6.9.1 구조체\n",
    "df.selectExpr(\"struct(Description, InvoiceNo) as complex\", \"*\").show(5)"
   ]
  },
  {
   "cell_type": "code",
   "execution_count": 11,
   "id": "cfbf4e53-7ed5-4d00-bd20-eed306a47952",
   "metadata": {
    "execution": {
     "iopub.execute_input": "2021-06-28T11:24:00.581608Z",
     "iopub.status.busy": "2021-06-28T11:24:00.581322Z",
     "iopub.status.idle": "2021-06-28T11:24:00.761241Z",
     "shell.execute_reply": "2021-06-28T11:24:00.758701Z",
     "shell.execute_reply.started": "2021-06-28T11:24:00.581566Z"
    },
    "tags": []
   },
   "outputs": [],
   "source": [
    "from pyspark.sql.functions import struct\n",
    "\n",
    "complexDF = df.select(struct(\"Description\", \"InvoiceNo\").alias(\"complex\"))\n",
    "complexDF.createOrReplaceTempView(\"complexDF\")"
   ]
  },
  {
   "cell_type": "code",
   "execution_count": 12,
   "id": "6cbf375f-08e0-470a-9679-020f1712e206",
   "metadata": {
    "execution": {
     "iopub.execute_input": "2021-06-28T11:24:06.314745Z",
     "iopub.status.busy": "2021-06-28T11:24:06.314450Z",
     "iopub.status.idle": "2021-06-28T11:24:06.464543Z",
     "shell.execute_reply": "2021-06-28T11:24:06.461971Z",
     "shell.execute_reply.started": "2021-06-28T11:24:06.314701Z"
    },
    "tags": []
   },
   "outputs": [
    {
     "name": "stdout",
     "output_type": "stream",
     "text": [
      "+-----------------------------------+\n",
      "|Description                        |\n",
      "+-----------------------------------+\n",
      "|WHITE HANGING HEART T-LIGHT HOLDER |\n",
      "|WHITE METAL LANTERN                |\n",
      "|CREAM CUPID HEARTS COAT HANGER     |\n",
      "|KNITTED UNION FLAG HOT WATER BOTTLE|\n",
      "|RED WOOLLY HOTTIE WHITE HEART.     |\n",
      "+-----------------------------------+\n",
      "only showing top 5 rows\n",
      "\n"
     ]
    }
   ],
   "source": [
    "complexDF.select(\"complex.Description\").show(5, False)"
   ]
  },
  {
   "cell_type": "code",
   "execution_count": 13,
   "id": "a8f42ca6-84bd-47db-b81f-3e35f667ff4a",
   "metadata": {
    "execution": {
     "iopub.execute_input": "2021-06-28T11:24:11.258486Z",
     "iopub.status.busy": "2021-06-28T11:24:11.258202Z",
     "iopub.status.idle": "2021-06-28T11:24:11.420445Z",
     "shell.execute_reply": "2021-06-28T11:24:11.418938Z",
     "shell.execute_reply.started": "2021-06-28T11:24:11.258443Z"
    },
    "tags": []
   },
   "outputs": [
    {
     "name": "stdout",
     "output_type": "stream",
     "text": [
      "+-----------------------------------+\n",
      "|complex.Description                |\n",
      "+-----------------------------------+\n",
      "|WHITE HANGING HEART T-LIGHT HOLDER |\n",
      "|WHITE METAL LANTERN                |\n",
      "|CREAM CUPID HEARTS COAT HANGER     |\n",
      "|KNITTED UNION FLAG HOT WATER BOTTLE|\n",
      "|RED WOOLLY HOTTIE WHITE HEART.     |\n",
      "+-----------------------------------+\n",
      "only showing top 5 rows\n",
      "\n"
     ]
    }
   ],
   "source": [
    "complexDF.select(col(\"complex\").getField(\"Description\")).show(5, False)"
   ]
  },
  {
   "cell_type": "code",
   "execution_count": 14,
   "id": "22e2d7f3-8416-4a68-ad11-4996fb571467",
   "metadata": {
    "execution": {
     "iopub.execute_input": "2021-06-28T11:24:14.096908Z",
     "iopub.status.busy": "2021-06-28T11:24:14.096609Z",
     "iopub.status.idle": "2021-06-28T11:24:14.276843Z",
     "shell.execute_reply": "2021-06-28T11:24:14.274272Z",
     "shell.execute_reply.started": "2021-06-28T11:24:14.096865Z"
    },
    "tags": []
   },
   "outputs": [
    {
     "name": "stdout",
     "output_type": "stream",
     "text": [
      "+-----------------------------------+---------+\n",
      "|Description                        |InvoiceNo|\n",
      "+-----------------------------------+---------+\n",
      "|WHITE HANGING HEART T-LIGHT HOLDER |536365   |\n",
      "|WHITE METAL LANTERN                |536365   |\n",
      "|CREAM CUPID HEARTS COAT HANGER     |536365   |\n",
      "|KNITTED UNION FLAG HOT WATER BOTTLE|536365   |\n",
      "|RED WOOLLY HOTTIE WHITE HEART.     |536365   |\n",
      "+-----------------------------------+---------+\n",
      "only showing top 5 rows\n",
      "\n"
     ]
    }
   ],
   "source": [
    "## .을 이용하면 구조체 컬럼이 하나로 나오지 않고, 모든 컬럼을 최상위 수준으로 끌어올릴 수 있음\n",
    "complexDF.select(\"complex.*\").show(5, False)"
   ]
  },
  {
   "cell_type": "code",
   "execution_count": 15,
   "id": "931401dc-3866-4cb7-a8b5-60db292d1a91",
   "metadata": {
    "execution": {
     "iopub.execute_input": "2021-06-28T11:24:16.656316Z",
     "iopub.status.busy": "2021-06-28T11:24:16.656036Z",
     "iopub.status.idle": "2021-06-28T11:24:16.808124Z",
     "shell.execute_reply": "2021-06-28T11:24:16.805557Z",
     "shell.execute_reply.started": "2021-06-28T11:24:16.656273Z"
    },
    "tags": []
   },
   "outputs": [
    {
     "name": "stdout",
     "output_type": "stream",
     "text": [
      "+---------------------------------------------+\n",
      "|complex                                      |\n",
      "+---------------------------------------------+\n",
      "|[WHITE HANGING HEART T-LIGHT HOLDER, 536365] |\n",
      "|[WHITE METAL LANTERN, 536365]                |\n",
      "|[CREAM CUPID HEARTS COAT HANGER, 536365]     |\n",
      "|[KNITTED UNION FLAG HOT WATER BOTTLE, 536365]|\n",
      "|[RED WOOLLY HOTTIE WHITE HEART., 536365]     |\n",
      "+---------------------------------------------+\n",
      "only showing top 5 rows\n",
      "\n"
     ]
    }
   ],
   "source": [
    "## 구조체 하나로 볼 경우에는, . 없이 select\n",
    "complexDF.select(\"complex\").show(5, False)"
   ]
  },
  {
   "cell_type": "code",
   "execution_count": 9,
   "id": "0276545d-e8bc-4dfd-923e-8d680dab107a",
   "metadata": {
    "execution": {
     "iopub.execute_input": "2021-06-28T11:23:47.660536Z",
     "iopub.status.busy": "2021-06-28T11:23:47.660253Z",
     "iopub.status.idle": "2021-06-28T11:23:48.260568Z",
     "shell.execute_reply": "2021-06-28T11:23:48.260043Z",
     "shell.execute_reply.started": "2021-06-28T11:23:47.660496Z"
    },
    "tags": []
   },
   "outputs": [
    {
     "name": "stdout",
     "output_type": "stream",
     "text": [
      "+----------------------------------------+\n",
      "|split(Description,  )                   |\n",
      "+----------------------------------------+\n",
      "|[WHITE, HANGING, HEART, T-LIGHT, HOLDER]|\n",
      "|[WHITE, METAL, LANTERN]                 |\n",
      "+----------------------------------------+\n",
      "only showing top 2 rows\n",
      "\n"
     ]
    }
   ],
   "source": [
    "## 6.9.2 배열\n",
    "from pyspark.sql.functions import split\n",
    "## split\n",
    "df.select(split(col(\"Description\"), \" \")).show(2, False)"
   ]
  },
  {
   "cell_type": "code",
   "execution_count": 30,
   "id": "303dd2d2-0411-4e79-9b80-c78d727a7776",
   "metadata": {
    "execution": {
     "iopub.execute_input": "2021-06-27T01:22:16.400435Z",
     "iopub.status.busy": "2021-06-27T01:22:16.400149Z",
     "iopub.status.idle": "2021-06-27T01:22:16.566648Z",
     "shell.execute_reply": "2021-06-27T01:22:16.563915Z",
     "shell.execute_reply.started": "2021-06-27T01:22:16.400392Z"
    },
    "tags": []
   },
   "outputs": [
    {
     "name": "stdout",
     "output_type": "stream",
     "text": [
      "+------------+\n",
      "|array_col[1]|\n",
      "+------------+\n",
      "|     HANGING|\n",
      "|       METAL|\n",
      "+------------+\n",
      "only showing top 2 rows\n",
      "\n"
     ]
    }
   ],
   "source": [
    "df.select(split(col(\"Description\"), \" \").alias(\"array_col\")).selectExpr(\"array_col[1]\").show(2)"
   ]
  },
  {
   "cell_type": "code",
   "execution_count": 32,
   "id": "7831b6bf-ba47-48c3-9f1d-f789d6cd7c22",
   "metadata": {
    "execution": {
     "iopub.execute_input": "2021-06-27T01:23:14.714423Z",
     "iopub.status.busy": "2021-06-27T01:23:14.714127Z",
     "iopub.status.idle": "2021-06-27T01:23:14.881420Z",
     "shell.execute_reply": "2021-06-27T01:23:14.879767Z",
     "shell.execute_reply.started": "2021-06-27T01:23:14.714383Z"
    },
    "tags": []
   },
   "outputs": [
    {
     "name": "stdout",
     "output_type": "stream",
     "text": [
      "+---------------------------+\n",
      "|size(split(Description,  ))|\n",
      "+---------------------------+\n",
      "|                          5|\n",
      "|                          3|\n",
      "+---------------------------+\n",
      "only showing top 2 rows\n",
      "\n"
     ]
    }
   ],
   "source": [
    "## size : 배열의 크기 조회\n",
    "from pyspark.sql.functions import size\n",
    "\n",
    "df.select(size(split(col(\"Description\"), \" \"))).show(2)"
   ]
  },
  {
   "cell_type": "code",
   "execution_count": 34,
   "id": "6a8a0f41-7c19-48d0-a1a5-a4f1b4f79960",
   "metadata": {
    "execution": {
     "iopub.execute_input": "2021-06-27T01:24:33.604844Z",
     "iopub.status.busy": "2021-06-27T01:24:33.604549Z",
     "iopub.status.idle": "2021-06-27T01:24:33.789674Z",
     "shell.execute_reply": "2021-06-27T01:24:33.787010Z",
     "shell.execute_reply.started": "2021-06-27T01:24:33.604803Z"
    },
    "tags": []
   },
   "outputs": [
    {
     "name": "stdout",
     "output_type": "stream",
     "text": [
      "+--------------------------------------------+\n",
      "|array_contains(split(Description,  ), WHITE)|\n",
      "+--------------------------------------------+\n",
      "|                                        true|\n",
      "|                                        true|\n",
      "+--------------------------------------------+\n",
      "only showing top 2 rows\n",
      "\n"
     ]
    }
   ],
   "source": [
    "## array_contains : 배열에 특정 값이 존재하는지 확인\n",
    "from pyspark.sql.functions import array_contains\n",
    "\n",
    "df.select(array_contains(split(col(\"Description\"), \" \"), \"WHITE\")).show(2)"
   ]
  },
  {
   "cell_type": "code",
   "execution_count": 78,
   "id": "0470f64d-4c13-40a4-9815-d844d4d3b3a7",
   "metadata": {
    "execution": {
     "iopub.execute_input": "2021-06-29T13:02:37.998853Z",
     "iopub.status.busy": "2021-06-29T13:02:37.998564Z",
     "iopub.status.idle": "2021-06-29T13:02:38.172901Z",
     "shell.execute_reply": "2021-06-29T13:02:38.170337Z",
     "shell.execute_reply.started": "2021-06-29T13:02:37.998810Z"
    }
   },
   "outputs": [
    {
     "name": "stdout",
     "output_type": "stream",
     "text": [
      "+---------+---------+--------------------+--------+-------------------+---------+----------+--------------+\n",
      "|InvoiceNo|StockCode|         Description|Quantity|        InvoiceDate|UnitPrice|CustomerID|       Country|\n",
      "+---------+---------+--------------------+--------+-------------------+---------+----------+--------------+\n",
      "|   536365|   85123A|WHITE HANGING HEA...|       6|2010-12-01 08:26:00|     2.55|   17850.0|United Kingdom|\n",
      "|   536365|    71053| WHITE METAL LANTERN|       6|2010-12-01 08:26:00|     3.39|   17850.0|United Kingdom|\n",
      "|   536365|   84406B|CREAM CUPID HEART...|       8|2010-12-01 08:26:00|     2.75|   17850.0|United Kingdom|\n",
      "|   536365|   84029G|KNITTED UNION FLA...|       6|2010-12-01 08:26:00|     3.39|   17850.0|United Kingdom|\n",
      "|   536365|   84029E|RED WOOLLY HOTTIE...|       6|2010-12-01 08:26:00|     3.39|   17850.0|United Kingdom|\n",
      "|   536365|    22752|SET 7 BABUSHKA NE...|       2|2010-12-01 08:26:00|     7.65|   17850.0|United Kingdom|\n",
      "|   536365|    21730|GLASS STAR FROSTE...|       6|2010-12-01 08:26:00|     4.25|   17850.0|United Kingdom|\n",
      "|   536366|    22633|HAND WARMER UNION...|       6|2010-12-01 08:28:00|     1.85|   17850.0|United Kingdom|\n",
      "|   536366|    22632|HAND WARMER RED P...|       6|2010-12-01 08:28:00|     1.85|   17850.0|United Kingdom|\n",
      "|   536367|    84879|ASSORTED COLOUR B...|      32|2010-12-01 08:34:00|     1.69|   13047.0|United Kingdom|\n",
      "+---------+---------+--------------------+--------+-------------------+---------+----------+--------------+\n",
      "only showing top 10 rows\n",
      "\n"
     ]
    }
   ],
   "source": [
    "df.show(10)"
   ]
  },
  {
   "cell_type": "code",
   "execution_count": 8,
   "id": "f1c7142a-31bd-4292-9624-0f09987818df",
   "metadata": {
    "execution": {
     "iopub.execute_input": "2021-06-28T11:22:53.606746Z",
     "iopub.status.busy": "2021-06-28T11:22:53.606452Z",
     "iopub.status.idle": "2021-06-28T11:22:53.885566Z",
     "shell.execute_reply": "2021-06-28T11:22:53.883031Z",
     "shell.execute_reply.started": "2021-06-28T11:22:53.606701Z"
    },
    "tags": []
   },
   "outputs": [
    {
     "name": "stdout",
     "output_type": "stream",
     "text": [
      "+----------------------------------+---------+----------------------------------------+--------+\n",
      "|Description                       |InvoiceNo|splitted                                |exploded|\n",
      "+----------------------------------+---------+----------------------------------------+--------+\n",
      "|WHITE HANGING HEART T-LIGHT HOLDER|536365   |[WHITE, HANGING, HEART, T-LIGHT, HOLDER]|WHITE   |\n",
      "|WHITE HANGING HEART T-LIGHT HOLDER|536365   |[WHITE, HANGING, HEART, T-LIGHT, HOLDER]|HANGING |\n",
      "|WHITE HANGING HEART T-LIGHT HOLDER|536365   |[WHITE, HANGING, HEART, T-LIGHT, HOLDER]|HEART   |\n",
      "|WHITE HANGING HEART T-LIGHT HOLDER|536365   |[WHITE, HANGING, HEART, T-LIGHT, HOLDER]|T-LIGHT |\n",
      "|WHITE HANGING HEART T-LIGHT HOLDER|536365   |[WHITE, HANGING, HEART, T-LIGHT, HOLDER]|HOLDER  |\n",
      "|WHITE METAL LANTERN               |536365   |[WHITE, METAL, LANTERN]                 |WHITE   |\n",
      "|WHITE METAL LANTERN               |536365   |[WHITE, METAL, LANTERN]                 |METAL   |\n",
      "|WHITE METAL LANTERN               |536365   |[WHITE, METAL, LANTERN]                 |LANTERN |\n",
      "|CREAM CUPID HEARTS COAT HANGER    |536365   |[CREAM, CUPID, HEARTS, COAT, HANGER]    |CREAM   |\n",
      "|CREAM CUPID HEARTS COAT HANGER    |536365   |[CREAM, CUPID, HEARTS, COAT, HANGER]    |CUPID   |\n",
      "+----------------------------------+---------+----------------------------------------+--------+\n",
      "only showing top 10 rows\n",
      "\n"
     ]
    }
   ],
   "source": [
    "## explode : 배열에 존재하는 모든 값을 로우로 쪼개어 변환\n",
    "from pyspark.sql.functions import split, explode\n",
    "\n",
    "df.withColumn(\"splitted\", split(col(\"Description\"), \" \"))\\\n",
    ".withColumn(\"exploded\", explode(col(\"splitted\")))\\\n",
    ".select(\"Description\", \"InvoiceNo\", \"splitted\", \"exploded\").show(10, False)"
   ]
  },
  {
   "cell_type": "code",
   "execution_count": 80,
   "id": "a9ab6370-1243-46df-855b-fa2aa8f6badc",
   "metadata": {
    "execution": {
     "iopub.execute_input": "2021-06-29T13:08:13.669670Z",
     "iopub.status.busy": "2021-06-29T13:08:13.669389Z",
     "iopub.status.idle": "2021-06-29T13:08:13.809792Z",
     "shell.execute_reply": "2021-06-29T13:08:13.807244Z",
     "shell.execute_reply.started": "2021-06-29T13:08:13.669628Z"
    },
    "tags": []
   },
   "outputs": [
    {
     "name": "stdout",
     "output_type": "stream",
     "text": [
      "+-----------------------------------------------+\n",
      "|complex_map                                    |\n",
      "+-----------------------------------------------+\n",
      "|[WHITE HANGING HEART T-LIGHT HOLDER -> 536365] |\n",
      "|[WHITE METAL LANTERN -> 536365]                |\n",
      "|[CREAM CUPID HEARTS COAT HANGER -> 536365]     |\n",
      "|[KNITTED UNION FLAG HOT WATER BOTTLE -> 536365]|\n",
      "|[RED WOOLLY HOTTIE WHITE HEART. -> 536365]     |\n",
      "|[SET 7 BABUSHKA NESTING BOXES -> 536365]       |\n",
      "|[GLASS STAR FROSTED T-LIGHT HOLDER -> 536365]  |\n",
      "|[HAND WARMER UNION JACK -> 536366]             |\n",
      "|[HAND WARMER RED POLKA DOT -> 536366]          |\n",
      "|[ASSORTED COLOUR BIRD ORNAMENT -> 536367]      |\n",
      "+-----------------------------------------------+\n",
      "only showing top 10 rows\n",
      "\n"
     ]
    }
   ],
   "source": [
    "## 6.9.3 Map \n",
    "## create_map : 컬럼의 키-값 쌍을 이용해 생성\n",
    "from pyspark.sql.functions import create_map\n",
    "df.select(create_map(col(\"Description\"), col(\"InvoiceNo\")).alias(\"complex_map\")).show(10, False)"
   ]
  },
  {
   "cell_type": "code",
   "execution_count": 23,
   "id": "4b95dc2f-318f-41f1-b1ea-5a71eaf5bdd6",
   "metadata": {
    "execution": {
     "iopub.execute_input": "2021-06-28T11:29:18.583627Z",
     "iopub.status.busy": "2021-06-28T11:29:18.583337Z",
     "iopub.status.idle": "2021-06-28T11:29:18.725982Z",
     "shell.execute_reply": "2021-06-28T11:29:18.723391Z",
     "shell.execute_reply.started": "2021-06-28T11:29:18.583584Z"
    },
    "tags": []
   },
   "outputs": [
    {
     "name": "stdout",
     "output_type": "stream",
     "text": [
      "+--------------------------------+\n",
      "|complex_map[WHITE METAL LANTERN]|\n",
      "+--------------------------------+\n",
      "|                            null|\n",
      "|                          536365|\n",
      "|                            null|\n",
      "|                            null|\n",
      "|                            null|\n",
      "|                            null|\n",
      "|                            null|\n",
      "|                            null|\n",
      "|                            null|\n",
      "|                            null|\n",
      "|                            null|\n",
      "|                            null|\n",
      "|                            null|\n",
      "|                            null|\n",
      "|                            null|\n",
      "|                            null|\n",
      "|                            null|\n",
      "|                            null|\n",
      "|                            null|\n",
      "|                            null|\n",
      "+--------------------------------+\n",
      "only showing top 20 rows\n",
      "\n"
     ]
    }
   ],
   "source": [
    "df.select(create_map(col(\"Description\"), col(\"InvoiceNo\")).alias(\"complex_map\")).selectExpr(\"complex_map['WHITE METAL LANTERN']\").show(20)"
   ]
  },
  {
   "cell_type": "code",
   "execution_count": 26,
   "id": "087edc23-aa7d-46cc-8b04-bfe8fe8a0b4a",
   "metadata": {
    "execution": {
     "iopub.execute_input": "2021-06-28T11:31:49.584979Z",
     "iopub.status.busy": "2021-06-28T11:31:49.584535Z",
     "iopub.status.idle": "2021-06-28T11:31:49.742844Z",
     "shell.execute_reply": "2021-06-28T11:31:49.741331Z",
     "shell.execute_reply.started": "2021-06-28T11:31:49.584852Z"
    },
    "tags": []
   },
   "outputs": [
    {
     "name": "stdout",
     "output_type": "stream",
     "text": [
      "+-----------------------------------+------+\n",
      "|key                                |value |\n",
      "+-----------------------------------+------+\n",
      "|WHITE HANGING HEART T-LIGHT HOLDER |536365|\n",
      "|WHITE METAL LANTERN                |536365|\n",
      "|CREAM CUPID HEARTS COAT HANGER     |536365|\n",
      "|KNITTED UNION FLAG HOT WATER BOTTLE|536365|\n",
      "|RED WOOLLY HOTTIE WHITE HEART.     |536365|\n",
      "|SET 7 BABUSHKA NESTING BOXES       |536365|\n",
      "|GLASS STAR FROSTED T-LIGHT HOLDER  |536365|\n",
      "|HAND WARMER UNION JACK             |536366|\n",
      "|HAND WARMER RED POLKA DOT          |536366|\n",
      "|ASSORTED COLOUR BIRD ORNAMENT      |536367|\n",
      "+-----------------------------------+------+\n",
      "only showing top 10 rows\n",
      "\n"
     ]
    }
   ],
   "source": [
    "# key, value 분해하여 컬럼으로 변환\n",
    "df.select(create_map(col(\"Description\"), col(\"InvoiceNo\")).alias(\"complex_map\")).selectExpr(\"explode(complex_map)\").show(10, False)"
   ]
  },
  {
   "cell_type": "markdown",
   "id": "ec1d3b3a-daa4-449b-972e-a7e69a6e3884",
   "metadata": {},
   "source": [
    "#### 6.10 JSON 다루기"
   ]
  },
  {
   "cell_type": "code",
   "execution_count": 31,
   "id": "4cd13444-aaf9-41cb-83ee-a1c767b3cc85",
   "metadata": {
    "execution": {
     "iopub.execute_input": "2021-06-28T11:39:35.398500Z",
     "iopub.status.busy": "2021-06-28T11:39:35.398218Z",
     "iopub.status.idle": "2021-06-28T11:39:35.417537Z",
     "shell.execute_reply": "2021-06-28T11:39:35.414912Z",
     "shell.execute_reply.started": "2021-06-28T11:39:35.398458Z"
    },
    "tags": []
   },
   "outputs": [],
   "source": [
    "jsonDF = spark.range(1).selectExpr(\"\"\"\n",
    "'{\"myJSONKey\" : {\"myJSONValue\" : [1, 2, 3]}}' as jsonString\n",
    "\"\"\")"
   ]
  },
  {
   "cell_type": "code",
   "execution_count": 36,
   "id": "95d9bcf2-b691-4328-a4b0-e8b620249263",
   "metadata": {
    "execution": {
     "iopub.execute_input": "2021-06-28T11:47:15.216945Z",
     "iopub.status.busy": "2021-06-28T11:47:15.216607Z",
     "iopub.status.idle": "2021-06-28T11:47:15.329762Z",
     "shell.execute_reply": "2021-06-28T11:47:15.327205Z",
     "shell.execute_reply.started": "2021-06-28T11:47:15.216902Z"
    },
    "tags": []
   },
   "outputs": [
    {
     "name": "stdout",
     "output_type": "stream",
     "text": [
      "+-------------------------------------------+\n",
      "|jsonString                                 |\n",
      "+-------------------------------------------+\n",
      "|{\"myJSONKey\" : {\"myJSONValue\" : [1, 2, 3]}}|\n",
      "+-------------------------------------------+\n",
      "\n"
     ]
    }
   ],
   "source": [
    "jsonDF.show(5, False)"
   ]
  },
  {
   "cell_type": "code",
   "execution_count": 33,
   "id": "858f7c7c-b33b-4cf2-90e8-b1c5d2713698",
   "metadata": {
    "execution": {
     "iopub.execute_input": "2021-06-28T11:41:56.911814Z",
     "iopub.status.busy": "2021-06-28T11:41:56.911521Z",
     "iopub.status.idle": "2021-06-28T11:41:57.090060Z",
     "shell.execute_reply": "2021-06-28T11:41:57.087476Z",
     "shell.execute_reply.started": "2021-06-28T11:41:56.911768Z"
    },
    "tags": []
   },
   "outputs": [
    {
     "name": "stdout",
     "output_type": "stream",
     "text": [
      "+------+-----------------------+\n",
      "|column|c0                     |\n",
      "+------+-----------------------+\n",
      "|2     |{\"myJSONValue\":[1,2,3]}|\n",
      "+------+-----------------------+\n",
      "\n"
     ]
    }
   ],
   "source": [
    "from pyspark.sql.functions import get_json_object, json_tuple\n",
    "\n",
    "jsonDF.select(\n",
    "get_json_object(col(\"jsonString\"), \"$.myJSONKey.myJSONValue[1]\").alias(\"column\"),\n",
    "json_tuple(col(\"jsonString\"), \"myJSONKey\")).show(2, False)"
   ]
  },
  {
   "cell_type": "code",
   "execution_count": 40,
   "id": "009d733d-df2b-464d-8324-02c05613a487",
   "metadata": {
    "execution": {
     "iopub.execute_input": "2021-06-28T11:51:47.472544Z",
     "iopub.status.busy": "2021-06-28T11:51:47.472259Z",
     "iopub.status.idle": "2021-06-28T11:51:47.613343Z",
     "shell.execute_reply": "2021-06-28T11:51:47.610813Z",
     "shell.execute_reply.started": "2021-06-28T11:51:47.472502Z"
    },
    "tags": []
   },
   "outputs": [
    {
     "name": "stdout",
     "output_type": "stream",
     "text": [
      "+---------------------------------------------+\n",
      "|myStruct                                     |\n",
      "+---------------------------------------------+\n",
      "|[536365, WHITE HANGING HEART T-LIGHT HOLDER] |\n",
      "|[536365, WHITE METAL LANTERN]                |\n",
      "|[536365, CREAM CUPID HEARTS COAT HANGER]     |\n",
      "|[536365, KNITTED UNION FLAG HOT WATER BOTTLE]|\n",
      "|[536365, RED WOOLLY HOTTIE WHITE HEART.]     |\n",
      "|[536365, SET 7 BABUSHKA NESTING BOXES]       |\n",
      "|[536365, GLASS STAR FROSTED T-LIGHT HOLDER]  |\n",
      "|[536366, HAND WARMER UNION JACK]             |\n",
      "|[536366, HAND WARMER RED POLKA DOT]          |\n",
      "|[536367, ASSORTED COLOUR BIRD ORNAMENT]      |\n",
      "+---------------------------------------------+\n",
      "only showing top 10 rows\n",
      "\n"
     ]
    }
   ],
   "source": [
    "from pyspark.sql.functions import to_json\n",
    "\n",
    "df.selectExpr(\"(InvoiceNo, Description) as myStruct\").select(col(\"myStruct\")).show(10, False)"
   ]
  },
  {
   "cell_type": "code",
   "execution_count": 41,
   "id": "613e1953-fd7e-4b86-8a14-c55729df6b06",
   "metadata": {
    "execution": {
     "iopub.execute_input": "2021-06-28T11:52:07.305195Z",
     "iopub.status.busy": "2021-06-28T11:52:07.304909Z",
     "iopub.status.idle": "2021-06-28T11:52:07.451391Z",
     "shell.execute_reply": "2021-06-28T11:52:07.449911Z",
     "shell.execute_reply.started": "2021-06-28T11:52:07.305154Z"
    }
   },
   "outputs": [
    {
     "name": "stdout",
     "output_type": "stream",
     "text": [
      "+--------------------------------------------------------------------------+\n",
      "|structstojson(myStruct)                                                   |\n",
      "+--------------------------------------------------------------------------+\n",
      "|{\"InvoiceNo\":\"536365\",\"Description\":\"WHITE HANGING HEART T-LIGHT HOLDER\"} |\n",
      "|{\"InvoiceNo\":\"536365\",\"Description\":\"WHITE METAL LANTERN\"}                |\n",
      "|{\"InvoiceNo\":\"536365\",\"Description\":\"CREAM CUPID HEARTS COAT HANGER\"}     |\n",
      "|{\"InvoiceNo\":\"536365\",\"Description\":\"KNITTED UNION FLAG HOT WATER BOTTLE\"}|\n",
      "|{\"InvoiceNo\":\"536365\",\"Description\":\"RED WOOLLY HOTTIE WHITE HEART.\"}     |\n",
      "|{\"InvoiceNo\":\"536365\",\"Description\":\"SET 7 BABUSHKA NESTING BOXES\"}       |\n",
      "|{\"InvoiceNo\":\"536365\",\"Description\":\"GLASS STAR FROSTED T-LIGHT HOLDER\"}  |\n",
      "|{\"InvoiceNo\":\"536366\",\"Description\":\"HAND WARMER UNION JACK\"}             |\n",
      "|{\"InvoiceNo\":\"536366\",\"Description\":\"HAND WARMER RED POLKA DOT\"}          |\n",
      "|{\"InvoiceNo\":\"536367\",\"Description\":\"ASSORTED COLOUR BIRD ORNAMENT\"}      |\n",
      "+--------------------------------------------------------------------------+\n",
      "only showing top 10 rows\n",
      "\n"
     ]
    }
   ],
   "source": [
    "# to_json : StructType을 JSON 문자열로 변경\n",
    "df.selectExpr(\"(InvoiceNo, Description) as myStruct\").select(to_json(col(\"myStruct\"))).show(10, False)"
   ]
  },
  {
   "cell_type": "code",
   "execution_count": 44,
   "id": "d6278c09-8f65-4777-8182-0783b0d15550",
   "metadata": {
    "execution": {
     "iopub.execute_input": "2021-06-28T11:58:46.247619Z",
     "iopub.status.busy": "2021-06-28T11:58:46.247331Z",
     "iopub.status.idle": "2021-06-28T11:58:46.386027Z",
     "shell.execute_reply": "2021-06-28T11:58:46.383501Z",
     "shell.execute_reply.started": "2021-06-28T11:58:46.247577Z"
    },
    "tags": []
   },
   "outputs": [
    {
     "name": "stdout",
     "output_type": "stream",
     "text": [
      "+--------------------------------------------+-------------------------------------------------------------------------+\n",
      "|jsontostructs(newJSON)                      |newJSON                                                                  |\n",
      "+--------------------------------------------+-------------------------------------------------------------------------+\n",
      "|[536365, WHITE HANGING HEART T-LIGHT HOLDER]|{\"InvoiceNo\":\"536365\",\"Description\":\"WHITE HANGING HEART T-LIGHT HOLDER\"}|\n",
      "|[536365, WHITE METAL LANTERN]               |{\"InvoiceNo\":\"536365\",\"Description\":\"WHITE METAL LANTERN\"}               |\n",
      "+--------------------------------------------+-------------------------------------------------------------------------+\n",
      "only showing top 2 rows\n",
      "\n"
     ]
    }
   ],
   "source": [
    "from pyspark.sql.functions import from_json\n",
    "from pyspark.sql.types import *\n",
    "\n",
    "# from_json : 반드시 스키마 지정해야함, JSON 문자열을 다시 지정한 type의 객체로 변환\n",
    "\n",
    "parseSchema = StructType((\n",
    "StructField(\"InvoiceNo\", StringType(), True),\n",
    "StructField(\"Description\", StringType(), True)))\n",
    "\n",
    "df.selectExpr(\"(InvoiceNo, Description) as myStruct\")\\\n",
    ".select(to_json(col(\"myStruct\")).alias(\"newJSON\"))\\\n",
    ".select(from_json(col(\"newJSON\"), parseSchema), col(\"newJSON\")).show(2, False)"
   ]
  },
  {
   "cell_type": "markdown",
   "id": "c9026def-2a16-4fb1-b9e3-c9e4248edd2f",
   "metadata": {},
   "source": [
    "#### 6.11 사용자 정의 함수 (User Defined Function) "
   ]
  },
  {
   "cell_type": "markdown",
   "id": "957bbd70-82a9-43ba-b164-ef273f1a268e",
   "metadata": {},
   "source": [
    "- UDF : 파이썬, 스칼라, 외부 라이브러리를 사용해 사용자가 원하는 형태로 트랜스포메이션을 만들 수 있게함\n",
    "- 하나 이상의 컬럼을 입력으로 받고, 반환\n",
    "- 여러 가지 프로그래밍 언어로 개발할 수 있음\n",
    "- 레코드별로 데이터 처리하는 함수 -> 독특한 포맷이나 도메인에 특화된 언어를 사용하지 않음\n",
    "- 기본적으로 특정 SparkSession이나 Context에서 사용할 수 있도록 임시 함수 형태로 등록"
   ]
  },
  {
   "cell_type": "code",
   "execution_count": 83,
   "id": "3dbb1f9c-305b-4530-9c72-4c80a942760c",
   "metadata": {
    "execution": {
     "iopub.execute_input": "2021-06-29T13:31:08.391601Z",
     "iopub.status.busy": "2021-06-29T13:31:08.391316Z",
     "iopub.status.idle": "2021-06-29T13:31:08.440398Z",
     "shell.execute_reply": "2021-06-29T13:31:08.437933Z",
     "shell.execute_reply.started": "2021-06-29T13:31:08.391559Z"
    },
    "tags": []
   },
   "outputs": [
    {
     "data": {
      "text/plain": [
       "8.0"
      ]
     },
     "execution_count": 83,
     "metadata": {},
     "output_type": "execute_result"
    }
   ],
   "source": [
    "## 함수 정의\n",
    "udfExampleDF = spark.range(5).toDF(\"num\")\n",
    "\n",
    "def power3(double_value):\n",
    "    return double_value ** 3\n",
    "power3(2.0)"
   ]
  },
  {
   "cell_type": "markdown",
   "id": "4c5226a0-6e0d-4472-877f-9c7fd0e4d970",
   "metadata": {},
   "source": [
    "- 함수 정의 이후에는 함수를 스파크에 등록 : 워커 노드에서 생성된 함수를 사용할 수 있게 함\n",
    "- 스파크는 드라이버에서 함수를 직렬화하고 네트워크를 통해 익스큐터 프로세스로 전달\n",
    "    - 직렬화 : 객체를 복원가능하면서 전송이 가능한 상태로 바꾸는 작업\n",
    "- 동작 방식 : 언어에 따라 근본적으로 다름\n",
    "    - Scala, Java \n",
    "        - JVM 환경에서만 사용 가능 \n",
    "        - 스파크 내장 함수가 제공하고 코드 생성 기능 활용 불가 -> 약간의 성능 저하\n",
    "    - Python \n",
    "        - 워커 노드에 python 프로세스 실행하고 python이 이해 가능한 포맷으로 모든 데이터를 직렬화\n",
    "        - python 프로세스에 있는 데이터의 로우마다 함수 실행 후, 마지막으로 JVM과 스파크에 처리 결과 반환\n",
    "        \n",
    "- 주의사항\n",
    "    - python으로 데이터를 전달하기 위한 데이터 직렬화가 부하가 가장 큼\n",
    "    - 데이터가 python으로 전달되면 spark에서 워커 메모리를 관리할 수 없음 \n",
    "    - -> JVM과 python이 동일한 머신에서 메모리 경합하면 자원에 제약이 생겨 워커가 비정상적으로 종료될 가능성 있음\n",
    "    - 결론 : 스칼라로 함수 개발해라! python에서도 쓸 수 있다!"
   ]
  },
  {
   "cell_type": "code",
   "execution_count": 84,
   "id": "7659b450-8b6b-46ef-a29e-265bd74008dd",
   "metadata": {
    "execution": {
     "iopub.execute_input": "2021-06-29T13:31:10.391661Z",
     "iopub.status.busy": "2021-06-29T13:31:10.391371Z",
     "iopub.status.idle": "2021-06-29T13:31:10.397770Z",
     "shell.execute_reply": "2021-06-29T13:31:10.396256Z",
     "shell.execute_reply.started": "2021-06-29T13:31:10.391617Z"
    },
    "tags": []
   },
   "outputs": [],
   "source": [
    "## 함수 등록\n",
    "from pyspark.sql.functions import udf\n",
    "\n",
    "power3udf = udf(power3)"
   ]
  },
  {
   "cell_type": "code",
   "execution_count": 48,
   "id": "093bf7b1-4fce-4815-aa04-d37950c55e1d",
   "metadata": {
    "execution": {
     "iopub.execute_input": "2021-06-28T12:45:25.575301Z",
     "iopub.status.busy": "2021-06-28T12:45:25.575012Z",
     "iopub.status.idle": "2021-06-28T12:45:25.729153Z",
     "shell.execute_reply": "2021-06-28T12:45:25.726531Z",
     "shell.execute_reply.started": "2021-06-28T12:45:25.575256Z"
    }
   },
   "outputs": [
    {
     "name": "stdout",
     "output_type": "stream",
     "text": [
      "+---+\n",
      "|num|\n",
      "+---+\n",
      "|  0|\n",
      "|  1|\n",
      "|  2|\n",
      "|  3|\n",
      "|  4|\n",
      "+---+\n",
      "\n"
     ]
    }
   ],
   "source": [
    "udfExampleDF.show()"
   ]
  },
  {
   "cell_type": "code",
   "execution_count": 47,
   "id": "2ed455cb-964b-445f-82b5-2fc218bb4c1b",
   "metadata": {
    "execution": {
     "iopub.execute_input": "2021-06-28T12:45:01.406046Z",
     "iopub.status.busy": "2021-06-28T12:45:01.405753Z",
     "iopub.status.idle": "2021-06-28T12:45:02.371832Z",
     "shell.execute_reply": "2021-06-28T12:45:02.369243Z",
     "shell.execute_reply.started": "2021-06-28T12:45:01.406003Z"
    }
   },
   "outputs": [
    {
     "name": "stdout",
     "output_type": "stream",
     "text": [
      "+-----------+\n",
      "|power3(num)|\n",
      "+-----------+\n",
      "|          0|\n",
      "|          1|\n",
      "+-----------+\n",
      "only showing top 2 rows\n",
      "\n"
     ]
    }
   ],
   "source": [
    "from pyspark.sql.functions import col\n",
    "## 여기까지는 사용자 정의 함수 DataFrame에서만 쓸 수 있음, 문자열 표현식에서는 불가\n",
    "udfExampleDF.select(power3udf(col(\"num\"))).show(2)"
   ]
  },
  {
   "cell_type": "code",
   "execution_count": 89,
   "id": "ce234b54-71df-4ff6-a1da-38ea4d847307",
   "metadata": {
    "execution": {
     "iopub.execute_input": "2021-06-29T13:33:54.391792Z",
     "iopub.status.busy": "2021-06-29T13:33:54.391496Z",
     "iopub.status.idle": "2021-06-29T13:33:55.129740Z",
     "shell.execute_reply": "2021-06-29T13:33:55.127061Z",
     "shell.execute_reply.started": "2021-06-29T13:33:54.391749Z"
    },
    "tags": []
   },
   "outputs": [
    {
     "name": "stdout",
     "output_type": "stream",
     "text": [
      "+-------------+\n",
      "|power3py(num)|\n",
      "+-------------+\n",
      "|         null|\n",
      "|         null|\n",
      "+-------------+\n",
      "only showing top 2 rows\n",
      "\n"
     ]
    }
   ],
   "source": [
    "## 사용자 정의 함수를 Sparksql에 등록 -> 모든 프로그래밍 언어와 SQL에서 사용 가능\n",
    "## spark는 python의 데이터 타입과는 다른 데이터 타입 사용하기 때문에 함수 정의할 때 반환 타입 지정하는 것이 좋음\n",
    "## 반환될 실제 데이터 타입과 일치하지 않는 데이터 타입을 지정하면 오류가 아닌 null 값 반환\n",
    "\n",
    "from pyspark.sql.types import IntegerType, DoubleType, FloatType\n",
    "\n",
    "spark.udf.register(\"power3py\", power3, DoubleType())\n",
    "\n",
    "udfExampleDF.selectExpr(\"power3py(num)\").show(2)"
   ]
  },
  {
   "cell_type": "code",
   "execution_count": 56,
   "id": "cf3d0957-2b51-4ab4-8c2f-802b69f8b273",
   "metadata": {
    "execution": {
     "iopub.execute_input": "2021-06-28T12:57:22.613141Z",
     "iopub.status.busy": "2021-06-28T12:57:22.612851Z",
     "iopub.status.idle": "2021-06-28T12:57:22.834542Z",
     "shell.execute_reply": "2021-06-28T12:57:22.831914Z",
     "shell.execute_reply.started": "2021-06-28T12:57:22.613100Z"
    },
    "tags": []
   },
   "outputs": [
    {
     "name": "stdout",
     "output_type": "stream",
     "text": [
      "+--------------+\n",
      "|power33py(num)|\n",
      "+--------------+\n",
      "|             0|\n",
      "|             1|\n",
      "|             8|\n",
      "|            27|\n",
      "|            64|\n",
      "+--------------+\n",
      "\n"
     ]
    }
   ],
   "source": [
    "spark.udf.register(\"power33py\", power3, IntegerType())\n",
    "udfExampleDF.selectExpr(\"power33py(num)\").show(5)"
   ]
  },
  {
   "cell_type": "markdown",
   "id": "f72b8753-70b9-493d-a42e-35f13c6192dc",
   "metadata": {},
   "source": [
    "#### 6.12 Hive UDF"
   ]
  },
  {
   "cell_type": "markdown",
   "id": "2578a63c-5177-4cba-9978-579cdde7f8f6",
   "metadata": {},
   "source": [
    "- Hive 문법을 사용해서 만든 UDF/UDAF도 사용 가능\n",
    "- SparkSession 생성시 SparkSession.builder().enableHiveSupport() 를 명시해 하이브 지원 기능을 활성화 해야함\n",
    "- 활성화되면 SQL로 UDF 등록 가능"
   ]
  },
  {
   "cell_type": "code",
   "execution_count": 57,
   "id": "dff059cf-a322-429d-959f-b01acd860fca",
   "metadata": {
    "execution": {
     "iopub.execute_input": "2021-06-28T13:01:06.096678Z",
     "iopub.status.busy": "2021-06-28T13:01:06.096235Z",
     "iopub.status.idle": "2021-06-28T13:01:06.103373Z",
     "shell.execute_reply": "2021-06-28T13:01:06.100774Z",
     "shell.execute_reply.started": "2021-06-28T13:01:06.096484Z"
    }
   },
   "outputs": [],
   "source": [
    "## SQL\n",
    "## CREATE TEMPORARY FUNCTION myFunc AS 'com.orgarnization.hive.udf.FunctionName'\n",
    "## TEMPORARY 없애면 하이브 메타스토어에 영구 함수로 등록됨"
   ]
  },
  {
   "cell_type": "markdown",
   "id": "0f86a74e-84e5-4c86-ae81-96f7d3799c91",
   "metadata": {},
   "source": [
    "#### 6.13 정리\n",
    "- 스파크 SQL을 사용 목적에 맞게 확장하는게 참 쉬움\n",
    "- 특화되 언어가 아닌 스파크를 사용하지 않고도 간단한 함수만으로 스파크 SQL 확장 가능"
   ]
  }
 ],
 "metadata": {
  "kernelspec": {
   "display_name": "PySpark-driver-mem-32g",
   "language": "python",
   "name": "pyspark-driver-mem-32g"
  },
  "language_info": {
   "codemirror_mode": {
    "name": "ipython",
    "version": 2
   },
   "file_extension": ".py",
   "mimetype": "text/x-python",
   "name": "python",
   "nbconvert_exporter": "python",
   "pygments_lexer": "ipython2",
   "version": "2.7.18"
  }
 },
 "nbformat": 4,
 "nbformat_minor": 5
}
