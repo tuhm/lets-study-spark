{
 "cells": [
  {
   "cell_type": "code",
   "execution_count": 12,
   "id": "f0f8e5fe-bc2d-44d7-b910-0196f6e4f3d1",
   "metadata": {
    "execution": {
     "iopub.execute_input": "2021-07-12T05:33:53.131871Z",
     "iopub.status.busy": "2021-07-12T05:33:53.131254Z",
     "iopub.status.idle": "2021-07-12T05:34:03.565107Z",
     "shell.execute_reply": "2021-07-12T05:34:03.562331Z",
     "shell.execute_reply.started": "2021-07-12T05:33:53.131783Z"
    },
    "tags": []
   },
   "outputs": [],
   "source": [
    "df = spark.read.format(\"csv\")\\\n",
    "  .option(\"header\", \"true\")\\\n",
    "  .option(\"inferSchema\", \"true\")\\\n",
    "  .load(\"viewfs://iu/user/fp10363/online-retail-dataset.csv\")\\\n",
    "  .coalesce(5)\n",
    "df.cache()\n",
    "df.createOrReplaceTempView(\"dfTable\")\n"
   ]
  },
  {
   "cell_type": "code",
   "execution_count": 17,
   "id": "1ea293cc-3da6-4032-8516-c8588676fb10",
   "metadata": {
    "execution": {
     "iopub.execute_input": "2021-07-12T05:34:56.122885Z",
     "iopub.status.busy": "2021-07-12T05:34:56.121991Z",
     "iopub.status.idle": "2021-07-12T05:34:56.387588Z",
     "shell.execute_reply": "2021-07-12T05:34:56.384109Z",
     "shell.execute_reply.started": "2021-07-12T05:34:56.122581Z"
    },
    "tags": []
   },
   "outputs": [
    {
     "name": "stdout",
     "output_type": "stream",
     "text": [
      "+---------+---------+--------------------+--------+--------------+---------+----------+--------------+\n",
      "|InvoiceNo|StockCode|         Description|Quantity|   InvoiceDate|UnitPrice|CustomerID|       Country|\n",
      "+---------+---------+--------------------+--------+--------------+---------+----------+--------------+\n",
      "|   536365|   85123A|WHITE HANGING HEA...|       6|12/1/2010 8:26|     2.55|     17850|United Kingdom|\n",
      "|   536365|    71053| WHITE METAL LANTERN|       6|12/1/2010 8:26|     3.39|     17850|United Kingdom|\n",
      "|   536365|   84406B|CREAM CUPID HEART...|       8|12/1/2010 8:26|     2.75|     17850|United Kingdom|\n",
      "|   536365|   84029G|KNITTED UNION FLA...|       6|12/1/2010 8:26|     3.39|     17850|United Kingdom|\n",
      "|   536365|   84029E|RED WOOLLY HOTTIE...|       6|12/1/2010 8:26|     3.39|     17850|United Kingdom|\n",
      "|   536365|    22752|SET 7 BABUSHKA NE...|       2|12/1/2010 8:26|     7.65|     17850|United Kingdom|\n",
      "|   536365|    21730|GLASS STAR FROSTE...|       6|12/1/2010 8:26|     4.25|     17850|United Kingdom|\n",
      "|   536366|    22633|HAND WARMER UNION...|       6|12/1/2010 8:28|     1.85|     17850|United Kingdom|\n",
      "|   536366|    22632|HAND WARMER RED P...|       6|12/1/2010 8:28|     1.85|     17850|United Kingdom|\n",
      "|   536367|    84879|ASSORTED COLOUR B...|      32|12/1/2010 8:34|     1.69|     13047|United Kingdom|\n",
      "|   536367|    22745|POPPY'S PLAYHOUSE...|       6|12/1/2010 8:34|      2.1|     13047|United Kingdom|\n",
      "|   536367|    22748|POPPY'S PLAYHOUSE...|       6|12/1/2010 8:34|      2.1|     13047|United Kingdom|\n",
      "|   536367|    22749|FELTCRAFT PRINCES...|       8|12/1/2010 8:34|     3.75|     13047|United Kingdom|\n",
      "|   536367|    22310|IVORY KNITTED MUG...|       6|12/1/2010 8:34|     1.65|     13047|United Kingdom|\n",
      "|   536367|    84969|BOX OF 6 ASSORTED...|       6|12/1/2010 8:34|     4.25|     13047|United Kingdom|\n",
      "|   536367|    22623|BOX OF VINTAGE JI...|       3|12/1/2010 8:34|     4.95|     13047|United Kingdom|\n",
      "|   536367|    22622|BOX OF VINTAGE AL...|       2|12/1/2010 8:34|     9.95|     13047|United Kingdom|\n",
      "|   536367|    21754|HOME BUILDING BLO...|       3|12/1/2010 8:34|     5.95|     13047|United Kingdom|\n",
      "|   536367|    21755|LOVE BUILDING BLO...|       3|12/1/2010 8:34|     5.95|     13047|United Kingdom|\n",
      "|   536367|    21777|RECIPE BOX WITH M...|       4|12/1/2010 8:34|     7.95|     13047|United Kingdom|\n",
      "+---------+---------+--------------------+--------+--------------+---------+----------+--------------+\n",
      "only showing top 20 rows\n",
      "\n"
     ]
    }
   ],
   "source": [
    "df.show()"
   ]
  },
  {
   "cell_type": "code",
   "execution_count": 13,
   "id": "63d7dbe7-b054-4857-b321-f07b97a3c3c7",
   "metadata": {
    "execution": {
     "iopub.execute_input": "2021-07-12T05:34:24.125182Z",
     "iopub.status.busy": "2021-07-12T05:34:24.124102Z",
     "iopub.status.idle": "2021-07-12T05:34:26.677370Z",
     "shell.execute_reply": "2021-07-12T05:34:26.674453Z",
     "shell.execute_reply.started": "2021-07-12T05:34:24.124793Z"
    }
   },
   "outputs": [
    {
     "name": "stdout",
     "output_type": "stream",
     "text": [
      "+----------------+\n",
      "|count(StockCode)|\n",
      "+----------------+\n",
      "|          541909|\n",
      "+----------------+\n",
      "\n"
     ]
    }
   ],
   "source": [
    "from pyspark.sql.functions import count\n",
    "df.select(count(\"StockCode\")).show() # 541909\n"
   ]
  },
  {
   "cell_type": "code",
   "execution_count": 14,
   "id": "879ab3d9-8a5b-4e14-8946-2107f7c89408",
   "metadata": {
    "execution": {
     "iopub.execute_input": "2021-07-12T05:34:36.124885Z",
     "iopub.status.busy": "2021-07-12T05:34:36.123891Z",
     "iopub.status.idle": "2021-07-12T05:34:38.216714Z",
     "shell.execute_reply": "2021-07-12T05:34:38.213343Z",
     "shell.execute_reply.started": "2021-07-12T05:34:36.124695Z"
    }
   },
   "outputs": [
    {
     "name": "stdout",
     "output_type": "stream",
     "text": [
      "+-------------------------+\n",
      "|count(DISTINCT StockCode)|\n",
      "+-------------------------+\n",
      "|                     4070|\n",
      "+-------------------------+\n",
      "\n"
     ]
    }
   ],
   "source": [
    "from pyspark.sql.functions import countDistinct\n",
    "df.select(countDistinct(\"StockCode\")).show() # 4070"
   ]
  },
  {
   "cell_type": "code",
   "execution_count": 18,
   "id": "78d9806a-94e2-4c6d-927b-9b49fe727baa",
   "metadata": {
    "execution": {
     "iopub.execute_input": "2021-07-12T05:41:33.326638Z",
     "iopub.status.busy": "2021-07-12T05:41:33.325870Z",
     "iopub.status.idle": "2021-07-12T05:41:33.956667Z",
     "shell.execute_reply": "2021-07-12T05:41:33.953714Z",
     "shell.execute_reply.started": "2021-07-12T05:41:33.326511Z"
    }
   },
   "outputs": [
    {
     "name": "stdout",
     "output_type": "stream",
     "text": [
      "+--------------------------------+\n",
      "|approx_count_distinct(StockCode)|\n",
      "+--------------------------------+\n",
      "|                            3364|\n",
      "+--------------------------------+\n",
      "\n"
     ]
    }
   ],
   "source": [
    "from pyspark.sql.functions import approx_count_distinct\n",
    "df.select(approx_count_distinct(\"StockCode\", 0.1)).show() # 3364"
   ]
  },
  {
   "cell_type": "code",
   "execution_count": 19,
   "id": "703b889f-e7c7-427b-a9a1-b1352a8d4805",
   "metadata": {
    "execution": {
     "iopub.execute_input": "2021-07-12T05:41:42.324668Z",
     "iopub.status.busy": "2021-07-12T05:41:42.324178Z",
     "iopub.status.idle": "2021-07-12T05:41:42.884152Z",
     "shell.execute_reply": "2021-07-12T05:41:42.881018Z",
     "shell.execute_reply.started": "2021-07-12T05:41:42.324587Z"
    }
   },
   "outputs": [
    {
     "name": "stdout",
     "output_type": "stream",
     "text": [
      "+-----------------------+----------------------+\n",
      "|first(StockCode, false)|last(StockCode, false)|\n",
      "+-----------------------+----------------------+\n",
      "|                 85123A|                 22138|\n",
      "+-----------------------+----------------------+\n",
      "\n"
     ]
    }
   ],
   "source": [
    "from pyspark.sql.functions import first, last\n",
    "df.select(first(\"StockCode\"), last(\"StockCode\")).show()\n"
   ]
  },
  {
   "cell_type": "code",
   "execution_count": 20,
   "id": "c542cd69-ed7c-440e-af36-bc3852d55885",
   "metadata": {
    "execution": {
     "iopub.execute_input": "2021-07-12T05:42:37.324500Z",
     "iopub.status.busy": "2021-07-12T05:42:37.323729Z",
     "iopub.status.idle": "2021-07-12T05:42:37.646634Z",
     "shell.execute_reply": "2021-07-12T05:42:37.643410Z",
     "shell.execute_reply.started": "2021-07-12T05:42:37.324378Z"
    }
   },
   "outputs": [
    {
     "name": "stdout",
     "output_type": "stream",
     "text": [
      "+-------------+-------------+\n",
      "|min(Quantity)|max(Quantity)|\n",
      "+-------------+-------------+\n",
      "|       -80995|        80995|\n",
      "+-------------+-------------+\n",
      "\n"
     ]
    }
   ],
   "source": [
    "from pyspark.sql.functions import min, max\n",
    "df.select(min(\"Quantity\"), max(\"Quantity\")).show()"
   ]
  },
  {
   "cell_type": "code",
   "execution_count": 21,
   "id": "42b61efe-1d2b-4dbc-a32a-30e143c5819d",
   "metadata": {
    "execution": {
     "iopub.execute_input": "2021-07-12T05:42:54.323359Z",
     "iopub.status.busy": "2021-07-12T05:42:54.322307Z",
     "iopub.status.idle": "2021-07-12T05:42:54.625269Z",
     "shell.execute_reply": "2021-07-12T05:42:54.622258Z",
     "shell.execute_reply.started": "2021-07-12T05:42:54.323189Z"
    }
   },
   "outputs": [
    {
     "name": "stdout",
     "output_type": "stream",
     "text": [
      "+-------------+\n",
      "|sum(Quantity)|\n",
      "+-------------+\n",
      "|      5176450|\n",
      "+-------------+\n",
      "\n"
     ]
    }
   ],
   "source": [
    "from pyspark.sql.functions import sum\n",
    "df.select(sum(\"Quantity\")).show() # 5176450"
   ]
  },
  {
   "cell_type": "code",
   "execution_count": 22,
   "id": "69c0ed92-0e3b-49b7-a46a-a5db1a7f297b",
   "metadata": {
    "execution": {
     "iopub.execute_input": "2021-07-12T05:43:00.507470Z",
     "iopub.status.busy": "2021-07-12T05:43:00.506652Z",
     "iopub.status.idle": "2021-07-12T05:43:01.778157Z",
     "shell.execute_reply": "2021-07-12T05:43:01.774990Z",
     "shell.execute_reply.started": "2021-07-12T05:43:00.507330Z"
    }
   },
   "outputs": [
    {
     "name": "stdout",
     "output_type": "stream",
     "text": [
      "+----------------------+\n",
      "|sum(DISTINCT Quantity)|\n",
      "+----------------------+\n",
      "|                 29310|\n",
      "+----------------------+\n",
      "\n"
     ]
    }
   ],
   "source": [
    "from pyspark.sql.functions import sumDistinct\n",
    "df.select(sumDistinct(\"Quantity\")).show() # 29310"
   ]
  },
  {
   "cell_type": "code",
   "execution_count": 23,
   "id": "b96344d7-f065-41c4-9d53-1220e37e1ae4",
   "metadata": {
    "execution": {
     "iopub.execute_input": "2021-07-12T05:43:17.325932Z",
     "iopub.status.busy": "2021-07-12T05:43:17.325306Z",
     "iopub.status.idle": "2021-07-12T05:43:17.766255Z",
     "shell.execute_reply": "2021-07-12T05:43:17.763693Z",
     "shell.execute_reply.started": "2021-07-12T05:43:17.325843Z"
    }
   },
   "outputs": [
    {
     "name": "stdout",
     "output_type": "stream",
     "text": [
      "+--------------------------------------+----------------+----------------+\n",
      "|(total_purchases / total_transactions)|   avg_purchases|  mean_purchases|\n",
      "+--------------------------------------+----------------+----------------+\n",
      "|                      9.55224954743324|9.55224954743324|9.55224954743324|\n",
      "+--------------------------------------+----------------+----------------+\n",
      "\n"
     ]
    }
   ],
   "source": [
    "from pyspark.sql.functions import sum, count, avg, expr\n",
    "\n",
    "df.select(\n",
    "    count(\"Quantity\").alias(\"total_transactions\"),\n",
    "    sum(\"Quantity\").alias(\"total_purchases\"),\n",
    "    avg(\"Quantity\").alias(\"avg_purchases\"),\n",
    "    expr(\"mean(Quantity)\").alias(\"mean_purchases\"))\\\n",
    "  .selectExpr(\n",
    "    \"total_purchases/total_transactions\",\n",
    "    \"avg_purchases\",\n",
    "    \"mean_purchases\").show()\n",
    "\n"
   ]
  },
  {
   "cell_type": "code",
   "execution_count": 24,
   "id": "9d094f42-3c9c-4c36-a09a-a2d325f6ae90",
   "metadata": {
    "execution": {
     "iopub.execute_input": "2021-07-12T05:43:58.325054Z",
     "iopub.status.busy": "2021-07-12T05:43:58.324123Z",
     "iopub.status.idle": "2021-07-12T05:43:58.731434Z",
     "shell.execute_reply": "2021-07-12T05:43:58.728041Z",
     "shell.execute_reply.started": "2021-07-12T05:43:58.324934Z"
    }
   },
   "outputs": [
    {
     "name": "stdout",
     "output_type": "stream",
     "text": [
      "+-----------------+------------------+--------------------+---------------------+\n",
      "|var_pop(Quantity)|var_samp(Quantity)|stddev_pop(Quantity)|stddev_samp(Quantity)|\n",
      "+-----------------+------------------+--------------------+---------------------+\n",
      "|47559.30364660918| 47559.39140929887|  218.08095663447824|   218.08115785023443|\n",
      "+-----------------+------------------+--------------------+---------------------+\n",
      "\n"
     ]
    }
   ],
   "source": [
    "from pyspark.sql.functions import var_pop, stddev_pop\n",
    "from pyspark.sql.functions import var_samp, stddev_samp\n",
    "df.select(var_pop(\"Quantity\"), var_samp(\"Quantity\"),\n",
    "  stddev_pop(\"Quantity\"), stddev_samp(\"Quantity\")).show()\n"
   ]
  },
  {
   "cell_type": "code",
   "execution_count": 25,
   "id": "42388027-f713-401f-8b40-9a821810c566",
   "metadata": {
    "execution": {
     "iopub.execute_input": "2021-07-12T05:44:06.565674Z",
     "iopub.status.busy": "2021-07-12T05:44:06.564980Z",
     "iopub.status.idle": "2021-07-12T05:44:07.046010Z",
     "shell.execute_reply": "2021-07-12T05:44:07.042692Z",
     "shell.execute_reply.started": "2021-07-12T05:44:06.565568Z"
    }
   },
   "outputs": [
    {
     "name": "stdout",
     "output_type": "stream",
     "text": [
      "+-------------------+------------------+\n",
      "| skewness(Quantity)|kurtosis(Quantity)|\n",
      "+-------------------+------------------+\n",
      "|-0.2640755761052702|119768.05495532964|\n",
      "+-------------------+------------------+\n",
      "\n"
     ]
    }
   ],
   "source": [
    "from pyspark.sql.functions import skewness, kurtosis\n",
    "df.select(skewness(\"Quantity\"), kurtosis(\"Quantity\")).show()\n"
   ]
  },
  {
   "cell_type": "code",
   "execution_count": 26,
   "id": "28d5e2c2-eac1-4178-b6c3-24c7f76c8a33",
   "metadata": {
    "execution": {
     "iopub.execute_input": "2021-07-12T05:44:16.315273Z",
     "iopub.status.busy": "2021-07-12T05:44:16.314189Z",
     "iopub.status.idle": "2021-07-12T05:44:17.107248Z",
     "shell.execute_reply": "2021-07-12T05:44:17.103989Z",
     "shell.execute_reply.started": "2021-07-12T05:44:16.314932Z"
    }
   },
   "outputs": [
    {
     "name": "stdout",
     "output_type": "stream",
     "text": [
      "+-------------------------+-------------------------------+------------------------------+\n",
      "|corr(InvoiceNo, Quantity)|covar_samp(InvoiceNo, Quantity)|covar_pop(InvoiceNo, Quantity)|\n",
      "+-------------------------+-------------------------------+------------------------------+\n",
      "|      4.91218608564168E-4|             1052.7280543919537|            1052.7260778758493|\n",
      "+-------------------------+-------------------------------+------------------------------+\n",
      "\n"
     ]
    }
   ],
   "source": [
    "from pyspark.sql.functions import corr, covar_pop, covar_samp\n",
    "df.select(corr(\"InvoiceNo\", \"Quantity\"), covar_samp(\"InvoiceNo\", \"Quantity\"),\n",
    "    covar_pop(\"InvoiceNo\", \"Quantity\")).show()"
   ]
  },
  {
   "cell_type": "code",
   "execution_count": 27,
   "id": "b0d03e80-80bf-42ff-b1fc-205516812d74",
   "metadata": {
    "execution": {
     "iopub.execute_input": "2021-07-12T05:44:29.315173Z",
     "iopub.status.busy": "2021-07-12T05:44:29.314377Z",
     "iopub.status.idle": "2021-07-12T05:44:30.099203Z",
     "shell.execute_reply": "2021-07-12T05:44:30.097123Z",
     "shell.execute_reply.started": "2021-07-12T05:44:29.315051Z"
    }
   },
   "outputs": [
    {
     "name": "stdout",
     "output_type": "stream",
     "text": [
      "+--------------------+---------------------+\n",
      "|collect_set(Country)|collect_list(Country)|\n",
      "+--------------------+---------------------+\n",
      "|[Portugal, Italy,...| [United Kingdom, ...|\n",
      "+--------------------+---------------------+\n",
      "\n"
     ]
    }
   ],
   "source": [
    "from pyspark.sql.functions import collect_set, collect_list\n",
    "df.agg(collect_set(\"Country\"), collect_list(\"Country\")).show()\n"
   ]
  },
  {
   "cell_type": "code",
   "execution_count": 28,
   "id": "7638430c-eb8b-4d6c-8fa4-67a1ea42bfcb",
   "metadata": {
    "execution": {
     "iopub.execute_input": "2021-07-12T05:45:01.322308Z",
     "iopub.status.busy": "2021-07-12T05:45:01.321671Z",
     "iopub.status.idle": "2021-07-12T05:45:02.392166Z",
     "shell.execute_reply": "2021-07-12T05:45:02.389449Z",
     "shell.execute_reply.started": "2021-07-12T05:45:01.322199Z"
    }
   },
   "outputs": [
    {
     "name": "stdout",
     "output_type": "stream",
     "text": [
      "+---------+----+---------------+\n",
      "|InvoiceNo|quan|count(Quantity)|\n",
      "+---------+----+---------------+\n",
      "|   536596|   6|              6|\n",
      "|   536938|  14|             14|\n",
      "|   537252|   1|              1|\n",
      "|   537691|  20|             20|\n",
      "|   538041|   1|              1|\n",
      "|   538184|  26|             26|\n",
      "|   538517|  53|             53|\n",
      "|   538879|  19|             19|\n",
      "|   539275|   6|              6|\n",
      "|   539630|  12|             12|\n",
      "|   540499|  24|             24|\n",
      "|   540540|  22|             22|\n",
      "|  C540850|   1|              1|\n",
      "|   540976|  48|             48|\n",
      "|   541432|   4|              4|\n",
      "|   541518| 101|            101|\n",
      "|   541783|  35|             35|\n",
      "|   542026|   9|              9|\n",
      "|   542375|   6|              6|\n",
      "|  C542604|   8|              8|\n",
      "+---------+----+---------------+\n",
      "only showing top 20 rows\n",
      "\n"
     ]
    }
   ],
   "source": [
    "\n",
    "from pyspark.sql.functions import count\n",
    "\n",
    "df.groupBy(\"InvoiceNo\").agg(\n",
    "    count(\"Quantity\").alias(\"quan\"),\n",
    "    expr(\"count(Quantity)\")).show()\n"
   ]
  },
  {
   "cell_type": "code",
   "execution_count": 29,
   "id": "7a327e00-92e9-488f-a80b-cabdc8c93ab8",
   "metadata": {
    "execution": {
     "iopub.execute_input": "2021-07-12T05:45:12.334661Z",
     "iopub.status.busy": "2021-07-12T05:45:12.334256Z",
     "iopub.status.idle": "2021-07-12T05:45:13.186428Z",
     "shell.execute_reply": "2021-07-12T05:45:13.183209Z",
     "shell.execute_reply.started": "2021-07-12T05:45:12.334599Z"
    }
   },
   "outputs": [
    {
     "name": "stdout",
     "output_type": "stream",
     "text": [
      "+---------+------------------+--------------------+\n",
      "|InvoiceNo|     avg(Quantity)|stddev_pop(Quantity)|\n",
      "+---------+------------------+--------------------+\n",
      "|   536596|               1.5|  1.1180339887498947|\n",
      "|   536938|33.142857142857146|  20.698023172885524|\n",
      "|   537252|              31.0|                 0.0|\n",
      "|   537691|              8.15|   5.597097462078001|\n",
      "|   538041|              30.0|                 0.0|\n",
      "|   538184|12.076923076923077|   8.142590198943392|\n",
      "|   538517|3.0377358490566038|  2.3946659604837897|\n",
      "|   538879|21.157894736842106|  11.811070444356483|\n",
      "|   539275|              26.0|  12.806248474865697|\n",
      "|   539630|20.333333333333332|  10.225241100118645|\n",
      "|   540499|              3.75|  2.6653642652865788|\n",
      "|   540540|2.1363636363636362|  1.0572457590557278|\n",
      "|  C540850|              -1.0|                 0.0|\n",
      "|   540976|10.520833333333334|   6.496760677872902|\n",
      "|   541432|             12.25|  10.825317547305483|\n",
      "|   541518| 23.10891089108911|  20.550782784878713|\n",
      "|   541783|11.314285714285715|   8.467657556242811|\n",
      "|   542026| 7.666666666666667|   4.853406592853679|\n",
      "|   542375|               8.0|  3.4641016151377544|\n",
      "|  C542604|              -8.0|  15.173990905493518|\n",
      "+---------+------------------+--------------------+\n",
      "only showing top 20 rows\n",
      "\n"
     ]
    }
   ],
   "source": [
    "df.groupBy(\"InvoiceNo\").agg(expr(\"avg(Quantity)\"),expr(\"stddev_pop(Quantity)\"))\\\n",
    "  .show()\n"
   ]
  },
  {
   "cell_type": "code",
   "execution_count": 31,
   "id": "985675ad-1c1f-45ff-9900-490660deac27",
   "metadata": {
    "execution": {
     "iopub.execute_input": "2021-07-12T05:45:36.326131Z",
     "iopub.status.busy": "2021-07-12T05:45:36.325431Z",
     "iopub.status.idle": "2021-07-12T05:45:36.537471Z",
     "shell.execute_reply": "2021-07-12T05:45:36.533987Z",
     "shell.execute_reply.started": "2021-07-12T05:45:36.326024Z"
    },
    "tags": []
   },
   "outputs": [
    {
     "name": "stdout",
     "output_type": "stream",
     "text": [
      "+---------+---------+--------------------+--------+--------------+---------+----------+--------------+----------+\n",
      "|InvoiceNo|StockCode|         Description|Quantity|   InvoiceDate|UnitPrice|CustomerID|       Country|      date|\n",
      "+---------+---------+--------------------+--------+--------------+---------+----------+--------------+----------+\n",
      "|   536365|   85123A|WHITE HANGING HEA...|       6|12/1/2010 8:26|     2.55|     17850|United Kingdom|2010-12-01|\n",
      "|   536365|    71053| WHITE METAL LANTERN|       6|12/1/2010 8:26|     3.39|     17850|United Kingdom|2010-12-01|\n",
      "|   536365|   84406B|CREAM CUPID HEART...|       8|12/1/2010 8:26|     2.75|     17850|United Kingdom|2010-12-01|\n",
      "|   536365|   84029G|KNITTED UNION FLA...|       6|12/1/2010 8:26|     3.39|     17850|United Kingdom|2010-12-01|\n",
      "|   536365|   84029E|RED WOOLLY HOTTIE...|       6|12/1/2010 8:26|     3.39|     17850|United Kingdom|2010-12-01|\n",
      "|   536365|    22752|SET 7 BABUSHKA NE...|       2|12/1/2010 8:26|     7.65|     17850|United Kingdom|2010-12-01|\n",
      "|   536365|    21730|GLASS STAR FROSTE...|       6|12/1/2010 8:26|     4.25|     17850|United Kingdom|2010-12-01|\n",
      "|   536366|    22633|HAND WARMER UNION...|       6|12/1/2010 8:28|     1.85|     17850|United Kingdom|2010-12-01|\n",
      "|   536366|    22632|HAND WARMER RED P...|       6|12/1/2010 8:28|     1.85|     17850|United Kingdom|2010-12-01|\n",
      "|   536367|    84879|ASSORTED COLOUR B...|      32|12/1/2010 8:34|     1.69|     13047|United Kingdom|2010-12-01|\n",
      "|   536367|    22745|POPPY'S PLAYHOUSE...|       6|12/1/2010 8:34|      2.1|     13047|United Kingdom|2010-12-01|\n",
      "|   536367|    22748|POPPY'S PLAYHOUSE...|       6|12/1/2010 8:34|      2.1|     13047|United Kingdom|2010-12-01|\n",
      "|   536367|    22749|FELTCRAFT PRINCES...|       8|12/1/2010 8:34|     3.75|     13047|United Kingdom|2010-12-01|\n",
      "|   536367|    22310|IVORY KNITTED MUG...|       6|12/1/2010 8:34|     1.65|     13047|United Kingdom|2010-12-01|\n",
      "|   536367|    84969|BOX OF 6 ASSORTED...|       6|12/1/2010 8:34|     4.25|     13047|United Kingdom|2010-12-01|\n",
      "|   536367|    22623|BOX OF VINTAGE JI...|       3|12/1/2010 8:34|     4.95|     13047|United Kingdom|2010-12-01|\n",
      "|   536367|    22622|BOX OF VINTAGE AL...|       2|12/1/2010 8:34|     9.95|     13047|United Kingdom|2010-12-01|\n",
      "|   536367|    21754|HOME BUILDING BLO...|       3|12/1/2010 8:34|     5.95|     13047|United Kingdom|2010-12-01|\n",
      "|   536367|    21755|LOVE BUILDING BLO...|       3|12/1/2010 8:34|     5.95|     13047|United Kingdom|2010-12-01|\n",
      "|   536367|    21777|RECIPE BOX WITH M...|       4|12/1/2010 8:34|     7.95|     13047|United Kingdom|2010-12-01|\n",
      "+---------+---------+--------------------+--------+--------------+---------+----------+--------------+----------+\n",
      "only showing top 20 rows\n",
      "\n"
     ]
    }
   ],
   "source": [
    "from pyspark.sql.functions import col, to_date\n",
    "dfWithDate = df.withColumn(\"date\", to_date(col(\"InvoiceDate\"), \"MM/d/yyyy H:mm\"))\n",
    "dfWithDate.createOrReplaceTempView(\"dfWithDate\")\n",
    "dfWithDate.show()"
   ]
  },
  {
   "cell_type": "code",
   "execution_count": 32,
   "id": "c8cbcb8a-fa75-4f00-8ae5-4e3400cc8ab3",
   "metadata": {
    "execution": {
     "iopub.execute_input": "2021-07-12T05:45:58.372656Z",
     "iopub.status.busy": "2021-07-12T05:45:58.371866Z",
     "iopub.status.idle": "2021-07-12T05:45:58.412278Z",
     "shell.execute_reply": "2021-07-12T05:45:58.409123Z",
     "shell.execute_reply.started": "2021-07-12T05:45:58.372535Z"
    }
   },
   "outputs": [],
   "source": [
    "from pyspark.sql.window import Window\n",
    "from pyspark.sql.functions import desc\n",
    "windowSpec = Window\\\n",
    "  .partitionBy(\"CustomerId\", \"date\")\\\n",
    "  .orderBy(desc(\"Quantity\"))\\\n",
    "  .rowsBetween(Window.unboundedPreceding, Window.currentRow)"
   ]
  },
  {
   "cell_type": "code",
   "execution_count": 33,
   "id": "4f7c117e-f925-4d26-aebd-562d4a323e14",
   "metadata": {
    "execution": {
     "iopub.execute_input": "2021-07-12T05:46:41.324271Z",
     "iopub.status.busy": "2021-07-12T05:46:41.323778Z",
     "iopub.status.idle": "2021-07-12T05:46:41.340840Z",
     "shell.execute_reply": "2021-07-12T05:46:41.338760Z",
     "shell.execute_reply.started": "2021-07-12T05:46:41.324199Z"
    }
   },
   "outputs": [],
   "source": [
    "from pyspark.sql.functions import max\n",
    "maxPurchaseQuantity = max(col(\"Quantity\")).over(windowSpec)"
   ]
  },
  {
   "cell_type": "code",
   "execution_count": 34,
   "id": "24befa1b-73ab-4859-be6f-72b841d5dade",
   "metadata": {
    "execution": {
     "iopub.execute_input": "2021-07-12T05:46:53.326416Z",
     "iopub.status.busy": "2021-07-12T05:46:53.325714Z",
     "iopub.status.idle": "2021-07-12T05:46:53.352265Z",
     "shell.execute_reply": "2021-07-12T05:46:53.349021Z",
     "shell.execute_reply.started": "2021-07-12T05:46:53.326309Z"
    }
   },
   "outputs": [],
   "source": [
    "from pyspark.sql.functions import dense_rank, rank\n",
    "purchaseDenseRank = dense_rank().over(windowSpec)\n",
    "purchaseRank = rank().over(windowSpec)"
   ]
  },
  {
   "cell_type": "code",
   "execution_count": 35,
   "id": "bb1574b8-a4bd-4c73-a9cc-f8c781ac1493",
   "metadata": {
    "execution": {
     "iopub.execute_input": "2021-07-12T05:47:00.328168Z",
     "iopub.status.busy": "2021-07-12T05:47:00.327321Z",
     "iopub.status.idle": "2021-07-12T05:47:02.510193Z",
     "shell.execute_reply": "2021-07-12T05:47:02.506944Z",
     "shell.execute_reply.started": "2021-07-12T05:47:00.328050Z"
    }
   },
   "outputs": [
    {
     "name": "stdout",
     "output_type": "stream",
     "text": [
      "+----------+----------+--------+------------+-----------------+-------------------+\n",
      "|CustomerId|      date|Quantity|quantityRank|quantityDenseRank|maxPurchaseQuantity|\n",
      "+----------+----------+--------+------------+-----------------+-------------------+\n",
      "|     12346|2011-01-18|   74215|           1|                1|              74215|\n",
      "|     12346|2011-01-18|  -74215|           2|                2|              74215|\n",
      "|     12347|2010-12-07|      36|           1|                1|                 36|\n",
      "|     12347|2010-12-07|      30|           2|                2|                 36|\n",
      "|     12347|2010-12-07|      24|           3|                3|                 36|\n",
      "|     12347|2010-12-07|      12|           4|                4|                 36|\n",
      "|     12347|2010-12-07|      12|           4|                4|                 36|\n",
      "|     12347|2010-12-07|      12|           4|                4|                 36|\n",
      "|     12347|2010-12-07|      12|           4|                4|                 36|\n",
      "|     12347|2010-12-07|      12|           4|                4|                 36|\n",
      "|     12347|2010-12-07|      12|           4|                4|                 36|\n",
      "|     12347|2010-12-07|      12|           4|                4|                 36|\n",
      "|     12347|2010-12-07|      12|           4|                4|                 36|\n",
      "|     12347|2010-12-07|      12|           4|                4|                 36|\n",
      "|     12347|2010-12-07|      12|           4|                4|                 36|\n",
      "|     12347|2010-12-07|      12|           4|                4|                 36|\n",
      "|     12347|2010-12-07|      12|           4|                4|                 36|\n",
      "|     12347|2010-12-07|      12|           4|                4|                 36|\n",
      "|     12347|2010-12-07|       6|          17|                5|                 36|\n",
      "|     12347|2010-12-07|       6|          17|                5|                 36|\n",
      "+----------+----------+--------+------------+-----------------+-------------------+\n",
      "only showing top 20 rows\n",
      "\n"
     ]
    }
   ],
   "source": [
    "from pyspark.sql.functions import col\n",
    "\n",
    "dfWithDate.where(\"CustomerId IS NOT NULL\").orderBy(\"CustomerId\")\\\n",
    "  .select(\n",
    "    col(\"CustomerId\"),\n",
    "    col(\"date\"),\n",
    "    col(\"Quantity\"),\n",
    "    purchaseRank.alias(\"quantityRank\"),\n",
    "    purchaseDenseRank.alias(\"quantityDenseRank\"),\n",
    "    maxPurchaseQuantity.alias(\"maxPurchaseQuantity\")).show()"
   ]
  },
  {
   "cell_type": "code",
   "execution_count": 36,
   "id": "06b9d048-160a-4193-8bd6-3386b6e5825b",
   "metadata": {
    "execution": {
     "iopub.execute_input": "2021-07-12T05:47:45.328269Z",
     "iopub.status.busy": "2021-07-12T05:47:45.327243Z",
     "iopub.status.idle": "2021-07-12T05:47:45.361229Z",
     "shell.execute_reply": "2021-07-12T05:47:45.359205Z",
     "shell.execute_reply.started": "2021-07-12T05:47:45.328119Z"
    }
   },
   "outputs": [],
   "source": [
    "dfNoNull = dfWithDate.drop()\n",
    "dfNoNull.createOrReplaceTempView(\"dfNoNull\")\n"
   ]
  },
  {
   "cell_type": "code",
   "execution_count": 37,
   "id": "af6f2906-574e-49a1-b4a5-13011cc18ba5",
   "metadata": {
    "execution": {
     "iopub.execute_input": "2021-07-12T05:47:52.470598Z",
     "iopub.status.busy": "2021-07-12T05:47:52.469566Z",
     "iopub.status.idle": "2021-07-12T05:47:54.255016Z",
     "shell.execute_reply": "2021-07-12T05:47:54.251828Z",
     "shell.execute_reply.started": "2021-07-12T05:47:52.470259Z"
    }
   },
   "outputs": [
    {
     "name": "stdout",
     "output_type": "stream",
     "text": [
      "+----------+--------------+--------------+\n",
      "|      Date|       Country|total_quantity|\n",
      "+----------+--------------+--------------+\n",
      "|      null|          null|       5176450|\n",
      "|2010-12-01|   Netherlands|            97|\n",
      "|2010-12-01|          null|         26814|\n",
      "|2010-12-01|        France|           449|\n",
      "|2010-12-01|       Germany|           117|\n",
      "|2010-12-01|     Australia|           107|\n",
      "|2010-12-01|          EIRE|           243|\n",
      "|2010-12-01|United Kingdom|         23949|\n",
      "|2010-12-01|        Norway|          1852|\n",
      "|2010-12-02|          EIRE|             4|\n",
      "|2010-12-02|          null|         21023|\n",
      "|2010-12-02|       Germany|           146|\n",
      "|2010-12-02|United Kingdom|         20873|\n",
      "|2010-12-03|      Portugal|            65|\n",
      "|2010-12-03|        France|           239|\n",
      "|2010-12-03|       Germany|           170|\n",
      "|2010-12-03|         Spain|           400|\n",
      "|2010-12-03|   Switzerland|           110|\n",
      "|2010-12-03|         Italy|           164|\n",
      "|2010-12-03|          null|         14830|\n",
      "+----------+--------------+--------------+\n",
      "only showing top 20 rows\n",
      "\n"
     ]
    }
   ],
   "source": [
    "rolledUpDF = dfNoNull.rollup(\"Date\", \"Country\").agg(sum(\"Quantity\"))\\\n",
    "  .selectExpr(\"Date\", \"Country\", \"`sum(Quantity)` as total_quantity\")\\\n",
    "  .orderBy(\"Date\")\n",
    "rolledUpDF.show()\n"
   ]
  },
  {
   "cell_type": "code",
   "execution_count": 56,
   "id": "768bcb6a-5489-40c7-b786-b48fa10b5af9",
   "metadata": {
    "execution": {
     "iopub.execute_input": "2021-07-12T05:56:20.355973Z",
     "iopub.status.busy": "2021-07-12T05:56:20.354986Z",
     "iopub.status.idle": "2021-07-12T05:56:21.590020Z",
     "shell.execute_reply": "2021-07-12T05:56:21.586711Z",
     "shell.execute_reply.started": "2021-07-12T05:56:20.355640Z"
    },
    "tags": []
   },
   "outputs": [
    {
     "data": {
      "text/plain": [
       "1"
      ]
     },
     "execution_count": 56,
     "metadata": {},
     "output_type": "execute_result"
    }
   ],
   "source": [
    "rolledUpDF.filter(col(\"Date\").isNull()).count()"
   ]
  },
  {
   "cell_type": "code",
   "execution_count": 67,
   "id": "aba54269-f32f-4312-a7e8-14a8ad77f667",
   "metadata": {
    "execution": {
     "iopub.execute_input": "2021-07-12T06:12:48.312995Z",
     "iopub.status.busy": "2021-07-12T06:12:48.312633Z",
     "iopub.status.idle": "2021-07-12T06:12:49.190801Z",
     "shell.execute_reply": "2021-07-12T06:12:49.187733Z",
     "shell.execute_reply.started": "2021-07-12T06:12:48.312943Z"
    },
    "tags": []
   },
   "outputs": [
    {
     "name": "stdout",
     "output_type": "stream",
     "text": [
      "+----+--------------------+-------------+\n",
      "|Date|             Country|sum(Quantity)|\n",
      "+----+--------------------+-------------+\n",
      "|null|               Japan|        25218|\n",
      "|null|            Portugal|        16180|\n",
      "|null|             Germany|       117448|\n",
      "|null|                 RSA|          352|\n",
      "|null|           Australia|        83653|\n",
      "|null|             Finland|        10666|\n",
      "|null|           Hong Kong|         4769|\n",
      "|null|United Arab Emirates|          982|\n",
      "|null|         Unspecified|         3300|\n",
      "|null|                null|      5176450|\n",
      "|null|           Singapore|         5234|\n",
      "|null|  European Community|          497|\n",
      "|null|      Czech Republic|          592|\n",
      "|null|             Lebanon|          386|\n",
      "|null|     Channel Islands|         9479|\n",
      "|null|              Cyprus|         6317|\n",
      "|null|               Spain|        26824|\n",
      "|null|                 USA|         1034|\n",
      "|null|             Denmark|         8188|\n",
      "|null|              Norway|        19247|\n",
      "+----+--------------------+-------------+\n",
      "only showing top 20 rows\n",
      "\n"
     ]
    }
   ],
   "source": [
    "from pyspark.sql.functions import sum\n",
    "\n",
    "df_cube = dfNoNull.cube(\"Date\", \"Country\").agg(sum(col(\"Quantity\")))\\\n",
    "  .select(\"Date\", \"Country\", \"sum(Quantity)\").orderBy(\"Date\")\n",
    "\n",
    "df_cube.show()"
   ]
  },
  {
   "cell_type": "code",
   "execution_count": 69,
   "id": "dbac1d6c-b116-494d-b965-30ca2581b6ac",
   "metadata": {
    "execution": {
     "iopub.execute_input": "2021-07-12T06:12:56.319687Z",
     "iopub.status.busy": "2021-07-12T06:12:56.319190Z",
     "iopub.status.idle": "2021-07-12T06:12:57.586707Z",
     "shell.execute_reply": "2021-07-12T06:12:57.584105Z",
     "shell.execute_reply.started": "2021-07-12T06:12:56.319581Z"
    },
    "tags": []
   },
   "outputs": [
    {
     "data": {
      "text/plain": [
       "39"
      ]
     },
     "execution_count": 69,
     "metadata": {},
     "output_type": "execute_result"
    }
   ],
   "source": [
    "df_cube.filter(col(\"Date\").isNull()).count()"
   ]
  },
  {
   "cell_type": "code",
   "execution_count": 11,
   "id": "1bce2b3d-3263-46d8-90a6-6184cc7a17c9",
   "metadata": {
    "execution": {
     "iopub.execute_input": "2021-07-12T05:33:38.639604Z",
     "iopub.status.busy": "2021-07-12T05:33:38.638786Z",
     "iopub.status.idle": "2021-07-12T05:33:41.045436Z",
     "shell.execute_reply": "2021-07-12T05:33:41.041891Z",
     "shell.execute_reply.started": "2021-07-12T05:33:38.639484Z"
    },
    "tags": []
   },
   "outputs": [
    {
     "name": "stdout",
     "output_type": "stream",
     "text": [
      "Found 7 items\n",
      "drwx------   - fp10363 supergroup          0 2021-07-08 21:00 viewfs://iu/user/fp10363/.Trash\n",
      "drwx------   - fp10363 supergroup          0 2021-07-05 15:05 viewfs://iu/user/fp10363/.hiveJars\n",
      "drwx------   - fp10363 supergroup          0 2021-04-13 13:35 viewfs://iu/user/fp10363/.oasis\n",
      "drwx------   - fp10363 supergroup          0 2021-07-12 14:31 viewfs://iu/user/fp10363/.sparkStaging\n",
      "-rw-------   3 fp10363 supergroup   45038760 2021-07-12 14:33 viewfs://iu/user/fp10363/online-retail-dataset.csv\n",
      "-rw-------   3 fp10363 supergroup      64954 2021-07-05 13:45 viewfs://iu/user/fp10363/scorecardpy-master.zip\n",
      "-rwxrwxrwx   3 fp10363 supergroup      55833 2021-07-05 11:55 viewfs://iu/user/fp10363/scorecardpy.zip\n"
     ]
    }
   ],
   "source": [
    "!hadoop fs -ls viewfs://iu/user/fp10363"
   ]
  },
  {
   "cell_type": "code",
   "execution_count": null,
   "id": "9d799a9e-9aef-4b67-806a-4e214ad087fe",
   "metadata": {},
   "outputs": [],
   "source": []
  }
 ],
 "metadata": {
  "kernelspec": {
   "display_name": "PySpark-driver-mem-16g",
   "language": "python",
   "name": "pyspark-driver-mem-16g"
  },
  "language_info": {
   "codemirror_mode": {
    "name": "ipython",
    "version": 2
   },
   "file_extension": ".py",
   "mimetype": "text/x-python",
   "name": "python",
   "nbconvert_exporter": "python",
   "pygments_lexer": "ipython2",
   "version": "2.7.18"
  }
 },
 "nbformat": 4,
 "nbformat_minor": 5
}
