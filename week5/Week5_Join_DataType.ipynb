{
 "cells": [
  {
   "cell_type": "markdown",
   "id": "19dee637-5d64-4bf4-bf41-8dfb41f5803a",
   "metadata": {},
   "source": [
    "# Chapter 8 - Join \n",
    "(p.227 ~ 244)\n",
    "## Join Type\n",
    "1. Inner join : Left And Right \n",
    "2. Outer join : Left Or Right\n",
    "3. Left Outer Join : Left All\n",
    "4. Right Outer Join : Right All\n",
    "5. Left Semi Join : Left in Right [Remarks](https://stackoverflow.com/questions/21738784/difference-between-inner-join-and-left-semi-join/21738897)\n",
    "6. Left Anti Join : Left not in Right\n",
    "7. Natural Join : Matching same columns of Left and Right [Remarks](https://www.vertica.com/docs/9.2.x/HTML/Content/Authoring/AnalyzingData/Queries/Joins/NaturalJoins.htm)\n",
    "8. Cross Join/Cartesian Join : Left All X Right All"
   ]
  },
  {
   "cell_type": "code",
   "execution_count": 1,
   "id": "4c2c3f8c-d01c-462a-8b36-e944f4fd01a3",
   "metadata": {
    "execution": {
     "iopub.execute_input": "2021-07-15T11:16:19.361095Z",
     "iopub.status.busy": "2021-07-15T11:16:19.360872Z",
     "iopub.status.idle": "2021-07-15T11:16:21.399622Z",
     "shell.execute_reply": "2021-07-15T11:16:21.396975Z",
     "shell.execute_reply.started": "2021-07-15T11:16:19.361052Z"
    },
    "tags": []
   },
   "outputs": [],
   "source": [
    "# Data 만들기\n",
    "person = spark.createDataFrame([\n",
    "    (0, \"Bill Chambers\", 0, [100]),\n",
    "    (1, \"Matei Zaharia\", 1, [500, 250, 100]),\n",
    "    (2, \"Michael Armbrust\", 1, [250, 100])\n",
    "]).toDF(\"id\", \"name\", \"graduate_program\", \"spark_status\")\n",
    "\n",
    "graduateProgram = spark.createDataFrame([\n",
    "    (0, \"Masters\", \"School of Information\", \"UC Berkeley\"),\n",
    "    (2, \"Masters\", \"EECS\", \"UC Berkeley\"),\n",
    "    (1, \"Ph.D\", \"EECS\", \"UC Berkeley\")\n",
    "]).toDF(\"id\", \"degree\", \"department\", \"school\")\n",
    "\n",
    "sparkStatus = spark.createDataFrame([\n",
    "    (500, \"Vice President\"),\n",
    "    (250, \"PMC Member\"),\n",
    "    (100, \"Contributor\")\n",
    "]).toDF(\"id\", \"status\")\n",
    "\n",
    "person.createOrReplaceTempView(\"person\")\n",
    "graduateProgram.createOrReplaceTempView(\"graduateProgram\")\n",
    "sparkStatus.createOrReplaceTempView(\"sparkStatus\")"
   ]
  },
  {
   "cell_type": "markdown",
   "id": "5e2369f6-9077-435a-9fd2-ce0d7d729cad",
   "metadata": {},
   "source": [
    "## Inner Join\n",
    "- 테이블에 존재하는 키가 일치하는 지 평가 -> 일치 (True) 로 평가된 로우만 결합"
   ]
  },
  {
   "cell_type": "code",
   "execution_count": 8,
   "id": "b5af00c7-dca3-4b56-9ac8-26809e615a0a",
   "metadata": {
    "execution": {
     "iopub.execute_input": "2021-07-14T12:45:07.762192Z",
     "iopub.status.busy": "2021-07-14T12:45:07.761923Z",
     "iopub.status.idle": "2021-07-14T12:45:12.045034Z",
     "shell.execute_reply": "2021-07-14T12:45:12.042440Z",
     "shell.execute_reply.started": "2021-07-14T12:45:07.762151Z"
    },
    "tags": []
   },
   "outputs": [
    {
     "name": "stdout",
     "output_type": "stream",
     "text": [
      "+---+----------------+----------------+---------------+---+-------+--------------------+-----------+\n",
      "| id|            name|graduate_program|   spark_status| id| degree|          department|     school|\n",
      "+---+----------------+----------------+---------------+---+-------+--------------------+-----------+\n",
      "|  0|   Bill Chambers|               0|          [100]|  0|Masters|School of Informa...|UC Berkeley|\n",
      "|  1|   Matei Zaharia|               1|[500, 250, 100]|  1|   Ph.D|                EECS|UC Berkeley|\n",
      "|  2|Michael Armbrust|               1|     [250, 100]|  1|   Ph.D|                EECS|UC Berkeley|\n",
      "+---+----------------+----------------+---------------+---+-------+--------------------+-----------+\n",
      "\n"
     ]
    }
   ],
   "source": [
    "# inner join\n",
    "\n",
    "joinExpression = person[\"graduate_program\"] == graduateProgram['id'] # 일치할 때\n",
    "person.join(graduateProgram, joinExpression).show()"
   ]
  },
  {
   "cell_type": "code",
   "execution_count": 9,
   "id": "1a48cd59-0962-4ba8-81d9-6d3c9596a52d",
   "metadata": {
    "execution": {
     "iopub.execute_input": "2021-07-14T12:45:22.724835Z",
     "iopub.status.busy": "2021-07-14T12:45:22.724453Z",
     "iopub.status.idle": "2021-07-14T12:45:25.308441Z",
     "shell.execute_reply": "2021-07-14T12:45:25.305650Z",
     "shell.execute_reply.started": "2021-07-14T12:45:22.724687Z"
    },
    "tags": []
   },
   "outputs": [
    {
     "name": "stdout",
     "output_type": "stream",
     "text": [
      "+---+----+----------------+------------+---+------+----------+------+\n",
      "| id|name|graduate_program|spark_status| id|degree|department|school|\n",
      "+---+----+----------------+------------+---+------+----------+------+\n",
      "+---+----+----------------+------------+---+------+----------+------+\n",
      "\n"
     ]
    }
   ],
   "source": [
    "wrongJoinExpression = person['name'] == graduateProgram['school'] # 불일치할 때\n",
    "person.join(graduateProgram, wrongJoinExpression).show()"
   ]
  },
  {
   "cell_type": "code",
   "execution_count": 10,
   "id": "b3e0a786-9ecf-4b60-b7e7-2c7c7e174e2d",
   "metadata": {
    "execution": {
     "iopub.execute_input": "2021-07-14T12:46:14.130596Z",
     "iopub.status.busy": "2021-07-14T12:46:14.130326Z",
     "iopub.status.idle": "2021-07-14T12:46:14.828539Z",
     "shell.execute_reply": "2021-07-14T12:46:14.827029Z",
     "shell.execute_reply.started": "2021-07-14T12:46:14.130555Z"
    }
   },
   "outputs": [
    {
     "name": "stdout",
     "output_type": "stream",
     "text": [
      "+---+----------------+----------------+---------------+---+-------+--------------------+-----------+\n",
      "| id|            name|graduate_program|   spark_status| id| degree|          department|     school|\n",
      "+---+----------------+----------------+---------------+---+-------+--------------------+-----------+\n",
      "|  0|   Bill Chambers|               0|          [100]|  0|Masters|School of Informa...|UC Berkeley|\n",
      "|  2|Michael Armbrust|               1|     [250, 100]|  1|   Ph.D|                EECS|UC Berkeley|\n",
      "|  1|   Matei Zaharia|               1|[500, 250, 100]|  1|   Ph.D|                EECS|UC Berkeley|\n",
      "+---+----------------+----------------+---------------+---+-------+--------------------+-----------+\n",
      "\n"
     ]
    }
   ],
   "source": [
    "# join type 지정\n",
    "joinType = 'inner'\n",
    "person.join(graduateProgram, joinExpression, joinType).show()"
   ]
  },
  {
   "cell_type": "markdown",
   "id": "001eb078-306a-41e4-ba3c-6cc17a3e4574",
   "metadata": {},
   "source": [
    "## Outer Join\n",
    "- 테이블에 존재하는 키를 평가 -> 일치 (True), 불일치 (False) 모두 포함 -> 이 때, 일치하는 로우 없으면, null 삽입"
   ]
  },
  {
   "cell_type": "code",
   "execution_count": 11,
   "id": "a3098934-eaad-445e-b8d1-6969d666b55a",
   "metadata": {
    "execution": {
     "iopub.execute_input": "2021-07-14T12:47:56.557718Z",
     "iopub.status.busy": "2021-07-14T12:47:56.557352Z",
     "iopub.status.idle": "2021-07-14T12:47:57.573493Z",
     "shell.execute_reply": "2021-07-14T12:47:57.570908Z",
     "shell.execute_reply.started": "2021-07-14T12:47:56.557579Z"
    }
   },
   "outputs": [
    {
     "name": "stdout",
     "output_type": "stream",
     "text": [
      "+----+----------------+----------------+---------------+---+-------+--------------------+-----------+\n",
      "|  id|            name|graduate_program|   spark_status| id| degree|          department|     school|\n",
      "+----+----------------+----------------+---------------+---+-------+--------------------+-----------+\n",
      "|   0|   Bill Chambers|               0|          [100]|  0|Masters|School of Informa...|UC Berkeley|\n",
      "|   1|   Matei Zaharia|               1|[500, 250, 100]|  1|   Ph.D|                EECS|UC Berkeley|\n",
      "|   2|Michael Armbrust|               1|     [250, 100]|  1|   Ph.D|                EECS|UC Berkeley|\n",
      "|null|            null|            null|           null|  2|Masters|                EECS|UC Berkeley|\n",
      "+----+----------------+----------------+---------------+---+-------+--------------------+-----------+\n",
      "\n"
     ]
    }
   ],
   "source": [
    "joinType = 'outer'\n",
    "person.join(graduateProgram, joinExpression, joinType).show()"
   ]
  },
  {
   "cell_type": "markdown",
   "id": "6e83577a-54cd-43d0-afe4-31c7ae8cb364",
   "metadata": {},
   "source": [
    "## Left Outer Join / Right Outer Join\n",
    "- 테이블에 존재하는 키를 평가 -> 기준이 되는 테이블의 모든 로우 + 매칭된 반대쪽 로우 -> 이 때, 일치하는 로우 없으면 null 삽입"
   ]
  },
  {
   "cell_type": "code",
   "execution_count": 12,
   "id": "cb3cd796-61e2-4a37-8098-be8cf1848883",
   "metadata": {
    "execution": {
     "iopub.execute_input": "2021-07-14T12:49:38.841364Z",
     "iopub.status.busy": "2021-07-14T12:49:38.841089Z",
     "iopub.status.idle": "2021-07-14T12:49:39.800377Z",
     "shell.execute_reply": "2021-07-14T12:49:39.797795Z",
     "shell.execute_reply.started": "2021-07-14T12:49:38.841324Z"
    }
   },
   "outputs": [
    {
     "name": "stdout",
     "output_type": "stream",
     "text": [
      "+---+-------+--------------------+-----------+----+----------------+----------------+---------------+\n",
      "| id| degree|          department|     school|  id|            name|graduate_program|   spark_status|\n",
      "+---+-------+--------------------+-----------+----+----------------+----------------+---------------+\n",
      "|  0|Masters|School of Informa...|UC Berkeley|   0|   Bill Chambers|               0|          [100]|\n",
      "|  1|   Ph.D|                EECS|UC Berkeley|   1|   Matei Zaharia|               1|[500, 250, 100]|\n",
      "|  1|   Ph.D|                EECS|UC Berkeley|   2|Michael Armbrust|               1|     [250, 100]|\n",
      "|  2|Masters|                EECS|UC Berkeley|null|            null|            null|           null|\n",
      "+---+-------+--------------------+-----------+----+----------------+----------------+---------------+\n",
      "\n"
     ]
    }
   ],
   "source": [
    "# left outer\n",
    "joinType= 'left_outer'\n",
    "graduateProgram.join(person, joinExpression, joinType).show()"
   ]
  },
  {
   "cell_type": "code",
   "execution_count": 13,
   "id": "4bbac63e-a637-4539-a8e1-7b6fc4cec456",
   "metadata": {
    "execution": {
     "iopub.execute_input": "2021-07-14T12:50:19.476927Z",
     "iopub.status.busy": "2021-07-14T12:50:19.476642Z",
     "iopub.status.idle": "2021-07-14T12:50:20.513718Z",
     "shell.execute_reply": "2021-07-14T12:50:20.511145Z",
     "shell.execute_reply.started": "2021-07-14T12:50:19.476886Z"
    }
   },
   "outputs": [
    {
     "name": "stdout",
     "output_type": "stream",
     "text": [
      "+----+----------------+----------------+---------------+---+-------+--------------------+-----------+\n",
      "|  id|            name|graduate_program|   spark_status| id| degree|          department|     school|\n",
      "+----+----------------+----------------+---------------+---+-------+--------------------+-----------+\n",
      "|   0|   Bill Chambers|               0|          [100]|  0|Masters|School of Informa...|UC Berkeley|\n",
      "|   1|   Matei Zaharia|               1|[500, 250, 100]|  1|   Ph.D|                EECS|UC Berkeley|\n",
      "|   2|Michael Armbrust|               1|     [250, 100]|  1|   Ph.D|                EECS|UC Berkeley|\n",
      "|null|            null|            null|           null|  2|Masters|                EECS|UC Berkeley|\n",
      "+----+----------------+----------------+---------------+---+-------+--------------------+-----------+\n",
      "\n"
     ]
    }
   ],
   "source": [
    "# right outer\n",
    "joinType = 'right_outer'\n",
    "person.join(graduateProgram, joinExpression, joinType).show()"
   ]
  },
  {
   "cell_type": "markdown",
   "id": "0b599650-b798-4057-9e2c-0fb862cb683d",
   "metadata": {},
   "source": [
    "## Left Semi Join\n",
    "- 매칭된 쪽에 값이 있는지 확인하는 용도 = DataFrame의 필터 역할\n"
   ]
  },
  {
   "cell_type": "code",
   "execution_count": 14,
   "id": "58e688fc-a76e-4d5d-88e5-f7d76ea7d9a4",
   "metadata": {
    "execution": {
     "iopub.execute_input": "2021-07-14T12:52:00.759102Z",
     "iopub.status.busy": "2021-07-14T12:52:00.758829Z",
     "iopub.status.idle": "2021-07-14T12:52:01.490606Z",
     "shell.execute_reply": "2021-07-14T12:52:01.487835Z",
     "shell.execute_reply.started": "2021-07-14T12:52:00.759062Z"
    }
   },
   "outputs": [
    {
     "name": "stdout",
     "output_type": "stream",
     "text": [
      "+---+-------+--------------------+-----------+\n",
      "| id| degree|          department|     school|\n",
      "+---+-------+--------------------+-----------+\n",
      "|  0|Masters|School of Informa...|UC Berkeley|\n",
      "|  1|   Ph.D|                EECS|UC Berkeley|\n",
      "+---+-------+--------------------+-----------+\n",
      "\n"
     ]
    }
   ],
   "source": [
    "# left semi\n",
    "joinType = 'left_semi'\n",
    "graduateProgram.join(person, joinExpression, joinType).show()"
   ]
  },
  {
   "cell_type": "code",
   "execution_count": 18,
   "id": "336ae198-160e-42dc-967c-cda5068817d6",
   "metadata": {
    "execution": {
     "iopub.execute_input": "2021-07-14T12:53:24.134911Z",
     "iopub.status.busy": "2021-07-14T12:53:24.134538Z",
     "iopub.status.idle": "2021-07-14T12:53:24.141587Z",
     "shell.execute_reply": "2021-07-14T12:53:24.139098Z",
     "shell.execute_reply.started": "2021-07-14T12:53:24.134776Z"
    },
    "tags": []
   },
   "outputs": [],
   "source": [
    "joinType = 'right_semi' # 없음 ㅠ\n",
    "# graduateProgram.join(person, joinExpression, joinType).show()"
   ]
  },
  {
   "cell_type": "markdown",
   "id": "1495b652-e193-4986-bc3a-b32a8588b218",
   "metadata": {},
   "source": [
    "## Left Anti Join \n",
    "- 매칭된 쪽에 값이 없는 것을 Filter = Not In"
   ]
  },
  {
   "cell_type": "code",
   "execution_count": 19,
   "id": "28642523-662d-462b-9e10-9cca334e792d",
   "metadata": {
    "execution": {
     "iopub.execute_input": "2021-07-14T12:54:25.130852Z",
     "iopub.status.busy": "2021-07-14T12:54:25.130566Z",
     "iopub.status.idle": "2021-07-14T12:54:25.792897Z",
     "shell.execute_reply": "2021-07-14T12:54:25.791380Z",
     "shell.execute_reply.started": "2021-07-14T12:54:25.130809Z"
    }
   },
   "outputs": [
    {
     "name": "stdout",
     "output_type": "stream",
     "text": [
      "+---+-------+----------+-----------+\n",
      "| id| degree|department|     school|\n",
      "+---+-------+----------+-----------+\n",
      "|  2|Masters|      EECS|UC Berkeley|\n",
      "+---+-------+----------+-----------+\n",
      "\n"
     ]
    }
   ],
   "source": [
    "joinType = 'left_anti'\n",
    "graduateProgram.join(person, joinExpression, joinType).show()"
   ]
  },
  {
   "cell_type": "markdown",
   "id": "272f03b8-00ec-4b87-b727-5903f7e95ffa",
   "metadata": {},
   "source": [
    "## Natural Join\n",
    "- 일치하는 컬럼을 이름으로 매칭함\n",
    "- 각 컬럼이 뜻하는 바가 다를 수 있기 때문에 위험함"
   ]
  },
  {
   "cell_type": "markdown",
   "id": "71c36f65-acb4-4120-b855-0fd2ae45e146",
   "metadata": {},
   "source": [
    "## Cross Join \n",
    "- Left와 Right 모든 로우의 조합\n",
    "- 연산이 매우 크므로 spark 내부에서 사용이 차단되어 있음 -> spark.sql.crossJoin.enable = True 설정을 해야함"
   ]
  },
  {
   "cell_type": "code",
   "execution_count": 21,
   "id": "fb7defac-bc5b-4966-a81c-94e66fce6145",
   "metadata": {
    "execution": {
     "iopub.execute_input": "2021-07-14T12:56:20.779676Z",
     "iopub.status.busy": "2021-07-14T12:56:20.779403Z",
     "iopub.status.idle": "2021-07-14T12:56:21.358184Z",
     "shell.execute_reply": "2021-07-14T12:56:21.355563Z",
     "shell.execute_reply.started": "2021-07-14T12:56:20.779636Z"
    },
    "tags": []
   },
   "outputs": [
    {
     "name": "stdout",
     "output_type": "stream",
     "text": [
      "+---+-------+---------------------+-----------+---+----------------+----------------+---------------+\n",
      "|id |degree |department           |school     |id |name            |graduate_program|spark_status   |\n",
      "+---+-------+---------------------+-----------+---+----------------+----------------+---------------+\n",
      "|0  |Masters|School of Information|UC Berkeley|0  |Bill Chambers   |0               |[100]          |\n",
      "|1  |Ph.D   |EECS                 |UC Berkeley|1  |Matei Zaharia   |1               |[500, 250, 100]|\n",
      "|1  |Ph.D   |EECS                 |UC Berkeley|2  |Michael Armbrust|1               |[250, 100]     |\n",
      "+---+-------+---------------------+-----------+---+----------------+----------------+---------------+\n",
      "\n"
     ]
    }
   ],
   "source": [
    "joinType = 'cross'\n",
    "graduateProgram.join(person, joinExpression, joinType).show(100, False)"
   ]
  },
  {
   "cell_type": "markdown",
   "id": "27629dfd-7e87-4c47-924c-910604d2bb4d",
   "metadata": {},
   "source": [
    "# Join 사용 시 문제점\n",
    "\n",
    "## 복합 데이터 타입의 조인\n",
    "- 불리언을 반환하는 모든 표현식은 조인 표현식이 될 수 있음"
   ]
  },
  {
   "cell_type": "code",
   "execution_count": 23,
   "id": "92a8b932-fcfc-4f20-a55b-867fe19c466b",
   "metadata": {
    "execution": {
     "iopub.execute_input": "2021-07-14T13:00:36.464785Z",
     "iopub.status.busy": "2021-07-14T13:00:36.464303Z",
     "iopub.status.idle": "2021-07-14T13:00:37.187110Z",
     "shell.execute_reply": "2021-07-14T13:00:37.185469Z",
     "shell.execute_reply.started": "2021-07-14T13:00:36.464730Z"
    },
    "tags": []
   },
   "outputs": [
    {
     "name": "stdout",
     "output_type": "stream",
     "text": [
      "+--------+----------------+----------------+---------------+---+--------------+\n",
      "|personId|            name|graduate_program|   spark_status| id|        status|\n",
      "+--------+----------------+----------------+---------------+---+--------------+\n",
      "|       0|   Bill Chambers|               0|          [100]|100|   Contributor|\n",
      "|       1|   Matei Zaharia|               1|[500, 250, 100]|500|Vice President|\n",
      "|       1|   Matei Zaharia|               1|[500, 250, 100]|250|    PMC Member|\n",
      "|       1|   Matei Zaharia|               1|[500, 250, 100]|100|   Contributor|\n",
      "|       2|Michael Armbrust|               1|     [250, 100]|250|    PMC Member|\n",
      "|       2|Michael Armbrust|               1|     [250, 100]|100|   Contributor|\n",
      "+--------+----------------+----------------+---------------+---+--------------+\n",
      "\n"
     ]
    }
   ],
   "source": [
    "from pyspark.sql.functions import expr\n",
    "person.withColumnRenamed(\"id\", \"personId\")\\\n",
    ".join(sparkStatus, expr(\"array_contains(spark_status, id)\")).show()\n",
    "\n",
    "# spark_status가 id에 있는가"
   ]
  },
  {
   "cell_type": "markdown",
   "id": "49ff92da-2e16-4b68-b086-f31ff9bd4180",
   "metadata": {},
   "source": [
    "## 중복 컬럼명 처리\n",
    "- 조인에 사용할 DataFrame의 특정 키가 동일한 이름을 가지고 조인 표현식에 명시되는 경우\n",
    "- 조인 대상이 아닌 두 개의 컬럼이 동일한 이름을 가진 경우\n",
    "\n"
   ]
  },
  {
   "cell_type": "code",
   "execution_count": 24,
   "id": "e6107271-27f3-4a7d-9069-e2ad5b5e0495",
   "metadata": {
    "execution": {
     "iopub.execute_input": "2021-07-14T13:03:53.633170Z",
     "iopub.status.busy": "2021-07-14T13:03:53.632849Z",
     "iopub.status.idle": "2021-07-14T13:03:53.788747Z",
     "shell.execute_reply": "2021-07-14T13:03:53.786170Z",
     "shell.execute_reply.started": "2021-07-14T13:03:53.633126Z"
    }
   },
   "outputs": [
    {
     "name": "stdout",
     "output_type": "stream",
     "text": [
      "+---+-------+--------------------+-----------+\n",
      "| id| degree|          department|     school|\n",
      "+---+-------+--------------------+-----------+\n",
      "|  0|Masters|School of Informa...|UC Berkeley|\n",
      "|  2|Masters|                EECS|UC Berkeley|\n",
      "|  1|   Ph.D|                EECS|UC Berkeley|\n",
      "+---+-------+--------------------+-----------+\n",
      "\n"
     ]
    }
   ],
   "source": [
    "graduateProgram.show()"
   ]
  },
  {
   "cell_type": "code",
   "execution_count": 25,
   "id": "2ff977fa-f40f-4dcb-b4af-b2cec6afaa7f",
   "metadata": {
    "execution": {
     "iopub.execute_input": "2021-07-14T13:04:04.681300Z",
     "iopub.status.busy": "2021-07-14T13:04:04.680987Z",
     "iopub.status.idle": "2021-07-14T13:04:04.851347Z",
     "shell.execute_reply": "2021-07-14T13:04:04.848646Z",
     "shell.execute_reply.started": "2021-07-14T13:04:04.681256Z"
    }
   },
   "outputs": [
    {
     "name": "stdout",
     "output_type": "stream",
     "text": [
      "+----------------+-------+--------------------+-----------+\n",
      "|graduate_program| degree|          department|     school|\n",
      "+----------------+-------+--------------------+-----------+\n",
      "|               0|Masters|School of Informa...|UC Berkeley|\n",
      "|               2|Masters|                EECS|UC Berkeley|\n",
      "|               1|   Ph.D|                EECS|UC Berkeley|\n",
      "+----------------+-------+--------------------+-----------+\n",
      "\n"
     ]
    }
   ],
   "source": [
    "gradProgramDupe = graduateProgram.withColumnRenamed(\"id\", \"graduate_program\")\n",
    "gradProgramDupe.show()"
   ]
  },
  {
   "cell_type": "code",
   "execution_count": 26,
   "id": "03482630-b00b-46bd-937e-d7cde239dc97",
   "metadata": {
    "execution": {
     "iopub.execute_input": "2021-07-14T13:05:14.131252Z",
     "iopub.status.busy": "2021-07-14T13:05:14.130784Z",
     "iopub.status.idle": "2021-07-14T13:05:14.664712Z",
     "shell.execute_reply": "2021-07-14T13:05:14.662058Z",
     "shell.execute_reply.started": "2021-07-14T13:05:14.131201Z"
    }
   },
   "outputs": [
    {
     "name": "stdout",
     "output_type": "stream",
     "text": [
      "+---+----------------+----------------+---------------+----------------+-------+--------------------+-----------+\n",
      "| id|            name|graduate_program|   spark_status|graduate_program| degree|          department|     school|\n",
      "+---+----------------+----------------+---------------+----------------+-------+--------------------+-----------+\n",
      "|  0|   Bill Chambers|               0|          [100]|               0|Masters|School of Informa...|UC Berkeley|\n",
      "|  1|   Matei Zaharia|               1|[500, 250, 100]|               1|   Ph.D|                EECS|UC Berkeley|\n",
      "|  2|Michael Armbrust|               1|     [250, 100]|               1|   Ph.D|                EECS|UC Berkeley|\n",
      "+---+----------------+----------------+---------------+----------------+-------+--------------------+-----------+\n",
      "\n"
     ]
    }
   ],
   "source": [
    "joinExpression = gradProgramDupe['graduate_program'] == person['graduate_program']\n",
    "person.join(gradProgramDupe, joinExpression).show()\n",
    "\n",
    "# join key 이름이 같게 매칭"
   ]
  },
  {
   "cell_type": "code",
   "execution_count": 27,
   "id": "841b42c9-a3bd-4e18-a2ff-8a7b1ba10b32",
   "metadata": {
    "execution": {
     "iopub.execute_input": "2021-07-14T13:06:11.681283Z",
     "iopub.status.busy": "2021-07-14T13:06:11.680837Z",
     "iopub.status.idle": "2021-07-14T13:06:11.732476Z",
     "shell.execute_reply": "2021-07-14T13:06:11.730419Z",
     "shell.execute_reply.started": "2021-07-14T13:06:11.681104Z"
    }
   },
   "outputs": [
    {
     "ename": "AnalysisException",
     "evalue": "u\"Reference 'graduate_program' is ambiguous, could be: graduate_program, graduate_program.;\"",
     "output_type": "error",
     "traceback": [
      "\u001b[0;31m\u001b[0m",
      "\u001b[0;31mAnalysisException\u001b[0mTraceback (most recent call last)",
      "\u001b[0;32m<ipython-input-27-a90927c7340c>\u001b[0m in \u001b[0;36m<module>\u001b[0;34m()\u001b[0m\n\u001b[0;32m----> 1\u001b[0;31m \u001b[0mperson\u001b[0m\u001b[0;34m.\u001b[0m\u001b[0mjoin\u001b[0m\u001b[0;34m(\u001b[0m\u001b[0mgradProgramDupe\u001b[0m\u001b[0;34m,\u001b[0m \u001b[0mjoinExpression\u001b[0m\u001b[0;34m)\u001b[0m\u001b[0;34m.\u001b[0m\u001b[0mselect\u001b[0m\u001b[0;34m(\u001b[0m\u001b[0;34m\"graduate_program\"\u001b[0m\u001b[0;34m)\u001b[0m\u001b[0;34m.\u001b[0m\u001b[0mshow\u001b[0m\u001b[0;34m(\u001b[0m\u001b[0;34m)\u001b[0m\u001b[0;34m\u001b[0m\u001b[0m\n\u001b[0m",
      "\u001b[0;32m/opt/spark/python/pyspark/sql/dataframe.py\u001b[0m in \u001b[0;36mselect\u001b[0;34m(self, *cols)\u001b[0m\n\u001b[1;32m   1319\u001b[0m         \u001b[0;34m[\u001b[0m\u001b[0mRow\u001b[0m\u001b[0;34m(\u001b[0m\u001b[0mname\u001b[0m\u001b[0;34m=\u001b[0m\u001b[0;34mu'Alice'\u001b[0m\u001b[0;34m,\u001b[0m \u001b[0mage\u001b[0m\u001b[0;34m=\u001b[0m\u001b[0;36m12\u001b[0m\u001b[0;34m)\u001b[0m\u001b[0;34m,\u001b[0m \u001b[0mRow\u001b[0m\u001b[0;34m(\u001b[0m\u001b[0mname\u001b[0m\u001b[0;34m=\u001b[0m\u001b[0;34mu'Bob'\u001b[0m\u001b[0;34m,\u001b[0m \u001b[0mage\u001b[0m\u001b[0;34m=\u001b[0m\u001b[0;36m15\u001b[0m\u001b[0;34m)\u001b[0m\u001b[0;34m]\u001b[0m\u001b[0;34m\u001b[0m\u001b[0m\n\u001b[1;32m   1320\u001b[0m         \"\"\"\n\u001b[0;32m-> 1321\u001b[0;31m         \u001b[0mjdf\u001b[0m \u001b[0;34m=\u001b[0m \u001b[0mself\u001b[0m\u001b[0;34m.\u001b[0m\u001b[0m_jdf\u001b[0m\u001b[0;34m.\u001b[0m\u001b[0mselect\u001b[0m\u001b[0;34m(\u001b[0m\u001b[0mself\u001b[0m\u001b[0;34m.\u001b[0m\u001b[0m_jcols\u001b[0m\u001b[0;34m(\u001b[0m\u001b[0;34m*\u001b[0m\u001b[0mcols\u001b[0m\u001b[0;34m)\u001b[0m\u001b[0;34m)\u001b[0m\u001b[0;34m\u001b[0m\u001b[0m\n\u001b[0m\u001b[1;32m   1322\u001b[0m         \u001b[0;32mreturn\u001b[0m \u001b[0mDataFrame\u001b[0m\u001b[0;34m(\u001b[0m\u001b[0mjdf\u001b[0m\u001b[0;34m,\u001b[0m \u001b[0mself\u001b[0m\u001b[0;34m.\u001b[0m\u001b[0msql_ctx\u001b[0m\u001b[0;34m)\u001b[0m\u001b[0;34m\u001b[0m\u001b[0m\n\u001b[1;32m   1323\u001b[0m \u001b[0;34m\u001b[0m\u001b[0m\n",
      "\u001b[0;32m/opt/spark/python/lib/py4j-0.10.7-src.zip/py4j/java_gateway.py\u001b[0m in \u001b[0;36m__call__\u001b[0;34m(self, *args)\u001b[0m\n\u001b[1;32m   1255\u001b[0m         \u001b[0manswer\u001b[0m \u001b[0;34m=\u001b[0m \u001b[0mself\u001b[0m\u001b[0;34m.\u001b[0m\u001b[0mgateway_client\u001b[0m\u001b[0;34m.\u001b[0m\u001b[0msend_command\u001b[0m\u001b[0;34m(\u001b[0m\u001b[0mcommand\u001b[0m\u001b[0;34m)\u001b[0m\u001b[0;34m\u001b[0m\u001b[0m\n\u001b[1;32m   1256\u001b[0m         return_value = get_return_value(\n\u001b[0;32m-> 1257\u001b[0;31m             answer, self.gateway_client, self.target_id, self.name)\n\u001b[0m\u001b[1;32m   1258\u001b[0m \u001b[0;34m\u001b[0m\u001b[0m\n\u001b[1;32m   1259\u001b[0m         \u001b[0;32mfor\u001b[0m \u001b[0mtemp_arg\u001b[0m \u001b[0;32min\u001b[0m \u001b[0mtemp_args\u001b[0m\u001b[0;34m:\u001b[0m\u001b[0;34m\u001b[0m\u001b[0m\n",
      "\u001b[0;32m/opt/spark/python/pyspark/sql/utils.py\u001b[0m in \u001b[0;36mdeco\u001b[0;34m(*a, **kw)\u001b[0m\n\u001b[1;32m     67\u001b[0m                                              e.java_exception.getStackTrace()))\n\u001b[1;32m     68\u001b[0m             \u001b[0;32mif\u001b[0m \u001b[0ms\u001b[0m\u001b[0;34m.\u001b[0m\u001b[0mstartswith\u001b[0m\u001b[0;34m(\u001b[0m\u001b[0;34m'org.apache.spark.sql.AnalysisException: '\u001b[0m\u001b[0;34m)\u001b[0m\u001b[0;34m:\u001b[0m\u001b[0;34m\u001b[0m\u001b[0m\n\u001b[0;32m---> 69\u001b[0;31m                 \u001b[0;32mraise\u001b[0m \u001b[0mAnalysisException\u001b[0m\u001b[0;34m(\u001b[0m\u001b[0ms\u001b[0m\u001b[0;34m.\u001b[0m\u001b[0msplit\u001b[0m\u001b[0;34m(\u001b[0m\u001b[0;34m': '\u001b[0m\u001b[0;34m,\u001b[0m \u001b[0;36m1\u001b[0m\u001b[0;34m)\u001b[0m\u001b[0;34m[\u001b[0m\u001b[0;36m1\u001b[0m\u001b[0;34m]\u001b[0m\u001b[0;34m,\u001b[0m \u001b[0mstackTrace\u001b[0m\u001b[0;34m)\u001b[0m\u001b[0;34m\u001b[0m\u001b[0m\n\u001b[0m\u001b[1;32m     70\u001b[0m             \u001b[0;32mif\u001b[0m \u001b[0ms\u001b[0m\u001b[0;34m.\u001b[0m\u001b[0mstartswith\u001b[0m\u001b[0;34m(\u001b[0m\u001b[0;34m'org.apache.spark.sql.catalyst.analysis'\u001b[0m\u001b[0;34m)\u001b[0m\u001b[0;34m:\u001b[0m\u001b[0;34m\u001b[0m\u001b[0m\n\u001b[1;32m     71\u001b[0m                 \u001b[0;32mraise\u001b[0m \u001b[0mAnalysisException\u001b[0m\u001b[0;34m(\u001b[0m\u001b[0ms\u001b[0m\u001b[0;34m.\u001b[0m\u001b[0msplit\u001b[0m\u001b[0;34m(\u001b[0m\u001b[0;34m': '\u001b[0m\u001b[0;34m,\u001b[0m \u001b[0;36m1\u001b[0m\u001b[0;34m)\u001b[0m\u001b[0;34m[\u001b[0m\u001b[0;36m1\u001b[0m\u001b[0;34m]\u001b[0m\u001b[0;34m,\u001b[0m \u001b[0mstackTrace\u001b[0m\u001b[0;34m)\u001b[0m\u001b[0;34m\u001b[0m\u001b[0m\n",
      "\u001b[0;31mAnalysisException\u001b[0m: u\"Reference 'graduate_program' is ambiguous, could be: graduate_program, graduate_program.;\""
     ]
    }
   ],
   "source": [
    "person.join(gradProgramDupe, joinExpression).select(\"graduate_program\").show()"
   ]
  },
  {
   "cell_type": "markdown",
   "id": "24c49218-bc40-4d4c-9183-9d9d9d0bcb09",
   "metadata": {},
   "source": [
    "## Solution 1\n",
    "- 불리언 형태로 조인 표현식을 바꿔준다."
   ]
  },
  {
   "cell_type": "code",
   "execution_count": 29,
   "id": "3ca7547e-0f26-44f1-a602-22d5bc6de4ee",
   "metadata": {
    "execution": {
     "iopub.execute_input": "2021-07-14T13:08:14.742610Z",
     "iopub.status.busy": "2021-07-14T13:08:14.742295Z",
     "iopub.status.idle": "2021-07-14T13:08:15.914713Z",
     "shell.execute_reply": "2021-07-14T13:08:15.912157Z",
     "shell.execute_reply.started": "2021-07-14T13:08:14.742565Z"
    },
    "tags": []
   },
   "outputs": [
    {
     "name": "stdout",
     "output_type": "stream",
     "text": [
      "+----------------+---+----------------+---------------+-------+--------------------+-----------+\n",
      "|graduate_program| id|            name|   spark_status| degree|          department|     school|\n",
      "+----------------+---+----------------+---------------+-------+--------------------+-----------+\n",
      "|               0|  0|   Bill Chambers|          [100]|Masters|School of Informa...|UC Berkeley|\n",
      "|               1|  1|   Matei Zaharia|[500, 250, 100]|   Ph.D|                EECS|UC Berkeley|\n",
      "|               1|  2|Michael Armbrust|     [250, 100]|   Ph.D|                EECS|UC Berkeley|\n",
      "+----------------+---+----------------+---------------+-------+--------------------+-----------+\n",
      "\n",
      "+----------------+\n",
      "|graduate_program|\n",
      "+----------------+\n",
      "|               0|\n",
      "|               1|\n",
      "|               1|\n",
      "+----------------+\n",
      "\n"
     ]
    }
   ],
   "source": [
    "person.join(gradProgramDupe, 'graduate_program').show()\n",
    "person.join(gradProgramDupe, 'graduate_program').select(\"graduate_program\").show()"
   ]
  },
  {
   "cell_type": "markdown",
   "id": "fd854418-8594-4640-bb64-bf7f58557ac8",
   "metadata": {},
   "source": [
    "## Solution 2\n",
    "- 조인 후 컬럼 제거"
   ]
  },
  {
   "cell_type": "code",
   "execution_count": 35,
   "id": "230bd65e-004e-4976-9e5f-ec6115aef19e",
   "metadata": {
    "execution": {
     "iopub.execute_input": "2021-07-14T13:11:26.130964Z",
     "iopub.status.busy": "2021-07-14T13:11:26.130623Z",
     "iopub.status.idle": "2021-07-14T13:11:26.155873Z",
     "shell.execute_reply": "2021-07-14T13:11:26.153105Z",
     "shell.execute_reply.started": "2021-07-14T13:11:26.130915Z"
    },
    "tags": []
   },
   "outputs": [
    {
     "ename": "AttributeError",
     "evalue": "'DataFrame' object has no attribute 'col'",
     "output_type": "error",
     "traceback": [
      "\u001b[0;31m\u001b[0m",
      "\u001b[0;31mAttributeError\u001b[0mTraceback (most recent call last)",
      "\u001b[0;32m<ipython-input-35-89ae0acb2454>\u001b[0m in \u001b[0;36m<module>\u001b[0;34m()\u001b[0m\n\u001b[1;32m      1\u001b[0m \u001b[0;32mfrom\u001b[0m \u001b[0mpyspark\u001b[0m\u001b[0;34m.\u001b[0m\u001b[0msql\u001b[0m\u001b[0;34m.\u001b[0m\u001b[0mfunctions\u001b[0m \u001b[0;32mimport\u001b[0m \u001b[0mcol\u001b[0m\u001b[0;34m\u001b[0m\u001b[0m\n\u001b[0;32m----> 2\u001b[0;31m \u001b[0mperson\u001b[0m\u001b[0;34m.\u001b[0m\u001b[0mjoin\u001b[0m\u001b[0;34m(\u001b[0m\u001b[0mgradProgramDupe\u001b[0m\u001b[0;34m,\u001b[0m \u001b[0mjoinExpression\u001b[0m\u001b[0;34m)\u001b[0m\u001b[0;34m.\u001b[0m\u001b[0mdrop\u001b[0m\u001b[0;34m(\u001b[0m\u001b[0mperson\u001b[0m\u001b[0;34m.\u001b[0m\u001b[0mcol\u001b[0m\u001b[0;34m(\u001b[0m\u001b[0;34m\"graduate_program\"\u001b[0m\u001b[0;34m)\u001b[0m\u001b[0;34m)\u001b[0m\u001b[0;34m.\u001b[0m\u001b[0mselect\u001b[0m\u001b[0;34m(\u001b[0m\u001b[0;34m\"graduate_program\"\u001b[0m\u001b[0;34m)\u001b[0m\u001b[0;34m.\u001b[0m\u001b[0mshow\u001b[0m\u001b[0;34m(\u001b[0m\u001b[0;34m)\u001b[0m\u001b[0;34m\u001b[0m\u001b[0m\n\u001b[0m",
      "\u001b[0;32m/opt/spark/python/pyspark/sql/dataframe.py\u001b[0m in \u001b[0;36m__getattr__\u001b[0;34m(self, name)\u001b[0m\n\u001b[1;32m   1299\u001b[0m         \u001b[0;32mif\u001b[0m \u001b[0mname\u001b[0m \u001b[0;32mnot\u001b[0m \u001b[0;32min\u001b[0m \u001b[0mself\u001b[0m\u001b[0;34m.\u001b[0m\u001b[0mcolumns\u001b[0m\u001b[0;34m:\u001b[0m\u001b[0;34m\u001b[0m\u001b[0m\n\u001b[1;32m   1300\u001b[0m             raise AttributeError(\n\u001b[0;32m-> 1301\u001b[0;31m                 \"'%s' object has no attribute '%s'\" % (self.__class__.__name__, name))\n\u001b[0m\u001b[1;32m   1302\u001b[0m         \u001b[0mjc\u001b[0m \u001b[0;34m=\u001b[0m \u001b[0mself\u001b[0m\u001b[0;34m.\u001b[0m\u001b[0m_jdf\u001b[0m\u001b[0;34m.\u001b[0m\u001b[0mapply\u001b[0m\u001b[0;34m(\u001b[0m\u001b[0mname\u001b[0m\u001b[0;34m)\u001b[0m\u001b[0;34m\u001b[0m\u001b[0m\n\u001b[1;32m   1303\u001b[0m         \u001b[0;32mreturn\u001b[0m \u001b[0mColumn\u001b[0m\u001b[0;34m(\u001b[0m\u001b[0mjc\u001b[0m\u001b[0;34m)\u001b[0m\u001b[0;34m\u001b[0m\u001b[0m\n",
      "\u001b[0;31mAttributeError\u001b[0m: 'DataFrame' object has no attribute 'col'"
     ]
    }
   ],
   "source": [
    "from pyspark.sql.functions import col\n",
    "person.join(gradProgramDupe, joinExpression).drop(person.col(\"graduate_program\")).select(\"graduate_program\").show()"
   ]
  },
  {
   "cell_type": "markdown",
   "id": "f532740e-620e-4180-9f83-302b860a1a3b",
   "metadata": {},
   "source": [
    "## Solution 3\n",
    "- 컬럼명 변경"
   ]
  },
  {
   "cell_type": "code",
   "execution_count": 36,
   "id": "09aa4b0c-c23d-479c-bd2f-8dc2df10bf3e",
   "metadata": {
    "execution": {
     "iopub.execute_input": "2021-07-14T13:13:59.925473Z",
     "iopub.status.busy": "2021-07-14T13:13:59.925165Z",
     "iopub.status.idle": "2021-07-14T13:14:00.429515Z",
     "shell.execute_reply": "2021-07-14T13:14:00.426969Z",
     "shell.execute_reply.started": "2021-07-14T13:13:59.925430Z"
    }
   },
   "outputs": [
    {
     "name": "stdout",
     "output_type": "stream",
     "text": [
      "+---+----------------+----------------+---------------+-------+-------+--------------------+-----------+\n",
      "| id|            name|graduate_program|   spark_status|grad_id| degree|          department|     school|\n",
      "+---+----------------+----------------+---------------+-------+-------+--------------------+-----------+\n",
      "|  0|   Bill Chambers|               0|          [100]|      0|Masters|School of Informa...|UC Berkeley|\n",
      "|  1|   Matei Zaharia|               1|[500, 250, 100]|      1|   Ph.D|                EECS|UC Berkeley|\n",
      "|  2|Michael Armbrust|               1|     [250, 100]|      1|   Ph.D|                EECS|UC Berkeley|\n",
      "+---+----------------+----------------+---------------+-------+-------+--------------------+-----------+\n",
      "\n"
     ]
    }
   ],
   "source": [
    "gradProgram3 = graduateProgram.withColumnRenamed(\"id\", \"grad_id\")\n",
    "joinExpr = person['graduate_program'] == gradProgram3['grad_id']\n",
    "person.join(gradProgram3, joinExpr).show()"
   ]
  },
  {
   "cell_type": "markdown",
   "id": "229d7e6a-d7b0-4414-8c24-0917f1a9e475",
   "metadata": {},
   "source": [
    "## 스파크의 조인 수행 방식\n",
    "### 네트워크 통신 전략 [URL](https://knight76.tistory.com/entry/spark-%EC%8A%A4%ED%8C%8C%ED%81%AC-%EC%A1%B0%EC%9D%B8-%EC%A0%84%EB%9E%B5-%EC%85%94%ED%94%8C-%EC%A1%B0%EC%9D%B8-%EB%B8%8C%EB%A1%9C%EC%BA%90%EC%8A%A4%ED%8A%B8-%EC%A1%B0%EC%9D%B8-shuffle-join-broadcast-join) [URL2](https://towardsdatascience.com/strategies-of-spark-join-c0e7b4572bcf)\n",
    "1. Shuffle join : 전체 노드 간 통신을 유발함 -> 같은 키를 가지고 있는 값을 동일 executor에 모아준다. -> 이 과정에서 데이터의 이동이 많아지고 (shuffle) 이는 I/O 가 많이 일어나므로 시간이 오래 걸림 \n",
    "- ![Shuffle Join](img/shuffle.png)\n",
    "2. Broadcast join : 작은 노드에 대해서 동일한 테이블을 worker에 각각 배치함, worker에 올릴 수 있는 메모리가 한정되어있음. worker에 배치할 때 마찬가지로 큰 데이터 이동이 일어나지만, 추가적인 통신은 발생하지 않음 (shuffle).  \n",
    "단점으로는 CPU가 고성능이어야함, 고비용의 수집 연산 발생 -> 드라이버 노드가 out of memory error로 종료될 수 있음\n",
    "- ![Broadcast Join](img/capture.png)\n",
    "\n"
   ]
  },
  {
   "cell_type": "code",
   "execution_count": 3,
   "id": "dfdf3101-71f3-4167-a708-3fbcefb718c8",
   "metadata": {
    "execution": {
     "iopub.execute_input": "2021-07-15T11:46:04.197230Z",
     "iopub.status.busy": "2021-07-15T11:46:04.196927Z",
     "iopub.status.idle": "2021-07-15T11:46:04.401376Z",
     "shell.execute_reply": "2021-07-15T11:46:04.398806Z",
     "shell.execute_reply.started": "2021-07-15T11:46:04.197187Z"
    },
    "tags": []
   },
   "outputs": [
    {
     "name": "stdout",
     "output_type": "stream",
     "text": [
      "== Physical Plan ==\n",
      "*(5) SortMergeJoin [graduate_program#10L], [id#24L], Inner\n",
      ":- *(2) Sort [graduate_program#10L ASC NULLS FIRST], false, 0\n",
      ":  +- Exchange hashpartitioning(graduate_program#10L, 200)\n",
      ":     +- *(1) Project [_1#0L AS id#8L, _2#1 AS name#9, _3#2L AS graduate_program#10L, _4#3 AS spark_status#11]\n",
      ":        +- *(1) Filter isnotnull(_3#2L)\n",
      ":           +- Scan ExistingRDD[_1#0L,_2#1,_3#2L,_4#3]\n",
      "+- *(4) Sort [id#24L ASC NULLS FIRST], false, 0\n",
      "   +- Exchange hashpartitioning(id#24L, 200)\n",
      "      +- *(3) Project [_1#16L AS id#24L, _2#17 AS degree#25, _3#18 AS department#26, _4#19 AS school#27]\n",
      "         +- *(3) Filter isnotnull(_1#16L)\n",
      "            +- Scan ExistingRDD[_1#16L,_2#17,_3#18,_4#19]\n"
     ]
    }
   ],
   "source": [
    "joinExpr = person['graduate_program'] == graduateProgram['id']\n",
    "person.join(graduateProgram, joinExpr).explain()"
   ]
  },
  {
   "cell_type": "code",
   "execution_count": 6,
   "id": "bc0a111d-ee20-41c2-a496-af5c9e9c551d",
   "metadata": {
    "execution": {
     "iopub.execute_input": "2021-07-15T11:47:28.198487Z",
     "iopub.status.busy": "2021-07-15T11:47:28.198179Z",
     "iopub.status.idle": "2021-07-15T11:47:28.280055Z",
     "shell.execute_reply": "2021-07-15T11:47:28.277434Z",
     "shell.execute_reply.started": "2021-07-15T11:47:28.198445Z"
    },
    "tags": []
   },
   "outputs": [
    {
     "name": "stdout",
     "output_type": "stream",
     "text": [
      "== Physical Plan ==\n",
      "*(2) BroadcastHashJoin [graduate_program#10L], [id#24L], Inner, BuildRight\n",
      ":- *(2) Project [_1#0L AS id#8L, _2#1 AS name#9, _3#2L AS graduate_program#10L, _4#3 AS spark_status#11]\n",
      ":  +- *(2) Filter isnotnull(_3#2L)\n",
      ":     +- Scan ExistingRDD[_1#0L,_2#1,_3#2L,_4#3]\n",
      "+- BroadcastExchange HashedRelationBroadcastMode(List(input[0, bigint, true]))\n",
      "   +- *(1) Project [_1#16L AS id#24L, _2#17 AS degree#25, _3#18 AS department#26, _4#19 AS school#27]\n",
      "      +- *(1) Filter isnotnull(_1#16L)\n",
      "         +- Scan ExistingRDD[_1#16L,_2#17,_3#18,_4#19]\n"
     ]
    }
   ],
   "source": [
    "from pyspark.sql.functions import broadcast\n",
    "person.join(broadcast(graduateProgram), joinExpr).explain()"
   ]
  },
  {
   "cell_type": "code",
   "execution_count": null,
   "id": "73d4eebb-9e80-4824-a1c8-ea43efcb4928",
   "metadata": {},
   "outputs": [],
   "source": [
    "# SQL 에서 broadcast join\n",
    "Select /*+ MAPJOIN(graduateProgram) */ * FROM person \n",
    "JOIN graduateProgram \n",
    "ON person.graduate_program = graduateProgram.id"
   ]
  },
  {
   "cell_type": "markdown",
   "id": "83cb6287-368a-448c-b954-0ea28801236f",
   "metadata": {},
   "source": [
    "# Chapter 9 데이터소스\n",
    "(p.245 ~ 277)\n",
    "\n",
    "## 핵심 데이터소스\n",
    "- CSV\n",
    "- JSON\n",
    "- Parquet 파케이~\n",
    "- ORC\n",
    "- JDBC/ODBC 연결\n",
    "- 일반 텍스트 파일\n",
    "\n",
    "외부 데이터소스\n",
    "- 카산드라\n",
    "- HBase\n",
    "- 몽고DB\n",
    "- AWS Redshift\n",
    "- XML\n",
    "- 기타\n",
    "\n",
    "## 읽기 API 구조\n",
    "- DataFrameReader.format(...).option(\"key\", \"value\").schema(...).load()\n",
    "- format 메서드 : 기본값 parquet\n",
    "- option을 통해서 데이터 읽는 방법 설정 가능\n",
    "- 포맷, 스키마, 읽기모드, 옵션을 설정해서 DataFrameReader로 읽음"
   ]
  },
  {
   "cell_type": "code",
   "execution_count": null,
   "id": "1aab962c-0c95-4213-9730-4129542d57c5",
   "metadata": {},
   "outputs": [],
   "source": [
    "spark.read.format(\"csv\")\n",
    ".option(\"mode\", \"FAILFAST\")\n",
    ".option(\"inforSchema\", \"true\")\n",
    ".option(\"path\", \"paht/to/file(s)\")\n",
    ".schema(someSchema)\n",
    ".load()"
   ]
  },
  {
   "cell_type": "markdown",
   "id": "4a6302ff-3768-4d51-89a4-ed6f5c99c85e",
   "metadata": {},
   "source": [
    "## 읽기 모드\n",
    "- permissive : 오류 레코드의 필드는 null로 설정, 오류 레코드 -> _corrupt_recored 라는 문자열 기록\n",
    "- dropMalformed : 형식에 맞지 않는 레코드는 drop\n",
    "- failFast :  형식에 맞지 않는 레코드 발생 시 종료\n",
    "- 읽기 모드 기본값은 permissive\n",
    "\n",
    "## 쓰기 API 구조\n",
    "- DataFrameWriter.format(...).option(...)partitionBy(...).buscketBy(...)sortBy(...).save()\n",
    "- format 메서드 : 기본값 parquet\n"
   ]
  },
  {
   "cell_type": "code",
   "execution_count": null,
   "id": "22ae0ed9-b749-4552-bfe1-afa4b3467c10",
   "metadata": {},
   "outputs": [],
   "source": [
    "dataframe.write.format(\"csv\")\n",
    ".option(\"mode\", \"OVERWRITE\")\n",
    ".option(\"dateFormat\", 'yyyy-MM-dd')\n",
    ".option(\"path\", \"path/to/file(s)\")\n",
    ".save()"
   ]
  },
  {
   "cell_type": "markdown",
   "id": "6bd33740-ae1b-4724-b993-9806bbcc827e",
   "metadata": {},
   "source": [
    "## 저장 모드\n",
    "- append : 해당 경로에 존재하는 파일 목록에 결과 파일을 추가\n",
    "- overwrite : 이미 존재하는 데이터를 덮어씀\n",
    "- errorIfExists : 해당 경로에 데이터나 파일이 존재하는 경우, 오류 발생\n",
    "- ignore : 해당 경로에 데이터나 파일이 존재하는 경우 아무런 처리 X\n",
    "- 쓰기 모드의 기본 값은 errorIfExists"
   ]
  },
  {
   "cell_type": "markdown",
   "id": "ce967eda-07a4-45fc-abd3-2047bb4278b8",
   "metadata": {},
   "source": [
    "# CSV\n",
    "- CSV reader 옵션 p.250 쪽 참조\n",
    "- 스파크는 지연 연산의 특성이 있으므로 Dataframe 정의 시점이 아닌 잡 실행 시점에 오류 발생\n",
    "## CSV 파일 읽고 쓰기"
   ]
  },
  {
   "cell_type": "code",
   "execution_count": 15,
   "id": "21fbdb42-68fd-480c-8ce9-8205cb7b0762",
   "metadata": {
    "execution": {
     "iopub.execute_input": "2021-07-18T08:39:15.901401Z",
     "iopub.status.busy": "2021-07-18T08:39:15.901128Z",
     "iopub.status.idle": "2021-07-18T08:39:21.918154Z",
     "shell.execute_reply": "2021-07-18T08:39:21.915521Z",
     "shell.execute_reply.started": "2021-07-18T08:39:15.901358Z"
    },
    "tags": []
   },
   "outputs": [],
   "source": [
    "# csv file 읽기 - OASIS HDFS\n",
    "csvFile = spark.read.format(\"csv\")\\\n",
    ".option(\"header\", \"true\")\\\n",
    ".option(\"mode\", \"FAILFAST\")\\\n",
    ".option(\"inferSchema\", \"true\")\\\n",
    ".load(\"/user/fp10226/2015-summary.csv\")\n",
    "#pyspark_study/data/flight-data/csv/2010-summary.csv -> jutopia 개인 경로 X"
   ]
  },
  {
   "cell_type": "code",
   "execution_count": 18,
   "id": "64f60e44-51cb-46d6-b3d0-159422b17b04",
   "metadata": {
    "execution": {
     "iopub.execute_input": "2021-07-18T08:40:57.899654Z",
     "iopub.status.busy": "2021-07-18T08:40:57.899383Z",
     "iopub.status.idle": "2021-07-18T08:40:58.493009Z",
     "shell.execute_reply": "2021-07-18T08:40:58.490328Z",
     "shell.execute_reply.started": "2021-07-18T08:40:57.899614Z"
    },
    "tags": []
   },
   "outputs": [],
   "source": [
    "# csv file 쓰기\n",
    "csvFile.write.format('csv').mode('overwrite').option(\"sep\", \"\\t\")\\\n",
    ".save(\"./tsv_test.tsv\")\n",
    "\n",
    "# OASIS HDFS 에 쓰기 되어짐 -> folder 형태로 저장됨"
   ]
  },
  {
   "cell_type": "markdown",
   "id": "089da41a-6a74-4034-9bbb-8ed4d206f669",
   "metadata": {},
   "source": [
    "## JSON\n",
    "- javascript object notation\n",
    "- spark에서는 줄(line)로 구분된 방식을 기본적으로 사용\n",
    "- multiline 옵션 : 여러 줄로 구성된 방식\n",
    "- JSON은 객체이기 때문에 CSV보다 옵션 수가 적음\n",
    "- 옵션 : p.255 참고\n",
    "\n",
    "## JSON 파일 읽고 쓰기"
   ]
  },
  {
   "cell_type": "code",
   "execution_count": 20,
   "id": "d0633fc1-98f7-400b-bab6-d46da077f608",
   "metadata": {
    "execution": {
     "iopub.execute_input": "2021-07-18T08:54:38.092098Z",
     "iopub.status.busy": "2021-07-18T08:54:38.091824Z",
     "iopub.status.idle": "2021-07-18T08:54:38.839109Z",
     "shell.execute_reply": "2021-07-18T08:54:38.837495Z",
     "shell.execute_reply.started": "2021-07-18T08:54:38.092057Z"
    },
    "tags": []
   },
   "outputs": [
    {
     "name": "stdout",
     "output_type": "stream",
     "text": [
      "+-----------------+-------------------+-----+\n",
      "|DEST_COUNTRY_NAME|ORIGIN_COUNTRY_NAME|count|\n",
      "+-----------------+-------------------+-----+\n",
      "|    United States|            Romania|    1|\n",
      "|    United States|            Ireland|  264|\n",
      "|    United States|              India|   69|\n",
      "|            Egypt|      United States|   24|\n",
      "|Equatorial Guinea|      United States|    1|\n",
      "+-----------------+-------------------+-----+\n",
      "only showing top 5 rows\n",
      "\n"
     ]
    }
   ],
   "source": [
    "# 읽기\n",
    "spark.read.format(\"json\").option(\"mode\", \"FAILFAST\")\\\n",
    ".option(\"inferSchema\", \"true\")\\\n",
    ".load(\"/user/fp10226/flight-data/json/2010-summary.json\").show(5)"
   ]
  },
  {
   "cell_type": "code",
   "execution_count": 21,
   "id": "4ff830d9-b324-411a-a091-7c66d32adfd7",
   "metadata": {
    "execution": {
     "iopub.execute_input": "2021-07-18T08:55:16.899127Z",
     "iopub.status.busy": "2021-07-18T08:55:16.898846Z",
     "iopub.status.idle": "2021-07-18T08:55:17.212662Z",
     "shell.execute_reply": "2021-07-18T08:55:17.210032Z",
     "shell.execute_reply.started": "2021-07-18T08:55:16.899086Z"
    }
   },
   "outputs": [],
   "source": [
    "# 쓰기\n",
    "csvFile.write.format(\"json\").mode('overwrite').save('my-json-file.json')"
   ]
  },
  {
   "cell_type": "markdown",
   "id": "fd1c0b9d-e58f-4f5c-bd90-5a86be6631f4",
   "metadata": {},
   "source": [
    "## 파케이 파일\n",
    "- 장점 : \n",
    "1. 분석 워크로드에 최적화\n",
    "2. 저장소 공간을 절약\n",
    "3. 전체 파일을 읽는 대신 개별 컬럼을 읽을 수 있음\n",
    "4. 컬럼 기반의 압축 기능 제공\n",
    "5. 아파치 스파크와 호환성이 높음 -> 스파크의 기본 파일 포맷\n",
    "6. 읽기 연산이 csv, json보다 빠름 \n",
    "7. 복합 데이터 타입을 지원\n",
    "- spark.read.format('parquet')\n",
    "\n",
    "## 파케이 파일 읽고 쓰기\n",
    "- 파케이는 데이터를 저장할 때 자체 스키마를 사용해 데이터를 저장하기 때문에 옵션이 거의 없음 (p.259 참조)\n",
    "- 파일을 읽는 시점에 스키마를 알 수 있음 -> schema on read"
   ]
  },
  {
   "cell_type": "code",
   "execution_count": 22,
   "id": "96ea8af8-2031-4ab3-a6ec-c918feb93aba",
   "metadata": {
    "execution": {
     "iopub.execute_input": "2021-07-18T09:01:01.951502Z",
     "iopub.status.busy": "2021-07-18T09:01:01.951227Z",
     "iopub.status.idle": "2021-07-18T09:01:03.075438Z",
     "shell.execute_reply": "2021-07-18T09:01:03.072915Z",
     "shell.execute_reply.started": "2021-07-18T09:01:01.951462Z"
    }
   },
   "outputs": [
    {
     "name": "stdout",
     "output_type": "stream",
     "text": [
      "+-----------------+-------------------+-----+\n",
      "|DEST_COUNTRY_NAME|ORIGIN_COUNTRY_NAME|count|\n",
      "+-----------------+-------------------+-----+\n",
      "|    United States|            Romania|    1|\n",
      "|    United States|            Ireland|  264|\n",
      "|    United States|              India|   69|\n",
      "|            Egypt|      United States|   24|\n",
      "|Equatorial Guinea|      United States|    1|\n",
      "+-----------------+-------------------+-----+\n",
      "only showing top 5 rows\n",
      "\n"
     ]
    }
   ],
   "source": [
    "# 파케이 읽기\n",
    "spark.read.format('parquet')\\\n",
    ".load('flight-data/parquet/2010-summary.parquet').show(5)"
   ]
  },
  {
   "cell_type": "code",
   "execution_count": 23,
   "id": "8bb480bf-0bcb-46cb-be66-9634e24014f1",
   "metadata": {
    "execution": {
     "iopub.execute_input": "2021-07-18T09:02:15.157950Z",
     "iopub.status.busy": "2021-07-18T09:02:15.157667Z",
     "iopub.status.idle": "2021-07-18T09:02:15.591390Z",
     "shell.execute_reply": "2021-07-18T09:02:15.589898Z",
     "shell.execute_reply.started": "2021-07-18T09:02:15.157910Z"
    }
   },
   "outputs": [],
   "source": [
    "# 파케이 쓰기\n",
    "csvFile.write.format('parquet').mode('overwrite')\\\n",
    ".save('my-parquet-file.parquet')"
   ]
  },
  {
   "cell_type": "markdown",
   "id": "2ddf39a4-656d-421e-b240-b0d9c5696bcd",
   "metadata": {},
   "source": [
    "## ORC\n",
    "- 하둡 워크로드를 위해 설계된 파일, 데이터 타입을 인식할 수 있음\n",
    "- 대규모 스트리밍 읽기에 최적화되어 있음\n",
    "- 필요한 로우를 신속하게 찾을 수 있음\n",
    "- 파케이는 스파크에 최적화된 반면 ORC는 하이브에 최적화되어 있음\n",
    "\n",
    "## ORC 파일 읽고 쓰기"
   ]
  },
  {
   "cell_type": "code",
   "execution_count": 24,
   "id": "83b3c8ad-f8bd-4c7c-8c72-ec1a5be25391",
   "metadata": {
    "execution": {
     "iopub.execute_input": "2021-07-18T09:05:20.899400Z",
     "iopub.status.busy": "2021-07-18T09:05:20.899033Z",
     "iopub.status.idle": "2021-07-18T09:05:21.814609Z",
     "shell.execute_reply": "2021-07-18T09:05:21.812005Z",
     "shell.execute_reply.started": "2021-07-18T09:05:20.899265Z"
    }
   },
   "outputs": [
    {
     "name": "stdout",
     "output_type": "stream",
     "text": [
      "+-----------------+-------------------+-----+\n",
      "|DEST_COUNTRY_NAME|ORIGIN_COUNTRY_NAME|count|\n",
      "+-----------------+-------------------+-----+\n",
      "|    United States|            Romania|    1|\n",
      "|    United States|            Ireland|  264|\n",
      "|    United States|              India|   69|\n",
      "|            Egypt|      United States|   24|\n",
      "|Equatorial Guinea|      United States|    1|\n",
      "+-----------------+-------------------+-----+\n",
      "only showing top 5 rows\n",
      "\n"
     ]
    }
   ],
   "source": [
    "# ORC 읽기\n",
    "spark.read.format(\"orc\").load(\"flight-data/orc/2010-summary.orc\").show(5)"
   ]
  },
  {
   "cell_type": "code",
   "execution_count": 25,
   "id": "a9a32734-c933-4902-95b2-1b300f77b51f",
   "metadata": {
    "execution": {
     "iopub.execute_input": "2021-07-18T09:05:49.154994Z",
     "iopub.status.busy": "2021-07-18T09:05:49.154711Z",
     "iopub.status.idle": "2021-07-18T09:05:49.743061Z",
     "shell.execute_reply": "2021-07-18T09:05:49.740466Z",
     "shell.execute_reply.started": "2021-07-18T09:05:49.154953Z"
    }
   },
   "outputs": [],
   "source": [
    "# ORC 쓰기\n",
    "csvFile.write.format(\"orc\").mode(\"overwrite\").save('my-orc-file.orc')\n"
   ]
  },
  {
   "cell_type": "markdown",
   "id": "7c574129-1093-44cc-a579-49cf16d6576b",
   "metadata": {},
   "source": [
    "## SQL 데이터 베이스\n",
    "- MySQL, PostgreSQL, Oracle\n",
    "- 데이터베이스 인증 정보, 접속 관련 옵션이 필요, 네트워크 상태 확인\n",
    "- spark.sql로 대체"
   ]
  },
  {
   "cell_type": "code",
   "execution_count": null,
   "id": "6e4fe9aa-c59e-443e-ac79-3c939b401d74",
   "metadata": {},
   "outputs": [],
   "source": [
    "# 원래 코드\n",
    "driver = \"org.sqlite.JDBC\"\n",
    "path = \"/data/flight-data/jdbc/my-sqlite.db\"\n",
    "url = \"jdbc:sqlite:\" + path\n",
    "tablename = \"flight_info\"\n",
    "\n",
    "dbDataFrame = spark.read.format(\"jdbc\").option(\"url\", url)\\\n",
    "  .option(\"dbtable\", tablename).option(\"driver\",  driver).load()\n",
    "\n",
    "pgDF = spark.read.format(\"jdbc\")\\\n",
    "  .option(\"driver\", \"org.postgresql.Driver\")\\\n",
    "  .option(\"url\", \"jdbc:postgresql://database_server\")\\\n",
    "  .option(\"dbtable\", \"schema.tablename\")\\\n",
    "  .option(\"user\", \"username\").option(\"password\", \"my-secret-password\").load()"
   ]
  },
  {
   "cell_type": "code",
   "execution_count": 30,
   "id": "417a0ab1-4e3e-48df-bb32-698a054b35f8",
   "metadata": {
    "execution": {
     "iopub.execute_input": "2021-07-18T09:12:43.112418Z",
     "iopub.status.busy": "2021-07-18T09:12:43.112144Z",
     "iopub.status.idle": "2021-07-18T09:12:43.169388Z",
     "shell.execute_reply": "2021-07-18T09:12:43.166923Z",
     "shell.execute_reply.started": "2021-07-18T09:12:43.112377Z"
    },
    "tags": []
   },
   "outputs": [
    {
     "data": {
      "text/plain": [
       "<bound method DataFrame.explain of DataFrame[database: string]>"
      ]
     },
     "execution_count": 30,
     "metadata": {},
     "output_type": "execute_result"
    }
   ],
   "source": [
    "df = spark.sql(\"show tables in linecreditscore_dev\")\n",
    "df.select(\"database\").distinct().explain\n",
    "\n",
    "# 원래 코드\n",
    "# pushdownQuery = \"\"\"(SELECT DISTINCT(DEST_COUNTRY_NAME) FROM flight_info)\n",
    "#   AS flight_info\"\"\"\n",
    "# dbDataFrame = spark.read.format(\"jdbc\")\\\n",
    "#   .option(\"url\", url).option(\"dbtable\", pushdownQuery).option(\"driver\",  driver)\\\n",
    "#   .load()\n"
   ]
  },
  {
   "cell_type": "code",
   "execution_count": 31,
   "id": "882b74c6-0d7f-4199-817d-0b8cc0869398",
   "metadata": {
    "execution": {
     "iopub.execute_input": "2021-07-18T09:13:22.800478Z",
     "iopub.status.busy": "2021-07-18T09:13:22.800203Z",
     "iopub.status.idle": "2021-07-18T09:13:22.857485Z",
     "shell.execute_reply": "2021-07-18T09:13:22.854893Z",
     "shell.execute_reply.started": "2021-07-18T09:13:22.800437Z"
    }
   },
   "outputs": [
    {
     "name": "stdout",
     "output_type": "stream",
     "text": [
      "== Physical Plan ==\n",
      "LocalTableScan [database#176, tableName#177, isTemporary#178]\n"
     ]
    }
   ],
   "source": [
    "df.filter(\"database in ('linecreditscore_dev')\").explain()\n",
    "\n",
    "# 원래 코드 \n",
    "# dbDataFrame.filter(\"DEST_COUNTRY_NAME in ('Anguilla', 'Sweden')\").explain()\n"
   ]
  },
  {
   "cell_type": "markdown",
   "id": "b2254cbf-d8ca-4846-8e09-4a950aa00bc7",
   "metadata": {},
   "source": [
    "## 데이터베이스 병렬로 읽기\n",
    "- 파티셔닝, numPartitions 옵션을 사용해 읽기 및 쓰기용 동시 작업 수를 제한할 수 있음\n",
    "- SQL 데이터베이스에는 파티션이 나눠져있지 않기 때문에 spark 쪽으로 불러올 때 이걸 잘게 쪼개주기 위해 선언"
   ]
  },
  {
   "cell_type": "code",
   "execution_count": null,
   "id": "0374d237-06fe-45d0-9863-8f74377700d9",
   "metadata": {},
   "outputs": [],
   "source": [
    "#원 코드\n",
    "dbDataFrame = spark.read.format(\"jdbc\")\\\n",
    "  .option(\"url\", url).option(\"dbtable\", tablename).option(\"driver\",  driver)\\\n",
    "  .option(\"numPartitions\", 10).load()"
   ]
  },
  {
   "cell_type": "code",
   "execution_count": null,
   "id": "f59a2413-94cc-4d88-9700-17a0bb9456b9",
   "metadata": {},
   "outputs": [],
   "source": [
    "props = {\"driver\":\"org.sqlite.JDBC\"}\n",
    "predicates = [\n",
    "  \"DEST_COUNTRY_NAME = 'Sweden' OR ORIGIN_COUNTRY_NAME = 'Sweden'\",\n",
    "  \"DEST_COUNTRY_NAME = 'Anguilla' OR ORIGIN_COUNTRY_NAME = 'Anguilla'\"]\n",
    "spark.read.jdbc(url, tablename, predicates=predicates, properties=props).show()\n",
    "spark.read.jdbc(url,tablename,predicates=predicates,properties=props)\\\n",
    "  .rdd.getNumPartitions\n",
    "\n",
    "props = {\"driver\":\"org.sqlite.JDBC\"}\n",
    "predicates = [\n",
    "  \"DEST_COUNTRY_NAME != 'Sweden' OR ORIGIN_COUNTRY_NAME != 'Sweden'\",\n",
    "  \"DEST_COUNTRY_NAME != 'Anguilla' OR ORIGIN_COUNTRY_NAME != 'Anguilla'\"]\n",
    "spark.read.jdbc(url, tablename, predicates=predicates, properties=props).count()"
   ]
  },
  {
   "cell_type": "markdown",
   "id": "193b1d85-c55f-47be-8250-f1c924e8fa85",
   "metadata": {},
   "source": [
    "## 슬라이딩 윈도우 기반의 파티셔닝\n",
    "- 조건절을 기반으로 파티셔닝 하는 방법 (예제 : count 컬럼을 기준으로 분할)\n",
    "- 처음과 마지막 파티션 사이의 최솟값, 최댓값을 사용 -> 전체 파티션 수 설정"
   ]
  },
  {
   "cell_type": "code",
   "execution_count": null,
   "id": "94b14962-3588-4223-9d55-bd0f3ff7039e",
   "metadata": {},
   "outputs": [],
   "source": [
    "colName = \"count\"\n",
    "lowerBound = 0L\n",
    "upperBound = 348113L # this is the max count in our database\n",
    "numPartitions = 10\n",
    "\n",
    "spark.read.jdbc(url, tablename, column=colName, properties=props,\n",
    "                lowerBound=lowerBound, upperBound=upperBound,\n",
    "                numPartitions=numPartitions).count() # 255"
   ]
  },
  {
   "cell_type": "markdown",
   "id": "0430a3a3-5cd0-4205-ba66-aab1adcbee0f",
   "metadata": {},
   "source": [
    "## SQL 데이터베이스 쓰기"
   ]
  },
  {
   "cell_type": "code",
   "execution_count": null,
   "id": "0406b655-0f41-4934-903c-73a4912f4c10",
   "metadata": {},
   "outputs": [],
   "source": [
    "newPath = \"jdbc:sqlite://tmp/my-sqlite.db\"\n",
    "csvFile.write.jdbc(newPath, tablename, mode=\"overwrite\", properties=props)\n",
    "\n",
    "spark.read.jdbc(newPath, tablename, properties=props).count() # 255\n",
    "\n",
    "csvFile.write.jdbc(newPath, tablename, mode=\"append\", properties=props)\n",
    "\n",
    "spark.read.jdbc(newPath, tablename, properties=props).count() # 765"
   ]
  },
  {
   "cell_type": "markdown",
   "id": "c2731b61-bb7e-44f2-bd11-4afcd8e12816",
   "metadata": {},
   "source": [
    "## 텍스트 파일 \n",
    "- 일반 텍스트 파일도 읽을 수 있음\n",
    "- 각 줄이 DataFrame의 레코드\n",
    "\n",
    "## 텍스트 파일 읽고 쓰기\n",
    "- textFile"
   ]
  },
  {
   "cell_type": "code",
   "execution_count": 32,
   "id": "89b9a669-7fdb-4961-9fda-314972e5850c",
   "metadata": {
    "execution": {
     "iopub.execute_input": "2021-07-18T09:24:25.953201Z",
     "iopub.status.busy": "2021-07-18T09:24:25.952822Z",
     "iopub.status.idle": "2021-07-18T09:24:25.969168Z",
     "shell.execute_reply": "2021-07-18T09:24:25.966499Z",
     "shell.execute_reply.started": "2021-07-18T09:24:25.953060Z"
    }
   },
   "outputs": [
    {
     "ename": "AttributeError",
     "evalue": "'DataFrameReader' object has no attribute 'textFile'",
     "output_type": "error",
     "traceback": [
      "\u001b[0;31m\u001b[0m",
      "\u001b[0;31mAttributeError\u001b[0mTraceback (most recent call last)",
      "\u001b[0;32m<ipython-input-32-ddc0a09e9d3a>\u001b[0m in \u001b[0;36m<module>\u001b[0;34m()\u001b[0m\n\u001b[0;32m----> 1\u001b[0;31m \u001b[0mspark\u001b[0m\u001b[0;34m.\u001b[0m\u001b[0mread\u001b[0m\u001b[0;34m.\u001b[0m\u001b[0mtextFile\u001b[0m\u001b[0;34m(\u001b[0m\u001b[0;34m\"flight-data/csv/2010-summary.csv\"\u001b[0m\u001b[0;34m)\u001b[0m\u001b[0;34m.\u001b[0m\u001b[0mselectExpr\u001b[0m\u001b[0;34m(\u001b[0m\u001b[0;34m\"split(value, ',') as rows \"\u001b[0m\u001b[0;34m)\u001b[0m\u001b[0;34m.\u001b[0m\u001b[0mshow\u001b[0m\u001b[0;34m(\u001b[0m\u001b[0;34m)\u001b[0m\u001b[0;34m\u001b[0m\u001b[0m\n\u001b[0m",
      "\u001b[0;31mAttributeError\u001b[0m: 'DataFrameReader' object has no attribute 'textFile'"
     ]
    }
   ],
   "source": [
    "spark.read.textFile(\"flight-data/csv/2010-summary.csv\")\\\n",
    ".selectExpr(\"split(value, ',') as rows \").show()"
   ]
  },
  {
   "cell_type": "code",
   "execution_count": 34,
   "id": "5168b10d-9847-49ac-a8d9-da1ebbf9e22b",
   "metadata": {
    "execution": {
     "iopub.execute_input": "2021-07-18T09:25:18.799219Z",
     "iopub.status.busy": "2021-07-18T09:25:18.798944Z",
     "iopub.status.idle": "2021-07-18T09:25:19.026972Z",
     "shell.execute_reply": "2021-07-18T09:25:19.024343Z",
     "shell.execute_reply.started": "2021-07-18T09:25:18.799178Z"
    },
    "tags": []
   },
   "outputs": [],
   "source": [
    "csvFile.select(\"DEST_COUNTRY_NAME\").write.text(\"simple-text-file.txt\")"
   ]
  },
  {
   "cell_type": "code",
   "execution_count": null,
   "id": "e4b62316-4ae2-4f29-8c4d-d3d8df4214d2",
   "metadata": {},
   "outputs": [],
   "source": [
    "csvFile.limit(10).select(\"DEST_COUNTRY_NAME\", \"count\")\\\n",
    "  .write.partitionBy(\"count\").text(\"/tmp/five-csv-files2py.csv\")\n",
    "\n",
    "# 파티션에 count를 추가하여 더 많은 컬럼을 저장할 수 있음 -> 폴더별로 컬럼이 저장됨"
   ]
  },
  {
   "cell_type": "markdown",
   "id": "d7c27c01-3eee-43af-921d-e41bff0276b8",
   "metadata": {},
   "source": [
    "## 고급 I/O\n",
    "- 버켓팅, 파티셔닝 조절 -> 데이터의 저장 구조 제어\n",
    "- HDFS : 분할 파일로 여러 블록을 나누어 분산 저장\n",
    "- 추천 : 파케이 파일 포맷, GZIP 압축 방식\n",
    "\n",
    "### 병렬로 데이터 읽기\n",
    "- 폴더의 개별 파일 -> DataFrame의 파티션\n",
    "- 여러 파일을 동시에 익스큐터가 읽을 수 있음\n",
    "\n",
    "### 병렬로 데이터 쓰기\n",
    "- 데이터 파티션 당 하나의 파일이 작성\n",
    "- repartition(5) -> 폴더 안에 5개의 파일을 생성\n",
    "- 폴더명이 조건절로 저장됨 : DEST_COUNTRY_NAME = Senegal\n",
    "\n",
    "### 버켓팅\n",
    "- 각 파일에 저장된 데이터를 제어할 수 있는 조직화 기법\n",
    "- 동일한 버킷 ID를 가진 데이터가 하나의 물리적 파티션에 모두 모여있기 때문에, 데이터를 읽을 때 셔플을 피할 수 있음\n",
    "- 조인 및 집계 시 발생하는 고비용의 셔플을 피할 수 있음\n",
    "- 버켓 단위로 데이터를 모아 일정 수의 파일로 저장 \n",
    "\n",
    "## 파일 크기 관리\n",
    "- 작은 파일을 많이 생성하면 메타데이터에 관리 부하가 생김 -> HDFS 시스템은 작은 크기의 파일을 다루는 시스템이 아님 -> 작은 크기 파일 문제\n",
    "- 그런데, 크기가 커도 비효율적\n",
    "- 스파크 2.2에서는 자동으로 파일 크기를 제어할 수 있음 -> maxRecordsPerFile 파일 당 레코드 수 지정\n",
    "- df.write.option(\"maxRecordsPerFile\", 5000)"
   ]
  },
  {
   "cell_type": "code",
   "execution_count": null,
   "id": "66d3a585-5bb3-4851-a9f1-a65ee9154748",
   "metadata": {},
   "outputs": [],
   "source": []
  }
 ],
 "metadata": {
  "kernelspec": {
   "display_name": "PySpark-driver-mem-16g",
   "language": "python",
   "name": "pyspark-driver-mem-16g"
  },
  "language_info": {
   "codemirror_mode": {
    "name": "ipython",
    "version": 2
   },
   "file_extension": ".py",
   "mimetype": "text/x-python",
   "name": "python",
   "nbconvert_exporter": "python",
   "pygments_lexer": "ipython2",
   "version": "2.7.18"
  }
 },
 "nbformat": 4,
 "nbformat_minor": 5
}
